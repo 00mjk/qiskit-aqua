{
 "cells": [
  {
   "cell_type": "markdown",
   "metadata": {},
   "source": [
    "# HHL\n",
    "In the following notebook we are going to let a real quantum device solve a linear system $A\\vec x = \\vec b$ ."
   ]
  },
  {
   "cell_type": "markdown",
   "metadata": {},
   "source": [
    "\n",
    "As usual, lets get set up.\n",
    "We import the classes and functions from qiskit as well as some custom functions that will help us adding special gates to the circuit"
   ]
  },
  {
   "cell_type": "code",
   "execution_count": 1,
   "metadata": {},
   "outputs": [],
   "source": [
    "from qiskit import QuantumRegister, ClassicalRegister, QuantumCircuit, execute\n",
    "from qiskit.tools.qi.pauli import Pauli\n",
    "from qiskit_aqua import Operator, QuantumAlgorithm, AlgorithmError\n",
    "from qiskit_aqua import get_initial_state_instance, get_iqft_instance\n",
    "\n",
    "from qiskit.tools.visualization._circuit_visualization import matplotlib_circuit_drawer\n",
    "\n",
    "import numpy as np\n",
    "\n",
    "\n",
    "from qpe import QPE\n",
    "from fix_rotation import add_eigenvalue_inversion, add_measurement_gates, generate_matrix"
   ]
  },
  {
   "cell_type": "code",
   "execution_count": 2,
   "metadata": {},
   "outputs": [
    {
     "name": "stdout",
     "output_type": "stream",
     "text": [
      "2 3 1\n"
     ]
    }
   ],
   "source": [
    "N = 2\n",
    "N_ev = 3\n",
    "N_sv = int(np.log2(N))\n",
    "measure = True\n",
    "backend = \"local_qasm_simulator\"\n",
    "print(N,N_ev,N_sv)"
   ]
  },
  {
   "cell_type": "markdown",
   "metadata": {},
   "source": [
    "The following routine will generate a matrix by adding multiple Pauli matrices.\n",
    "We restrict our linear system to be real valued (i.e. not complex) and make use of the Pauli matrices $\\sigma_{I}=\\begin{pmatrix}1 & 0 \\\\ 0 & 1 \\end{pmatrix}$, \n",
    "$\\sigma_{x}=\\begin{pmatrix}0 & 1 \\\\ 1 & 0 \\end{pmatrix}$, $\\sigma_{z}=\\begin{pmatrix}1 & 0 \\\\ 0 & -1 \\end{pmatrix}$\n",
    "Now we have a matrix $A=\\sum_i \\alpha_{i} \\sigma_{l_{i}}\\ l_{i}\\in \\{I,x,z\\}$ that is going to specify our linear system!"
   ]
  },
  {
   "cell_type": "markdown",
   "metadata": {},
   "source": [
    "## State preparation and QPE\n",
    "\n",
    "The HHL algorithm starts off with the preparation of $\\vec b$ in one register followed by the Quantum Phase Estimation that decomposes $\\vec b$ into eigenvectors of $A$ and prepares the eigenvalues in a second register."
   ]
  },
  {
   "cell_type": "code",
   "execution_count": 20,
   "metadata": {
    "scrolled": false
   },
   "outputs": [
    {
     "name": "stdout",
     "output_type": "stream",
     "text": [
      "[[ 2 -1]\n",
      " [-1  2]]\n",
      "Eigenvalues: [1. 3.]\n"
     ]
    }
   ],
   "source": [
    "\n",
    "matrix =generate_matrix()#np.array([[2, -1 ],[-1, 2]])#generate_matrix()\n",
    "\n",
    "w, v = np.linalg.eigh(matrix) \n",
    "\n",
    "print(matrix)\n",
    "print(\"Eigenvalues:\", w)\n",
    "\n",
    "invec = sum([v[:,i] for i in range(N)])\n",
    "invec /= np.sqrt(invec.dot(invec.conj()))\n",
    "\n",
    "invec =  [1,0]#1/np.sqrt(2)*np.array([1,1])#[1,0]#\n",
    "\n",
    "params = {\n",
    "    'algorithm': {\n",
    "            'name': 'QPE',\n",
    "            'num_ancillae':3,\n",
    "            'num_time_slices': 1,\n",
    "            'expansion_mode': 'trotter',\n",
    "            'expansion_order': 1,\n",
    "            'hermitian_matrix': True,\n",
    "            'negative_evals': False,\n",
    "            'backend' : \"local_qasm_simulator\",\n",
    "            'evo_time': 2*np.pi/16,\n",
    "            #'use_basis_gates': False,\n",
    "    },\n",
    "    \"iqft\": {\n",
    "        \"name\": \"STANDARD\"\n",
    "    },\n",
    "    \"initial_state\": {\n",
    "        \"name\": \"CUSTOM\",\n",
    "        \"state_vector\": invec#[1/2**0.5,1/2**0.5]\n",
    "    }\n",
    "}\n",
    "\n",
    "\n"
   ]
  },
  {
   "cell_type": "code",
   "execution_count": null,
   "metadata": {},
   "outputs": [],
   "source": [
    "qpe = QPE()\n",
    "qpe.init_params(params, matrix)\n",
    "\n",
    "qc = qpe._setup_qpe(measure=False)\n",
    "#matplotlib_circuit_drawer(qc)"
   ]
  },
  {
   "cell_type": "markdown",
   "metadata": {},
   "source": [
    "Take a look at above circuit. The gate(s) in front of the first U gate that is applied to quibit 0 of the topmost register, prepare us the initial state vector $\\vec b$ .\n",
    "Following, so called Hamiltonian simulation techniques is used to apply the operator $\\exp{i 2\\pi A/t}$ to our register containing the state vector. \n"
   ]
  },
  {
   "cell_type": "markdown",
   "metadata": {},
   "source": [
    "## Inversion and rotation\n",
    "The last step before obtaining our measurement is to invert $A$. We have $\\vec b$ represented in the basis of eigenvectors of A so simply using the inverse eigenvalues gives us $A^{-1}$ . \n",
    "Given that this transformation of the eigenvalues from $\\lambda$ to $\\lambda^{-1}$ is not unitary, we have a probability of failing this step. Unfortunately we do not have direct access to the state of the qubits and we can not \"measure\" if the inversion suceeded. Instead we will perform a rotation of $\\arcsin{\\frac{C}{\\lambda}}$ on a \"control\" qubit."
   ]
  },
  {
   "cell_type": "code",
   "execution_count": 5,
   "metadata": {},
   "outputs": [
    {
     "data": {
      "text/plain": [
       "<qiskit._quantumcircuit.QuantumCircuit at 0x7f294eebbbe0>"
      ]
     },
     "execution_count": 5,
     "metadata": {},
     "output_type": "execute_result"
    }
   ],
   "source": [
    "\n",
    "add_eigenvalue_inversion(qc)\n",
    "#matplotlib_circuit_drawer(qc)"
   ]
  },
  {
   "cell_type": "code",
   "execution_count": 6,
   "metadata": {
    "scrolled": false
   },
   "outputs": [],
   "source": [
    "qc += qpe._construct_inverse()\n",
    "#matplotlib_circuit_drawer(qc)"
   ]
  },
  {
   "cell_type": "markdown",
   "metadata": {},
   "source": [
    "Now we add some measurements to our circuit. The qubit storing the solution vector and the control qubit are read out into classical registers"
   ]
  },
  {
   "cell_type": "code",
   "execution_count": 7,
   "metadata": {
    "scrolled": false
   },
   "outputs": [],
   "source": [
    "add_measurement_gates(qc)\n",
    "\n",
    "#matplotlib_circuit_drawer(qc)"
   ]
  },
  {
   "cell_type": "markdown",
   "metadata": {},
   "source": [
    "We are ready to run our HHL program! "
   ]
  },
  {
   "cell_type": "code",
   "execution_count": 8,
   "metadata": {},
   "outputs": [
    {
     "name": "stdout",
     "output_type": "stream",
     "text": [
      "{'0 0': 12, '0 1': 64, '1 0': 4760, '1 1': 164}\n"
     ]
    }
   ],
   "source": [
    "result = execute(qc, backend=backend, shots=5000).result()\n",
    "print(result.get_counts())"
   ]
  },
  {
   "cell_type": "code",
   "execution_count": 9,
   "metadata": {},
   "outputs": [
    {
     "name": "stdout",
     "output_type": "stream",
     "text": [
      "2.5625\n"
     ]
    }
   ],
   "source": [
    "N0 = result.get_counts(qc)['1 1']\n",
    "N1 = result.get_counts(qc)['0 1']\n",
    "print(N0/N1)\n",
    "\n"
   ]
  },
  {
   "cell_type": "markdown",
   "metadata": {},
   "source": [
    "The ratio of N0 and N1, i.e. the probability of measuring 1, 0 respectively in the solution vector qubit, gives us the relative scale of the two entries in the vector.\n",
    "\n",
    "Lets repeat our process several times to obtain better statistics... "
   ]
  },
  {
   "cell_type": "code",
   "execution_count": 21,
   "metadata": {},
   "outputs": [
    {
     "name": "stdout",
     "output_type": "stream",
     "text": [
      "QPE circuit qasm length is roughly 51.\n",
      "{'0 0': 7158, '0 1': 667, '1 0': 108, '1 1': 167}\n",
      "QPE circuit qasm length is roughly 51.\n",
      "{'0 0': 7161, '0 1': 665, '1 0': 95, '1 1': 179}\n",
      "QPE circuit qasm length is roughly 51.\n",
      "{'0 0': 7137, '0 1': 665, '1 0': 92, '1 1': 206}\n",
      "QPE circuit qasm length is roughly 51.\n",
      "{'0 0': 7164, '0 1': 661, '1 0': 88, '1 1': 187}\n",
      "QPE circuit qasm length is roughly 51.\n",
      "{'0 0': 7155, '0 1': 704, '1 0': 87, '1 1': 154}\n",
      "QPE circuit qasm length is roughly 51.\n",
      "{'0 0': 7147, '0 1': 672, '1 0': 90, '1 1': 191}\n",
      "QPE circuit qasm length is roughly 51.\n",
      "{'0 0': 7169, '0 1': 697, '1 0': 78, '1 1': 156}\n",
      "QPE circuit qasm length is roughly 51.\n",
      "{'0 0': 7184, '0 1': 679, '1 0': 76, '1 1': 161}\n",
      "QPE circuit qasm length is roughly 51.\n",
      "{'0 0': 7098, '0 1': 747, '1 0': 94, '1 1': 161}\n",
      "QPE circuit qasm length is roughly 51.\n",
      "{'0 0': 7133, '0 1': 686, '1 0': 97, '1 1': 184}\n"
     ]
    }
   ],
   "source": [
    "N0 = 0\n",
    "N1 = 0\n",
    "for i in range(10):\n",
    "    qpe = QPE()\n",
    "\n",
    "\n",
    "    qpe.init_params(params, matrix)\n",
    "\n",
    "    qc = qpe._setup_qpe(measure=False)\n",
    "    add_eigenvalue_inversion(qc)\n",
    "    qc += qpe._construct_inverse()\n",
    "    add_measurement_gates(qc)\n",
    "    result = execute(qc, backend=backend, shots=8100).result()\n",
    "    print(result.get_counts(qc))\n",
    "    N0 = N0 + result.get_counts(qc)['1 1']\n",
    "    N1 = N1 + result.get_counts(qc)['0 1']\n",
    "\n",
    "    "
   ]
  },
  {
   "cell_type": "code",
   "execution_count": 22,
   "metadata": {},
   "outputs": [
    {
     "data": {
      "text/plain": [
       "3.9192439862542954"
      ]
     },
     "execution_count": 22,
     "metadata": {},
     "output_type": "execute_result"
    }
   ],
   "source": [
    "N1/N0"
   ]
  },
  {
   "cell_type": "code",
   "execution_count": 12,
   "metadata": {},
   "outputs": [
    {
     "data": {
      "text/plain": [
       "array([0.89868383, 0.10131617])"
      ]
     },
     "execution_count": 12,
     "metadata": {},
     "output_type": "execute_result"
    }
   ],
   "source": []
  },
  {
   "cell_type": "code",
   "execution_count": 13,
   "metadata": {},
   "outputs": [
    {
     "data": {
      "text/plain": [
       "array([0.33333333, 0.66666667])"
      ]
     },
     "execution_count": 13,
     "metadata": {},
     "output_type": "execute_result"
    }
   ],
   "source": []
  },
  {
   "cell_type": "code",
   "execution_count": null,
   "metadata": {},
   "outputs": [],
   "source": []
  },
  {
   "cell_type": "code",
   "execution_count": null,
   "metadata": {},
   "outputs": [],
   "source": []
  }
 ],
 "metadata": {
  "kernelspec": {
   "display_name": "Python 3",
   "language": "python",
   "name": "python3"
  },
  "language_info": {
   "codemirror_mode": {
    "name": "ipython",
    "version": 3
   },
   "file_extension": ".py",
   "mimetype": "text/x-python",
   "name": "python",
   "nbconvert_exporter": "python",
   "pygments_lexer": "ipython3",
   "version": "3.7.0"
  }
 },
 "nbformat": 4,
 "nbformat_minor": 2
}
