{
 "cells": [
  {
   "cell_type": "markdown",
   "metadata": {},
   "source": [
    "# HHL algorithm for solving linear equations\n",
    "In the following notebook, we are going to let a real quantum device solve a linear system $A\\vec x = \\vec b$ .\n",
    "We will use a quantum algorithm that was proposed by Aram Harrow, Avinatan Hassidim, and Seth Lloyd in 2008.\n",
    "Very simplified, one can distinguish 4 main steps that need to be performed on our quantum device:\n",
    "1. Express the solution vector $\\vec b$ as a quantum state $|b\\rangle$ on a register\n",
    "2. Use Quantum Phase Estimation (QPE) to decompose $|b\\rangle$ into eigenvectors of A and obtain A's eigenvalues\n",
    "3. Invert the (in the eigenvector base, diagonal) matrix A to prepare the state $A^{-1}|b\\rangle$ = $|x\\rangle$\n",
    "4. Apply a linear operator M to $|x\\rangle$ to obtain information on the solution vector $\\vec x$\n",
    "\n",
    "Be reminded that in the general case, the entries of $\\vec x$ can not be efficiently read out because we would need to know all coefficients describing the quantum state.\n",
    "In the following example, we ignore this constraint and show for our small linear system as a proof of principle that $\\vec x$ is calculated correctly."
   ]
  },
  {
   "cell_type": "markdown",
   "metadata": {},
   "source": [
    "\n",
    "As usual, lets get set up.\n",
    "We import the classes and functions from qiskit as well as some custom functions that will help us adding special gates to the circuit"
   ]
  },
  {
   "cell_type": "code",
   "execution_count": null,
   "metadata": {},
   "outputs": [],
   "source": [
    "from qiskit import QuantumRegister, ClassicalRegister, QuantumCircuit, execute, register,get_backend,available_backends\n",
    "from qiskit.tools.qi.pauli import Pauli\n",
    "from qiskit_aqua import Operator, QuantumAlgorithm, AlgorithmError\n",
    "from qiskit_aqua import get_initial_state_instance, get_iqft_instance\n",
    "\n",
    "from qiskit.tools.visualization._circuit_visualization import matplotlib_circuit_drawer\n",
    "\n",
    "import numpy as np\n",
    "\n",
    "\n",
    "from qpe import QPE\n",
    "from fix_rotation import add_eigenvalue_inversion, add_measurement_gates, generate_matrix, print_linsystem"
   ]
  },
  {
   "cell_type": "code",
   "execution_count": null,
   "metadata": {},
   "outputs": [],
   "source": [
    "try:\n",
    "    import Qconfig\n",
    "    qx_config = {\n",
    "       \"APItoken\": Qconfig.APItoken,\n",
    "       \"url\": Qconfig.config['url']}\n",
    "except Exception as e:\n",
    "    print(e)\n",
    "    qx_config = {\n",
    "       \"APItoken\":\"6481b0a273869ee834cbd427bbd4480bea29047f6828d578850275ddf012c627b8de551f7297713eb4175791b7c024d11e58e80c47f243b734c4ce427110c3e3\",\n",
    "       \"url\":\"https://quantumexperience.ng.bluemix.net/api\"}\n",
    "    #register(qx_config['APItoken'], qx_config['url'])"
   ]
  },
  {
   "cell_type": "code",
   "execution_count": null,
   "metadata": {},
   "outputs": [],
   "source": [
    "available_backends({'local': False, 'simulator': False})"
   ]
  },
  {
   "cell_type": "code",
   "execution_count": null,
   "metadata": {},
   "outputs": [],
   "source": [
    "N = 2\n",
    "N_ev = 3\n",
    "N_sv = int(np.log2(N))\n",
    "measure = True\n",
    "backend = \"local_qasm_simulator\"#\"ibmqx5\"\n",
    "print(N,N_ev,N_sv)"
   ]
  },
  {
   "cell_type": "markdown",
   "metadata": {},
   "source": [
    "## State preparation and QPE\n",
    "\n",
    "The HHL algorithm starts off with the preparation of $\\vec b$ in one register followed by the Quantum Phase Estimation that decomposes $|b\\rangle$ into eigenvectors of $A$ and prepares the eigenvalues in a second register."
   ]
  },
  {
   "cell_type": "code",
   "execution_count": null,
   "metadata": {
    "scrolled": false
   },
   "outputs": [],
   "source": [
    "matrix =generate_matrix()#np.array([[2, -1 ],[-1, 2]])#generate_matrix()\n",
    "w, v = np.linalg.eigh(matrix) \n",
    "\n",
    "print(matrix)\n",
    "print(\"Eigenvalues:\", w)\n",
    "\n",
    "invec =  [1,0]#1/np.sqrt(2)*np.array([1,1])#[1,0]#\n",
    "\n",
    "params = {\n",
    "    'algorithm': {\n",
    "            'name': 'QPE',\n",
    "            'num_ancillae':2,\n",
    "            'num_time_slices': 1,\n",
    "            'expansion_mode': 'trotter',\n",
    "            'expansion_order': 1,\n",
    "            'hermitian_matrix': True,\n",
    "            'negative_evals': False,\n",
    "            'backend' : backend,#\"local_qasm_simulator\",\n",
    "            'evo_time': 2*np.pi/32,\n",
    "            #'use_basis_gates': False,\n",
    "    },\n",
    "    \"iqft\": {\n",
    "        \"name\": \"STANDARD\"\n",
    "    },\n",
    "    \"initial_state\": {\n",
    "        \"name\": \"CUSTOM\",\n",
    "        \"state_vector\": invec#[1/2**0.5,1/2**0.5]\n",
    "    }\n",
    "}"
   ]
  },
  {
   "cell_type": "code",
   "execution_count": null,
   "metadata": {},
   "outputs": [],
   "source": [
    "qpe = QPE()\n",
    "qpe.init_params(params, matrix)\n",
    "\n",
    "qc = qpe._setup_qpe(measure=False)\n",
    "matplotlib_circuit_drawer(qc)"
   ]
  },
  {
   "cell_type": "markdown",
   "metadata": {},
   "source": [
    "Take a look at above circuit. The gate(s) in front of the first U gate that is applied to quibit 0 of the topmost register, prepare us the initial state vector $\\vec b$ .\n",
    "Following, so called Hamiltonian simulation techniques are used to apply the operator $\\exp{i At}$ to our register containing the state vector. These\n"
   ]
  },
  {
   "cell_type": "markdown",
   "metadata": {},
   "source": [
    "## Inversion and rotation\n",
    "The last step before we can perform our measurement is to invert $A$. We have $\\vec b$ represented in the basis of eigenvectors of A so simply using the inverse eigenvalues gives us $A^{-1}$ . \n",
    "Given that this transformation of the eigenvalues from $\\lambda$ to $\\lambda^{-1}$ is not unitary, we have a probability of failing this step. Unfortunately we do not have direct access to the state of the qubits and we can not \"measure\" if the inversion suceeded.\n",
    "Instead we will perform a rotation of $\\arcsin{\\frac{C}{\\lambda}}$ on a \"control\" qubit. One can show that the state of the control qubit changes from $|0\\rangle$ to $\\sqrt{1-\\frac{C^2}{\\lambda_{j}^2}}|0\\rangle+\\frac{C}{\\lambda_j}|1\\rangle$ (corresponding to a rotation around the y axis of the Bloch sphere), hence a measurement result of 1 in the control qubit assures us, that the inversion has suceeded."
   ]
  },
  {
   "cell_type": "code",
   "execution_count": null,
   "metadata": {},
   "outputs": [],
   "source": [
    "\n",
    "add_eigenvalue_inversion(qc)\n",
    "matplotlib_circuit_drawer(qc)"
   ]
  },
  {
   "cell_type": "code",
   "execution_count": null,
   "metadata": {
    "scrolled": false
   },
   "outputs": [],
   "source": [
    "qc += qpe._construct_inverse()\n",
    "matplotlib_circuit_drawer(qc)"
   ]
  },
  {
   "cell_type": "markdown",
   "metadata": {},
   "source": [
    "Now we add some measurements to our circuit. The qubit storing the solution vector and the control qubit are read out into classical registers"
   ]
  },
  {
   "cell_type": "code",
   "execution_count": null,
   "metadata": {
    "scrolled": false
   },
   "outputs": [],
   "source": [
    "add_measurement_gates(qc)\n",
    "matplotlib_circuit_drawer(qc)"
   ]
  },
  {
   "cell_type": "markdown",
   "metadata": {},
   "source": [
    "We are ready to run our HHL program! "
   ]
  },
  {
   "cell_type": "code",
   "execution_count": null,
   "metadata": {},
   "outputs": [],
   "source": [
    "result = execute(qc, backend=backend, shots=1024).result()\n",
    "print(result.get_counts())"
   ]
  },
  {
   "cell_type": "code",
   "execution_count": null,
   "metadata": {},
   "outputs": [],
   "source": [
    "N0 = result.get_counts(qc)['1 1']\n",
    "N1 = result.get_counts(qc)['0 1']\n",
    "print(N1/N0)"
   ]
  },
  {
   "cell_type": "markdown",
   "metadata": {},
   "source": [
    "The ratio of N0 and N1, i.e. the  relative probability of measuring 1, 0 respectively in the solution vector qubit, gives us the relative scale of the two entries in the vector.\n",
    "\n",
    "Lets repeat our program several times to obtain better statistics... "
   ]
  },
  {
   "cell_type": "code",
   "execution_count": null,
   "metadata": {},
   "outputs": [],
   "source": [
    "N0 = 0\n",
    "N1 = 0\n",
    "for i in range(5):\n",
    "    qpe = QPE()\n",
    "\n",
    "\n",
    "    qpe.init_params(params, matrix)\n",
    "\n",
    "    qc = qpe._setup_qpe(measure=False)\n",
    "    add_eigenvalue_inversion(qc)\n",
    "    qc += qpe._construct_inverse()\n",
    "    add_measurement_gates(qc)\n",
    "    result = execute(qc, backend=backend, shots=8100).result()\n",
    "    print(result.get_counts(qc))\n",
    "    N0 = N0 + result.get_counts(qc)['1 1']\n",
    "    N1 = N1 + result.get_counts(qc)['0 1']\n",
    "\n",
    "    "
   ]
  },
  {
   "cell_type": "code",
   "execution_count": null,
   "metadata": {
    "scrolled": false
   },
   "outputs": [],
   "source": [
    "print_linsystem(matrix,np.sqrt(N1/N0),invec)"
   ]
  },
  {
   "cell_type": "code",
   "execution_count": null,
   "metadata": {},
   "outputs": [],
   "source": []
  }
 ],
 "metadata": {
  "kernelspec": {
   "display_name": "Python 3",
   "language": "python",
   "name": "python3"
  },
  "language_info": {
   "codemirror_mode": {
    "name": "ipython",
    "version": 3
   },
   "file_extension": ".py",
   "mimetype": "text/x-python",
   "name": "python",
   "nbconvert_exporter": "python",
   "pygments_lexer": "ipython3",
   "version": "3.7.0"
  }
 },
 "nbformat": 4,
 "nbformat_minor": 2
}
