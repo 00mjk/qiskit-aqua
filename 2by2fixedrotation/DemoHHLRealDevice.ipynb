{
 "cells": [
  {
   "cell_type": "markdown",
   "metadata": {},
   "source": [
    "# HHL algorithm for solving linear equations\n",
    "In the following notebook, we are going to let a real quantum device solve a linear system $A\\vec x = \\vec b$ .\n",
    "We will use a quantum algorithm that was proposed by Aram Harrow, Avinatan Hassidim, and Seth Lloyd in 2008.\n",
    "Very simplified, one can distinguish 4 main steps that need to be performed on our quantum device:\n",
    "1. Express the solution vector $\\vec b$ as a quantum state $|b\\rangle$ on a register\n",
    "2. Use Quantum Phase Estimation (QPE) to decompose $|b\\rangle$ into eigenvectors of A and obtain A's eigenvalues\n",
    "3. Invert the (in the eigenvector base, diagonal) matrix A to prepare the state $A^{-1}|b\\rangle$ = $|x\\rangle$\n",
    "4. Apply a linear operator M to $|x\\rangle$ to obtain information on the solution vector $\\vec x$\n",
    "\n",
    "Be reminded that in the general case, the entries of $\\vec x$ can not be efficiently read out because we would need to know all coefficients describing the quantum state.\n",
    "In the following example, we ignore this constraint and show for our small linear system as a proof of principle that $\\vec x$ is calculated correctly."
   ]
  },
  {
   "cell_type": "markdown",
   "metadata": {},
   "source": [
    "\n",
    "As usual, lets get set up.\n",
    "We import the classes and functions from qiskit as well as some custom functions that will help us adding special gates to the circuit"
   ]
  },
  {
   "cell_type": "code",
   "execution_count": 27,
   "metadata": {},
   "outputs": [
    {
     "name": "stdout",
     "output_type": "stream",
     "text": [
      "The autoreload extension is already loaded. To reload it, use:\n",
      "  %reload_ext autoreload\n"
     ]
    }
   ],
   "source": [
    "%load_ext autoreload"
   ]
  },
  {
   "cell_type": "code",
   "execution_count": 28,
   "metadata": {},
   "outputs": [],
   "source": [
    "%autoreload 2"
   ]
  },
  {
   "cell_type": "code",
   "execution_count": 29,
   "metadata": {},
   "outputs": [],
   "source": [
    "from qiskit import QuantumRegister, ClassicalRegister, QuantumCircuit, execute, register,get_backend,available_backends,least_busy\n",
    "from qiskit.tools.qi.pauli import Pauli\n",
    "from qiskit_aqua import Operator, QuantumAlgorithm, AlgorithmError\n",
    "from qiskit_aqua import get_initial_state_instance, get_iqft_instance\n",
    "from fix_rotation import add_eigenvalue_inversion, add_measurement_gates, generate_matrix, print_linsystem,add_eigenvalue_inversion_q\n",
    "\n",
    "from qiskit.tools.visualization._circuit_visualization import matplotlib_circuit_drawer\n",
    "\n",
    "import numpy as np\n",
    "\n",
    "\n",
    "from qpe import QPE\n"
   ]
  },
  {
   "cell_type": "code",
   "execution_count": 30,
   "metadata": {},
   "outputs": [
    {
     "name": "stdout",
     "output_type": "stream",
     "text": [
      "No module named 'Qconfig'\n"
     ]
    }
   ],
   "source": [
    "try:\n",
    "    import Qconfig\n",
    "    qx_config = {\n",
    "       \"APItoken\": Qconfig.APItoken,\n",
    "       \"url\": Qconfig.config['url']}\n",
    "except Exception as e:\n",
    "    print(e)\n",
    "    qx_config = {\n",
    "       \"APItoken\":\"6481b0a273869ee834cbd427bbd4480bea29047f6828d578850275ddf012c627b8de551f7297713eb4175791b7c024d11e58e80c47f243b734c4ce427110c3e3\",\n",
    "       \"url\":\"https://quantumexperience.ng.bluemix.net/api\"}\n",
    "    register(qx_config['APItoken'], qx_config['url'])"
   ]
  },
  {
   "cell_type": "code",
   "execution_count": null,
   "metadata": {},
   "outputs": [],
   "source": []
  },
  {
   "cell_type": "code",
   "execution_count": 31,
   "metadata": {},
   "outputs": [
    {
     "name": "stdout",
     "output_type": "stream",
     "text": [
      "2 2 1\n"
     ]
    }
   ],
   "source": [
    "N = 2\n",
    "N_ev = 2\n",
    "N_sv = int(np.log2(N))\n",
    "measure = True\n",
    "backend = \"local_qasm_simulator\"\n",
    "print(N,N_ev,N_sv)"
   ]
  },
  {
   "cell_type": "markdown",
   "metadata": {},
   "source": [
    "## State preparation and QPE\n",
    "\n",
    "The HHL algorithm starts off with the preparation of $\\vec b$ in one register followed by the Quantum Phase Estimation that decomposes $|b\\rangle$ into eigenvectors of $A$ and prepares the eigenvalues in a second register."
   ]
  },
  {
   "cell_type": "code",
   "execution_count": 41,
   "metadata": {
    "scrolled": false
   },
   "outputs": [
    {
     "name": "stdout",
     "output_type": "stream",
     "text": [
      "[[ 2 -1]\n",
      " [-1  2]]\n",
      "Eigenvalues: [1. 3.]\n"
     ]
    }
   ],
   "source": [
    "matrix =generate_matrix()#np.array([[2, -1 ],[-1, 2]])#generate_matrix()\n",
    "w, v = np.linalg.eigh(matrix) \n",
    "\n",
    "print(matrix)\n",
    "print(\"Eigenvalues:\", w)\n",
    "\n",
    "invec =  [1,0]#1/np.sqrt(2)*np.array([1,1])#[1,0]#[1,0]#\n",
    "\n",
    "params = {\n",
    "    'algorithm': {\n",
    "            'name': 'QPE',\n",
    "            'num_ancillae':2,\n",
    "            'num_time_slices': 1,\n",
    "            'expansion_mode': 'trotter',\n",
    "            'expansion_order': 1,\n",
    "            'hermitian_matrix': True,\n",
    "            'negative_evals': False,\n",
    "            'backend' : backend,#\"local_qasm_simulator\",\n",
    "            'evo_time': 2*np.pi/4,\n",
    "            #'use_basis_gates': False,\n",
    "    },\n",
    "    \"iqft\": {\n",
    "        \"name\": \"STANDARD\"\n",
    "    },\n",
    "    \"initial_state\": {\n",
    "        \"name\": \"CUSTOM\",\n",
    "        \"state_vector\": invec#[1/2**0.5,1/2**0.5]\n",
    "    }\n",
    "}"
   ]
  },
  {
   "cell_type": "code",
   "execution_count": 53,
   "metadata": {},
   "outputs": [
    {
     "name": "stdout",
     "output_type": "stream",
     "text": [
      "QPE circuit qasm length is roughly 29.\n"
     ]
    }
   ],
   "source": [
    "qpe = QPE()\n",
    "qpe.init_params(params, matrix)\n",
    "\n",
    "qc = qpe._setup_qpe(measure=False)\n",
    "c1 = ClassicalRegister(2, name='controlbit')\n",
    "c2 = ClassicalRegister(N_sv, name='solution_vector')\n",
    "c = ClassicalRegister(2, name='c')\n",
    "qc.add(c)\n",
    "qc.add(c1)\n",
    "qc.add(c2)\n",
    "#matplotlib_circuit_drawer(qc)"
   ]
  },
  {
   "cell_type": "markdown",
   "metadata": {},
   "source": [
    "Take a look at above circuit. The gate(s) in front of the first U gate that is applied to quibit 0 of the topmost register, prepare us the initial state vector $\\vec b$ .\n",
    "Following, so called Hamiltonian simulation techniques are used to apply the operator $\\exp{i At}$ to our register containing the state vector. These\n"
   ]
  },
  {
   "cell_type": "markdown",
   "metadata": {},
   "source": [
    "## Inversion and rotation\n",
    "The last step before we can perform our measurement is to invert $A$. We have $\\vec b$ represented in the basis of eigenvectors of A so simply using the inverse eigenvalues gives us $A^{-1}$ . \n",
    "Given that this transformation of the eigenvalues from $\\lambda$ to $\\lambda^{-1}$ is not unitary, we have a probability of failing this step. Unfortunately we do not have direct access to the state of the qubits and we can not \"measure\" if the inversion suceeded.\n",
    "Instead we will perform a rotation of $\\arcsin{\\frac{C}{\\lambda}}$ on a \"control\" qubit. One can show that the state of the control qubit changes from $|0\\rangle$ to $\\sqrt{1-\\frac{C^2}{\\lambda_{j}^2}}|0\\rangle+\\frac{C}{\\lambda_j}|1\\rangle$ (corresponding to a rotation around the y axis of the Bloch sphere), hence a measurement result of 1 in the control qubit assures us, that the inversion has suceeded."
   ]
  },
  {
   "cell_type": "code",
   "execution_count": 54,
   "metadata": {},
   "outputs": [],
   "source": [
    "\n",
    "add_eigenvalue_inversion_q(qc)\n",
    "#matplotlib_circuit_drawer(qc)"
   ]
  },
  {
   "cell_type": "code",
   "execution_count": 55,
   "metadata": {
    "scrolled": false
   },
   "outputs": [],
   "source": [
    "qc += qpe._construct_inverse()\n",
    "#matplotlib_circuit_drawer(qc)"
   ]
  },
  {
   "cell_type": "markdown",
   "metadata": {},
   "source": [
    "Now we add some measurements to our circuit. The qubit storing the solution vector and the control qubit are read out into classical registers"
   ]
  },
  {
   "cell_type": "code",
   "execution_count": 56,
   "metadata": {
    "scrolled": false
   },
   "outputs": [
    {
     "data": {
      "image/png": "[encoded data removed]",
      "text/plain": [
       "<Figure size 1384.6x2365.86 with 1 Axes>"
      ]
     },
     "metadata": {},
     "output_type": "display_data"
    }
   ],
   "source": [
    "add_measurement_gates(qc)\n",
    "matplotlib_circuit_drawer(qc)"
   ]
  },
  {
   "cell_type": "markdown",
   "metadata": {},
   "source": [
    "We are ready to run our HHL program! "
   ]
  },
  {
   "cell_type": "code",
   "execution_count": 57,
   "metadata": {},
   "outputs": [
    {
     "name": "stdout",
     "output_type": "stream",
     "text": [
      "{'0 00 00': 3, '0 01 00': 23, '1 00 00': 2889, '1 01 00': 109}\n"
     ]
    }
   ],
   "source": [
    "result = execute(qc, backend=backend, shots=3024).result()\n",
    "print(result.get_counts())"
   ]
  },
  {
   "cell_type": "code",
   "execution_count": 58,
   "metadata": {},
   "outputs": [
    {
     "name": "stdout",
     "output_type": "stream",
     "text": [
      "0.21100917431192662\n"
     ]
    }
   ],
   "source": [
    "N0 = result.get_counts(qc)['1 01 00']\n",
    "N1 = result.get_counts(qc)['0 01 00']\n",
    "print(N1/N0)"
   ]
  },
  {
   "cell_type": "markdown",
   "metadata": {},
   "source": [
    "The ratio of N0 and N1, i.e. the  relative probability of measuring 1, 0 respectively in the solution vector qubit, gives us the relative scale of the two entries in the vector.\n",
    "\n",
    "Lets repeat our program several times to obtain better statistics... "
   ]
  },
  {
   "cell_type": "code",
   "execution_count": 67,
   "metadata": {},
   "outputs": [
    {
     "name": "stdout",
     "output_type": "stream",
     "text": [
      "[[ 2 -1]\n",
      " [-1  2]]\n",
      "Eigenvalues: [1. 3.]\n"
     ]
    }
   ],
   "source": [
    "matrix =generate_matrix()\n",
    "w, v = np.linalg.eigh(matrix) \n",
    "\n",
    "print(matrix)\n",
    "print(\"Eigenvalues:\", w)\n",
    "\n",
    "invec =  1/np.sqrt(2)*np.array([1,1])#[1,0]#1/np.sqrt(2)*np.array([1,1])#[1,0]#[1,0]#\n",
    "\n",
    "params = {\n",
    "    'algorithm': {\n",
    "            'name': 'QPE',\n",
    "            'num_ancillae':2,\n",
    "            'num_time_slices': 1,\n",
    "            'expansion_mode': 'trotter',\n",
    "            'expansion_order': 1,\n",
    "            'hermitian_matrix': True,\n",
    "            'negative_evals': False,\n",
    "            'backend' : backend,#\"local_qasm_simulator\",\n",
    "            'evo_time': 2*np.pi/4,\n",
    "            #'use_basis_gates': False,\n",
    "    },\n",
    "    \"iqft\": {\n",
    "        \"name\": \"STANDARD\"\n",
    "    },\n",
    "    \"initial_state\": {\n",
    "        \"name\": \"CUSTOM\",\n",
    "        \"state_vector\": invec#[1/2**0.5,1/2**0.5]\n",
    "    }\n",
    "}"
   ]
  },
  {
   "cell_type": "code",
   "execution_count": 68,
   "metadata": {},
   "outputs": [
    {
     "name": "stdout",
     "output_type": "stream",
     "text": [
      "QPE circuit qasm length is roughly 29.\n",
      "{'0 0 00': 3717, '0 1 00': 316, '1 0 00': 3735, '1 1 00': 332}\n",
      "COMPLETED\n",
      "QPE circuit qasm length is roughly 29.\n",
      "{'0 0 00': 3694, '0 1 00': 332, '1 0 00': 3725, '1 1 00': 349}\n",
      "COMPLETED\n",
      "QPE circuit qasm length is roughly 29.\n",
      "{'0 0 00': 3767, '0 1 00': 343, '1 0 00': 3656, '1 1 00': 334}\n",
      "COMPLETED\n",
      "QPE circuit qasm length is roughly 29.\n",
      "{'0 0 00': 3771, '0 1 00': 325, '1 0 00': 3687, '1 1 00': 317}\n",
      "COMPLETED\n",
      "QPE circuit qasm length is roughly 29.\n",
      "{'0 0 00': 3706, '0 1 00': 342, '1 0 00': 3678, '1 1 00': 374}\n",
      "COMPLETED\n",
      "QPE circuit qasm length is roughly 29.\n",
      "{'0 0 00': 3786, '0 1 00': 330, '1 0 00': 3665, '1 1 00': 319}\n",
      "COMPLETED\n",
      "QPE circuit qasm length is roughly 29.\n",
      "{'0 0 00': 3755, '0 1 00': 336, '1 0 00': 3655, '1 1 00': 354}\n",
      "COMPLETED\n",
      "QPE circuit qasm length is roughly 29.\n",
      "{'0 0 00': 3706, '0 1 00': 331, '1 0 00': 3703, '1 1 00': 360}\n",
      "COMPLETED\n",
      "QPE circuit qasm length is roughly 29.\n",
      "{'0 0 00': 3742, '0 1 00': 358, '1 0 00': 3626, '1 1 00': 374}\n",
      "COMPLETED\n",
      "QPE circuit qasm length is roughly 29.\n",
      "{'0 0 00': 3728, '0 1 00': 347, '1 0 00': 3704, '1 1 00': 321}\n",
      "COMPLETED\n"
     ]
    }
   ],
   "source": [
    "from fix_rotation import add_eigenvalue_inversion, add_measurement_gates, generate_matrix, print_linsystem, add_eigenvalue_inversion_q\n",
    "N0 = 0\n",
    "N1 = 0\n",
    "for i in range(10):\n",
    "    qpe = QPE()\n",
    "\n",
    "\n",
    "    qpe.init_params(params, matrix)\n",
    "\n",
    "    qc = qpe._setup_qpe(measure=False)\n",
    "    c1 = ClassicalRegister(1, name='controlbit')\n",
    "    c2 = ClassicalRegister(N_sv, name='solution_vector')\n",
    "    c = ClassicalRegister(2, name='c')\n",
    "    qc.add(c)\n",
    "    qc.add(c1)\n",
    "    qc.add(c2)\n",
    "    add_eigenvalue_inversion_q(qc)\n",
    "    qc += qpe._construct_inverse()\n",
    "    add_measurement_gates(qc)\n",
    "    result = execute(qc, backend=backend, shots=8100).result()\n",
    "    print(result.get_counts(qc))\n",
    "    try:\n",
    "        N0 = N0 + result.get_counts(qc)['1 1 00']\n",
    "    except:\n",
    "        pass\n",
    "    try:\n",
    "        N1 = N1 + result.get_counts(qc)['0 1 00']\n",
    "    except:\n",
    "        pass\n",
    "    print(result)\n",
    "    "
   ]
  },
  {
   "cell_type": "code",
   "execution_count": 69,
   "metadata": {
    "scrolled": false
   },
   "outputs": [
    {
     "data": {
      "text/markdown": [
       "## $\\begin{pmatrix}2&-1\\\\-1&2\\end{pmatrix}$$\\begin{pmatrix}a_0\\\\1.0a_0\\end{pmatrix}$$= \\begin{pmatrix}0.7071067811865475\\\\0.7071067811865475\\end{pmatrix}$"
      ],
      "text/plain": [
       "<IPython.core.display.Markdown object>"
      ]
     },
     "metadata": {},
     "output_type": "display_data"
    },
    {
     "data": {
      "text/markdown": [
       "## $a_0 = 0.7071067811865475$\n",
       " ## $a_0 = 0.7071067811865475$"
      ],
      "text/plain": [
       "<IPython.core.display.Markdown object>"
      ]
     },
     "metadata": {},
     "output_type": "display_data"
    },
    {
     "data": {
      "text/markdown": [
       "## Equation 0 gave a result of $\\begin{pmatrix}0.7071067811865475\\\\0.714850966818892\\end{pmatrix}$"
      ],
      "text/plain": [
       "<IPython.core.display.Markdown object>"
      ]
     },
     "metadata": {},
     "output_type": "display_data"
    },
    {
     "data": {
      "text/markdown": [
       "## Equation 1 gave a result of $\\begin{pmatrix}0.7071067811865475\\\\0.714850966818892\\end{pmatrix}$"
      ],
      "text/plain": [
       "<IPython.core.display.Markdown object>"
      ]
     },
     "metadata": {},
     "output_type": "display_data"
    },
    {
     "data": {
      "text/markdown": [
       "## Correct $\\begin{pmatrix}0.7071067811865475\\\\0.7071067811865475\\end{pmatrix}$"
      ],
      "text/plain": [
       "<IPython.core.display.Markdown object>"
      ]
     },
     "metadata": {},
     "output_type": "display_data"
    }
   ],
   "source": [
    "print_linsystem(matrix,np.sqrt(N1/N0),invec)"
   ]
  },
  {
   "cell_type": "code",
   "execution_count": null,
   "metadata": {},
   "outputs": [],
   "source": []
  },
  {
   "cell_type": "code",
   "execution_count": 16,
   "metadata": {},
   "outputs": [
    {
     "data": {
      "text/plain": [
       "0.25245258338783516"
      ]
     },
     "execution_count": 16,
     "metadata": {},
     "output_type": "execute_result"
    }
   ],
   "source": [
    "N1/N0"
   ]
  },
  {
   "cell_type": "code",
   "execution_count": 17,
   "metadata": {},
   "outputs": [
    {
     "name": "stdout",
     "output_type": "stream",
     "text": [
      "QPE circuit qasm length is roughly 33.\n",
      "[4017, '11', '11']\n",
      "[4007, '10', '10']\n"
     ]
    },
    {
     "data": {
      "text/plain": [
       "{'measurements': [[0.5006231306081754, '11', 3.0],\n",
       "  [0.4993768693918245, '10', 1.0]],\n",
       " 'evo_time': 1.5707963267948966}"
      ]
     },
     "execution_count": 17,
     "metadata": {},
     "output_type": "execute_result"
    }
   ],
   "source": [
    "matrix = generate_matrix()\n",
    "invec =  [1,0]#1/np.sqrt(2)*np.array([1,1])#[1,0]#[1,0]#\n",
    "\n",
    "params = {\n",
    "    'algorithm': {\n",
    "            'name': 'QPE',\n",
    "            'num_ancillae':2,\n",
    "            'num_time_slices': 1,\n",
    "            'expansion_mode': 'trotter',\n",
    "            'expansion_order': 1,\n",
    "            'hermitian_matrix': True,\n",
    "            'negative_evals': False,\n",
    "            'backend' : backend,#\"local_qasm_simulator\",\n",
    "            'evo_time': 2*np.pi/4,\n",
    "            #'use_basis_gates': False,\n",
    "    },\n",
    "    \"iqft\": {\n",
    "        \"name\": \"STANDARD\"\n",
    "    },\n",
    "    \"initial_state\": {\n",
    "        \"name\": \"CUSTOM\",\n",
    "        \"state_vector\": invec#[1/2**0.5,1/2**0.5]\n",
    "    }\n",
    "}\n",
    "\n",
    "qpe = QPE()\n",
    "\n",
    "\n",
    "qpe.init_params(params, matrix)\n",
    "\n",
    "qpe._compute_eigenvalue()\n",
    "#qpe._evo_time"
   ]
  },
  {
   "cell_type": "code",
   "execution_count": null,
   "metadata": {},
   "outputs": [],
   "source": [
    "\n"
   ]
  },
  {
   "cell_type": "markdown",
   "metadata": {},
   "source": [
    "## Real device\n",
    "Now let's execute our quantum program on an IBM Q System. We are using only 4 qubits, so both the 5 qubit and the 16 qubit computers can be utilized."
   ]
  },
  {
   "cell_type": "code",
   "execution_count": 24,
   "metadata": {},
   "outputs": [
    {
     "name": "stdout",
     "output_type": "stream",
     "text": [
      "[[ 2 -1]\n",
      " [-1  2]]\n",
      "Eigenvalues: [1. 3.]\n",
      "Selected backend: ibmqx5\n"
     ]
    }
   ],
   "source": [
    "matrix =generate_matrix()#np.array([[2, -1 ],[-1, 2]])#generate_matrix()\n",
    "w, v = np.linalg.eigh(matrix) \n",
    "backend = least_busy(available_backends({'local': False, 'simulator': False}))#\n",
    "print(matrix)\n",
    "print(\"Eigenvalues:\", w)\n",
    "\n",
    "invec =  [0,1]#1/np.sqrt(2)*np.array([1,1])#[1,0]#[1,0]#\n",
    "\n",
    "params = {\n",
    "    'algorithm': {\n",
    "            'name': 'QPE',\n",
    "            'num_ancillae':2,\n",
    "            'num_time_slices': 1,\n",
    "            'expansion_mode': 'trotter',\n",
    "            'expansion_order': 1,\n",
    "            'hermitian_matrix': True,\n",
    "            'negative_evals': False,\n",
    "            'backend' : backend,\n",
    "            'evo_time': 2*np.pi/4,\n",
    "            \n",
    "    },\n",
    "    \"iqft\": {\n",
    "        \"name\": \"STANDARD\"\n",
    "    },\n",
    "    \"initial_state\": {\n",
    "        \"name\": \"CUSTOM\",\n",
    "        \"state_vector\": invec\n",
    "    }\n",
    "}\n",
    "print(\"Selected backend:\",backend)"
   ]
  },
  {
   "cell_type": "code",
   "execution_count": 25,
   "metadata": {},
   "outputs": [
    {
     "name": "stdout",
     "output_type": "stream",
     "text": [
      "QPE circuit qasm length is roughly 30.\n",
      "{'0 0 00': 338, '1 0 00': 218, '0 1 00': 347, '1 1 00': 276, '0 0 10': 107, '1 0 10': 98, '0 1 10': 160, '1 1 10': 122, '0 0 01': 210, '1 0 01': 203, '0 1 01': 237, '1 1 01': 237, '0 0 11': 96, '1 0 11': 111, '0 1 11': 126, '1 1 11': 114}\n",
      "COMPLETED\n",
      "QPE circuit qasm length is roughly 30.\n",
      "{'0 0 00': 185, '0 0 01': 171, '1 0 00': 224, '1 0 01': 189, '0 0 10': 111, '0 0 11': 100, '1 0 10': 131, '1 0 11': 128, '0 1 00': 341, '0 1 01': 266, '1 1 00': 307, '1 1 01': 246, '0 1 10': 180, '0 1 11': 131, '1 1 10': 156, '1 1 11': 134}\n",
      "COMPLETED\n",
      "QPE circuit qasm length is roughly 30.\n",
      "{'0 0 00': 406, '0 0 10': 223, '0 0 01': 539, '0 0 11': 238, '1 0 00': 266, '1 0 10': 140, '1 0 01': 277, '1 0 11': 181, '0 1 00': 133, '0 1 10': 75, '0 1 01': 158, '0 1 11': 117, '1 1 00': 77, '1 1 10': 43, '1 1 01': 71, '1 1 11': 56}\n",
      "COMPLETED\n"
     ]
    }
   ],
   "source": [
    "from fix_rotation import add_eigenvalue_inversion, add_measurement_gates, generate_matrix, print_linsystem, add_eigenvalue_inversion_q\n",
    "N0_realdev = 0\n",
    "N1_realdev = 0\n",
    "for i in range(3):\n",
    "    qpe = QPE()\n",
    "\n",
    "\n",
    "    qpe.init_params(params, matrix)\n",
    "\n",
    "    qc = qpe._setup_qpe(measure=False)\n",
    "    c1 = ClassicalRegister(1, name='controlbit')\n",
    "    c2 = ClassicalRegister(N_sv, name='solution_vector')\n",
    "    c = ClassicalRegister(2, name='c')\n",
    "    qc.add(c)\n",
    "    qc.add(c1)\n",
    "    qc.add(c2)\n",
    "    add_eigenvalue_inversion_q(qc)\n",
    "    qc += qpe._construct_inverse()\n",
    "    add_measurement_gates(qc)\n",
    "    result = execute(qc, backend=backend, shots=3000).result()\n",
    "    print(result.get_counts(qc))\n",
    "    try:\n",
    "        N0_realdev = N0_realdev + result.get_counts(qc)['1 1 00']\n",
    "    except:\n",
    "        pass\n",
    "    try:\n",
    "        N1_realdev = N1_realdev + result.get_counts(qc)['0 1 00']\n",
    "    except:\n",
    "        pass\n",
    "    print(result)\n",
    "    "
   ]
  },
  {
   "cell_type": "code",
   "execution_count": 26,
   "metadata": {},
   "outputs": [
    {
     "data": {
      "text/markdown": [
       "## $\\begin{pmatrix}2&-1\\\\-1&2\\end{pmatrix}$$\\begin{pmatrix}a_0\\\\0.9a_0\\end{pmatrix}$$= \\begin{pmatrix}0\\\\1\\end{pmatrix}$"
      ],
      "text/plain": [
       "<IPython.core.display.Markdown object>"
      ]
     },
     "metadata": {},
     "output_type": "display_data"
    },
    {
     "data": {
      "text/markdown": [
       "## $a_0 = 0.0$\n",
       " ## $a_0 = 1.25$"
      ],
      "text/plain": [
       "<IPython.core.display.Markdown object>"
      ]
     },
     "metadata": {},
     "output_type": "display_data"
    },
    {
     "data": {
      "text/markdown": [
       "## Equation 0 gave a result of $\\begin{pmatrix}0.0\\\\0.0\\end{pmatrix}$"
      ],
      "text/plain": [
       "<IPython.core.display.Markdown object>"
      ]
     },
     "metadata": {},
     "output_type": "display_data"
    },
    {
     "data": {
      "text/markdown": [
       "## Equation 1 gave a result of $\\begin{pmatrix}1.25\\\\1.120754270115866\\end{pmatrix}$"
      ],
      "text/plain": [
       "<IPython.core.display.Markdown object>"
      ]
     },
     "metadata": {},
     "output_type": "display_data"
    },
    {
     "data": {
      "text/markdown": [
       "## Correct $\\begin{pmatrix}0.3333333333333333\\\\0.6666666666666666\\end{pmatrix}$"
      ],
      "text/plain": [
       "<IPython.core.display.Markdown object>"
      ]
     },
     "metadata": {},
     "output_type": "display_data"
    }
   ],
   "source": [
    "print_linsystem(matrix,np.sqrt(N1_realdev/N0_realdev),invec)"
   ]
  },
  {
   "cell_type": "code",
   "execution_count": null,
   "metadata": {},
   "outputs": [],
   "source": []
  }
 ],
 "metadata": {
  "kernelspec": {
   "display_name": "Python 3",
   "language": "python",
   "name": "python3"
  },
  "language_info": {
   "codemirror_mode": {
    "name": "ipython",
    "version": 3
   },
   "file_extension": ".py",
   "mimetype": "text/x-python",
   "name": "python",
   "nbconvert_exporter": "python",
   "pygments_lexer": "ipython3",
   "version": "3.7.0"
  }
 },
 "nbformat": 4,
 "nbformat_minor": 2
}
