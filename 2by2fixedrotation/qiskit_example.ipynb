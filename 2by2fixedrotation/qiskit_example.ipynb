{
 "cells": [
  {
   "cell_type": "markdown",
   "metadata": {},
   "source": []
  },
  {
   "cell_type": "markdown",
   "metadata": {},
   "source": [
    "# _*Quantum algorithm for linear system of equations*_ \n",
    "***\n",
    "\n",
    "***\n",
    "### Contributors \n",
    "Shan Jin, Xi He, Xiaokai Hou, Li Sun, Dingding Wen, Shaojun Wu and Xiaoting Wang$^{1}$\n",
    "\n",
    "1. Institute of Fundamental and Frontier Sciences, University of Electronic Science and Technology of China，Chengdu, China，610051\n",
    "***"
   ]
  },
  {
   "cell_type": "markdown",
   "metadata": {},
   "source": [
    "## Introduction\n",
    "Solving linear equations is a very common problem in the fields of numerical optimization and machine learning. With the rapid expansion of data sets, solving linear equations becomes more and more difficult for classical computer. However, quantum computers can be used for solving linear systems of algebraic equations with exponential speed up compared with classical computers. Therefore, the use of quantum computers to solve the system of linear equations can greatly reduce the computational complexity and time complexity. \n",
    "\n",
    "#### Experiment design\n",
    "<p>We have a Hermitian $N \\times N$ matrix $A$, and a unit vector $\\vec b$, suppose we would like to find $x$ satisfying $A\\vec x = \\vec b$.[[1]](#cite_1) <br />(1)Represent $b$ as a quantum state $|b\\rangle = \\sum_{i=1}^{N} b_i |i\\rangle$.<br />(2) Apply the conditional Hamiltonian evolution $e^{iAt}$ to $|b\\rangle$ for a superposition of different times $t$. With the phase estimation algorithm, we can decompose $|b\\rangle$ in the eigenbasis of $A$ and to find the corresponding eigenvalues $\\lambda_j$. After this stage, the state of the system is close to $\\sum_{j=1}^{N} \\beta_j |u_j\\rangle |\\lambda_j\\rangle$, where $u_j$ is the eigenvector basis of $A$, and $|b\\rangle = \\sum_{j=1}^{N}\\beta_j |u_j\\rangle$. <br />(3)Uncompute the $|\\lambda_j\\rangle$ register and we get a state which is propotional to $\\sum_{j=1}^{N} \\beta_j \\lambda_{j}^{-1}|u_j\\rangle = A^{-1}|b\\rangle = |x\\rangle$.</p>\n",
    "The schematic diagram of quantum K-Means is the following picture.[[2]](#cite_2) And to make our algorithm can be run using qiskit, we design a more detailed circuit to achieve our algorithm in the next section. \n",
    "<img src=\"../images/hhl_1.jpg\" width=\"400 px\">\n",
    "#### Quantum K-Means circuit\n",
    "<img src=\"../images/hhl_2.png\">\n",
    "#### Parameter declaration\n",
    "Here we set the parameters as follwing, the aim is to ensure the precision.[[3]](#cite_3) <br />\n",
    "$r = 4$, $t_0=2\\pi$, $S = \\begin{pmatrix}1 & 0 \\\\ 0 & i\\end{pmatrix}$, $H = \\frac{1}{\\sqrt{2}}\\begin{pmatrix}1 & 1 \\\\ 1 & -1\\end{pmatrix}$, \n",
    "$R_y(\\theta) = \\begin{pmatrix}cos(\\theta/2) & -sin(\\theta/2) \\\\ sin(\\theta/2) & cos(\\theta/2)\\end{pmatrix}$\n"
   ]
  },
  {
   "cell_type": "markdown",
   "metadata": {},
   "source": [
    "## Data declaration\n",
    "The aim of this algorithm is to solve the linear system of equations. As a demo, we take a linear equation as $A \\vec x = \\vec b$. In this equition, for example, we define the matrix $A$ as $A = \\begin{pmatrix}2 & -1 \\\\ -1 & 2\\end{pmatrix}$ and $\\vec b$ as $\\vec b=\\begin{pmatrix}0 \\\\ 1\\end{pmatrix}$. After making the $A$ and $\\vec b$ as input, we implement the algorithm to obtain the result vector $\\vec x$."
   ]
  },
  {
   "cell_type": "markdown",
   "metadata": {},
   "source": [
    "## Quantum algorithm for linear system of equations program"
   ]
  },
  {
   "cell_type": "code",
   "execution_count": 1,
   "metadata": {},
   "outputs": [],
   "source": [
    "# Checking the version of PYTHON; we only support > 3.5\n",
    "import sys\n",
    "import numpy as np\n",
    "if sys.version_info < (3,5):\n",
    "    raise Exception('Please use Python version 3.5 or greater.')\n",
    "\n",
    "from qiskit import QuantumProgram\n",
    "import math\n",
    "#import Qconfig\n",
    "#Define a QuantumProgram object \n",
    "Q_program = QuantumProgram()\n",
    "#Q_program.set_api(Qconfig.APItoken, Qconfig.config['url'])\n",
    "pi = math.pi\n"
   ]
  },
  {
   "cell_type": "markdown",
   "metadata": {},
   "source": [
    "In this section, we first judge the version of Python and import the packages of qiskit, math to implement the following code. We show our algorithm on the ibm_qasm_simulator, if you need to run it on the real quantum conputer, please remove the \"#\" in frint of \"import Qconfig\" and the set_api() function."
   ]
  },
  {
   "cell_type": "code",
   "execution_count": 12,
   "metadata": {
    "scrolled": false
   },
   "outputs": [
    {
     "name": "stdout",
     "output_type": "stream",
     "text": [
      "COMPLETED\n",
      "{'counts': {'0000': 2, '0100': 7807, '1000': 94, '1100': 289}}\n",
      "COMPLETED\n",
      "{'counts': {'0000': 2, '0100': 7802, '1000': 81, '1100': 307}}\n",
      "COMPLETED\n",
      "{'counts': {'0000': 3, '0100': 7784, '1000': 87, '1100': 318}}\n",
      "COMPLETED\n",
      "{'counts': {'0000': 1, '0100': 7809, '1000': 69, '1100': 313}}\n",
      "COMPLETED\n",
      "{'counts': {'0000': 5, '0100': 7804, '1000': 70, '1100': 313}}\n",
      "COMPLETED\n",
      "{'counts': {'0000': 1, '0100': 7836, '1000': 63, '1100': 292}}\n",
      "COMPLETED\n",
      "{'counts': {'0000': 1, '0100': 7819, '1000': 72, '1100': 300}}\n",
      "COMPLETED\n",
      "{'counts': {'0000': 4, '0100': 7799, '1000': 82, '1100': 307}}\n",
      "COMPLETED\n",
      "{'counts': {'0000': 6, '0100': 7773, '1000': 78, '1100': 335}}\n",
      "COMPLETED\n",
      "{'counts': {'0000': 3, '0100': 7812, '1000': 85, '1100': 292}}\n",
      "781\n",
      "3066\n",
      "0.25472928897586433\n"
     ]
    }
   ],
   "source": [
    "def solve_linear_sys():  \n",
    "\n",
    "   #Q_program.set_api(Qconfig.APItoken, Qconfig.config['url'])     \n",
    "        \n",
    "    # create Quantum Register called \"qr\" with 4 qubits\n",
    "    qr = Q_program.create_quantum_register(\"qr\", 4)\n",
    "    # create Quantum Register called \"cr\" with 4 qubits\n",
    "    cr = Q_program.create_classical_register(\"cr\", 4)\n",
    "    # Creating Quantum Circuit called \"qc\" involving your Quantum Register \"qr\"\n",
    "    # and your Classical Register \"cr\"\n",
    "    qc = Q_program.create_circuit(\"solve_linear_sys\", [qr], [cr])        \n",
    "    \n",
    "    # Initialize times that we get the result vector \n",
    "    n0 = 0\n",
    "    n1 = 0\n",
    "    \n",
    "    for i in range(10):\n",
    "        #Set the input|b> state\"\n",
    "        qc.x(qr[2])\n",
    "        \n",
    "        #Set the phase estimation circuit\n",
    "        qc.h(qr[0])\n",
    "        qc.h(qr[1]) \n",
    "        qc.u1(pi, qr[0])\n",
    "        qc.u1(pi/2, qr[1])\n",
    "        qc.cx(qr[1], qr[2])\n",
    "    \n",
    "        #The quantum inverse  Fourier transform \n",
    "        qc.h(qr[0])\n",
    "        qc.cu1(-pi/2, qr[0], qr[1])\n",
    "        qc.h(qr[1])\n",
    "    \n",
    "        #R（lamda^-1） Rotation\n",
    "        qc.x(qr[1])\n",
    "        qc.cu3(pi/16, 0, 0, qr[0], qr[3])\n",
    "        qc.cu3(pi/8, 0, 0, qr[1], qr[3])   \n",
    "        \n",
    "        #Uncomputation\n",
    "        qc.x(qr[1])\n",
    "        qc.h(qr[1])\n",
    "        qc.cu1(pi/2, qr[0], qr[1])\n",
    "        qc.h(qr[0])\n",
    "    \n",
    "        qc.cx(qr[1], qr[2])\n",
    "        qc.u1(-pi/2, qr[1])\n",
    "        qc.u1(-pi, qr[0])\n",
    "    \n",
    "        qc.h(qr[1]) \n",
    "        qc.h(qr[0])\n",
    "         \n",
    "        # To measure the whole quantum register\n",
    "        qc.measure(qr[0], cr[0])\n",
    "        qc.measure(qr[1], cr[1])\n",
    "        qc.measure(qr[2], cr[2])\n",
    "        qc.measure(qr[3], cr[3])\n",
    "\n",
    "        result = Q_program.execute(\"solve_linear_sys\", shots=8192, backend='local_qasm_simulator')   \n",
    "        \n",
    "        # Get the sum og all results\n",
    "        n0 = n0 + result.get_data(\"solve_linear_sys\")['counts']['1000']\n",
    "        n1 = n1 + result.get_data(\"solve_linear_sys\")['counts']['1100']\n",
    "    \n",
    "        # print the result\n",
    "        print(result)\n",
    "        print(result.get_data(\"solve_linear_sys\"))\n",
    "        \n",
    "                \n",
    "        # Reset the circuit\n",
    "        qc.reset(qr)\n",
    "        #break\n",
    "    # calculate the scale of the elements in result vectot and print it.\n",
    "    p = n0/n1\n",
    "    print(n0)\n",
    "    print(n1)\n",
    "    #print(np.sqrt(n0)/np.sqrt(n0+n1),np.sqrt(n1)/np.sqrt(n0+n1))\n",
    "    print(p)\n",
    "    return qc\n",
    "\n",
    "# The test function\n",
    "if __name__ == \"__main__\":\n",
    "    qc = solve_linear_sys()\n"
   ]
  },
  {
   "cell_type": "code",
   "execution_count": null,
   "metadata": {},
   "outputs": [],
   "source": [
    "204/(2072)"
   ]
  },
  {
   "cell_type": "markdown",
   "metadata": {},
   "source": [
    "## Result analysis\n",
    "According to the result, we can obtain the scale of two elements in $\\vec x$. Via features of linear system, we can get\n",
    "$A\\vec x=A\\begin{pmatrix}a_1 \\\\ ka_2\\end{pmatrix}=\\vec b=\\begin{pmatrix}0 \\\\ 1\\end{pmatrix}$. So we can get the answer, $\\vec x=\\begin{pmatrix}0.32665 \\\\0.67335\\end{pmatrix} $.<br \\> For more examples, we test different value of $\\vec b$ and get the answer about $\\vec x $ as following table: <br \\>\n",
    "<img src=\"../images/hhl_3.png\" width=\"500 px\">\n",
    "And the statistic result is showed as following:\n",
    "<img src=\"../images/hhl_4.png\" width=\"500 px\">"
   ]
  },
  {
   "cell_type": "markdown",
   "metadata": {},
   "source": [
    "## Reference\n",
    "<cite>[1]Quantum Algorithm for Linear Systems of Equations(see [Aram W. Harrow, Avinatan Hassidim, and Seth Lloyd\n",
    "Phys. Rev. Lett. 103, 150502](https://journals.aps.org/prl/abstract/10.1103/PhysRevLett.103.150502))</cite><a id='cite_1'></a><br \\>\n",
    "<cite>[2]Quantum circuit design for solving linear systems of equations(see [Yudong Cao,Anmer Daskin,Steven Frankel & Sabre Kais](https://www.tandfonline.com/doi/abs/10.1080/00268976.2012.668289))</cite><a id='cite_2'></a><br \\>\n",
    "<cite>[3]Experimental realization of quantum algorithm for solving linear systems of equations(see [Jian Pan, Yudong Cao, Xiwei Yao, Zhaokai Li, Chenyong Ju, Hongwei Chen, Xinhua Peng, Sabre Kais, and Jiangfeng Du Phys. Rev. A 89, 022313](https://journals.aps.org/pra/abstract/10.1103/PhysRevA.89.022313))</cite><a id='cite_3'></a>"
   ]
  },
  {
   "cell_type": "code",
   "execution_count": 3,
   "metadata": {},
   "outputs": [
    {
     "name": "stderr",
     "output_type": "stream",
     "text": [
      "ERROR:root:File `'../version.ipynb.py'` not found.\n"
     ]
    }
   ],
   "source": [
    "#%run \"../version.ipynb\""
   ]
  },
  {
   "cell_type": "code",
   "execution_count": 6,
   "metadata": {},
   "outputs": [
    {
     "name": "stderr",
     "output_type": "stream",
     "text": [
      "/home/jan/.local/lib/python3.7/site-packages/matplotlib/cbook/deprecation.py:107: MatplotlibDeprecationWarning: Passing one of 'on', 'true', 'off', 'false' as a boolean is deprecated; use an actual boolean (True/False) instead.\n",
      "  warnings.warn(message, mplDeprecation, stacklevel=1)\n"
     ]
    },
    {
     "data": {
      "image/png": "[encoded data removed]",
      "text/plain": [
       "<Figure size 1384.6x1041.46 with 1 Axes>"
      ]
     },
     "metadata": {},
     "output_type": "display_data"
    }
   ],
   "source": [
    "from qiskit.tools.visualization._circuit_visualization import matplotlib_circuit_drawer\n",
    "matplotlib_circuit_drawer(qc)"
   ]
  },
  {
   "cell_type": "code",
   "execution_count": 5,
   "metadata": {},
   "outputs": [
    {
     "data": {
      "text/plain": [
       "<qiskit._quantumcircuit.QuantumCircuit at 0x7f079db27ac8>"
      ]
     },
     "execution_count": 5,
     "metadata": {},
     "output_type": "execute_result"
    }
   ],
   "source": [
    "qc"
   ]
  },
  {
   "cell_type": "code",
   "execution_count": null,
   "metadata": {},
   "outputs": [],
   "source": []
  }
 ],
 "metadata": {
  "kernelspec": {
   "display_name": "Python 3",
   "language": "python",
   "name": "python3"
  },
  "language_info": {
   "codemirror_mode": {
    "name": "ipython",
    "version": 3
   },
   "file_extension": ".py",
   "mimetype": "text/x-python",
   "name": "python",
   "nbconvert_exporter": "python",
   "pygments_lexer": "ipython3",
   "version": "3.7.0"
  }
 },
 "nbformat": 4,
 "nbformat_minor": 2
}
