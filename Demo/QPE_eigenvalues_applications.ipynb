{
 "cells": [
  {
   "cell_type": "markdown",
   "metadata": {},
   "source": [
    "# QPE: example of application in engineering problems \n",
    "\n",
    "\n",
    "\n",
    "Some problmes in science and engineering can be solved by only finding the eigenvalues of the system. This notebook shows 2 examples of solving engineering problems by finding eigenvalues with QPE.\n",
    "\n",
    "The first example is stability of structures, in particular buckling of a beam. In this case the smallest eigenvalue determines the load at which the structure will fail. \n",
    "\n",
    "The second example shows how finding eigenvalues with QPE can be applied in modal analysis for finding resonance frequencies of structures.\n",
    "\n",
    "Both problems are formulated with finite elements approach in such way that they are fully scalable. This means that they can be easily extended to any number of elements which allow for modelling structures with much more complex geometries.\n",
    "Considering that in practice such models can easily reach sizes in order of 100,000 - 1,000,000 elements, applying QPE for finding eigenvalues has a chance to provide with significant speed up of the procedure, especially for larger systems. \n",
    "\n",
    "\n",
    "\n",
    "##  1. Buckling analysis\n",
    "\n",
    "The problem of buckling is of great interest in structural mechanics, as buckling is often the reson of rapid premature failre. One of the most most simple examples is buckling of a slender beam loaded in compression.\n",
    "<table><tr><td><img src='images/Buckled_column.png'></td><td><img src='images/buckling_example.jpg'></td></tr></table>\n"
   ]
  },
  {
   "cell_type": "markdown",
   "metadata": {},
   "source": [
    "### 1.1 Problem formulation\n",
    "\n",
    "Buckling analysis is formulated as an eigenvalues problem:\n",
    "\\begin{align}\n",
    "(K_0 + \\lambda K_1)\\delta u = 0\n",
    "\\end{align}\n",
    "\n",
    "where $K_0$ and $K_1$ are stiffness matrices, with entries that depend on geometry and material properties of the elements.\n",
    "\n",
    "In this example the beam is modeled as a single element with 2 nodes and 6 Degrees of freedom using Finite Elements approach. This yields 6x6 system, which after applying boundary conditions can be reduced to 2x2 system. Such small system can be easily solved on a real Quantum computer."
   ]
  },
  {
   "cell_type": "markdown",
   "metadata": {},
   "source": [
    "### 1.2 Preparing the system matrix"
   ]
  },
  {
   "cell_type": "code",
   "execution_count": 3,
   "metadata": {},
   "outputs": [],
   "source": [
    "import numpy as np\n",
    "#from qiskit import available_backends\n",
    "import sys\n",
    "sys.path.append(\"..\")\n",
    "from qpe_hhl.qpe import QPE\n",
    "#import matplotlib.pyplot as plt\n",
    "from demo_functions import plot_res_and_theory, initiate_q_backend, Efr\n",
    "\n",
    "E = 200e9\n",
    "I = 1000*10**(-12)\n",
    "L = 1.\n",
    "\n",
    "P = 1.\n",
    "K0 =  E* I/L* np.matrix([[4,2],[2,4]])\n",
    "K1 = P*L**2/(30*L)*np.matrix([[4,-1],[-1,4]])\n",
    "K = np.linalg.inv(K1)*K0"
   ]
  },
  {
   "cell_type": "markdown",
   "metadata": {},
   "source": [
    "### 1.3 Setting  up algorithm parameters"
   ]
  },
  {
   "cell_type": "code",
   "execution_count": 4,
   "metadata": {},
   "outputs": [],
   "source": [
    "#initiate_q_backend()\n",
    "hermitian_matrix = True\n",
    "n = len(K)\n",
    "k = 3\n",
    "invec = ([1,2])\n",
    "nege = True\n",
    "\n",
    "\n",
    "params = {\n",
    "    'algorithm': {\n",
    "            'name': 'QPE',\n",
    "            'num_ancillae': k,\n",
    "            'num_time_slices': 3,\n",
    "            'expansion_mode': 'suzuki',\n",
    "            'expansion_order': 2,\n",
    "            'hermitian_matrix': True,\n",
    "            'negative_evals': nege,\n",
    "            'backend' : \"local_qasm_simulator\",\n",
    "            #'backend' : \"ibmqx5\",\n",
    "            #'evo_time': 2*np.pi/4,\n",
    "            #'use_basis_gates': False,\n",
    "    },\n",
    "    \"iqft\": {\n",
    "        \"name\": \"STANDARD\"\n",
    "    },\n",
    "    \"initial_state\": {\n",
    "        \"name\": \"CUSTOM\",\n",
    "        \"state_vector\": invec\n",
    "    }\n",
    "}"
   ]
  },
  {
   "cell_type": "markdown",
   "metadata": {},
   "source": [
    "### 1.4 Executing the algorithm"
   ]
  },
  {
   "cell_type": "code",
   "execution_count": 6,
   "metadata": {},
   "outputs": [
    {
     "name": "stdout",
     "output_type": "stream",
     "text": [
      "COMPLETED\n",
      "{'backend': 'local_qasm_simulator_py', 'id': 'c7e43f4c-c987-4253-b356-13c808e5befd', 'job_id': 'b33dec34-9df8-4193-b07f-c0122bfd8575', 'result': [{'name': 'circuit6', 'seed': 561890395, 'shots': 1024, 'data': {'counts': {'110': 910, '100': 70, '000': 31, '010': 4, '111': 5, '001': 1, '101': 1, '011': 2}, 'snapshots': {}}, 'status': 'DONE', 'success': True, 'time_taken': 11.031195402145386}], 'status': 'COMPLETED', 'success': True, 'time_taken': 11.031260967254639}\n"
     ]
    }
   ],
   "source": [
    "import matplotlib.pyplot as plt\n",
    "qpe = QPE()\n",
    "qpe.init_params(params, K)\n",
    "qc = qpe._compute_eigenvalue()"
   ]
  },
  {
   "cell_type": "markdown",
   "metadata": {},
   "source": [
    "### 1.5 Results"
   ]
  },
  {
   "cell_type": "code",
   "execution_count": null,
   "metadata": {},
   "outputs": [],
   "source": [
    "res = qpe._ret\n",
    "plot_res_and_theory(res, K, k, nege)\n",
    "Eigs = Efr(res)\n",
    "print('The beam buckles at ', np.min(Eigs), ' N')"
   ]
  },
  {
   "cell_type": "markdown",
   "metadata": {},
   "source": [
    "## 2. Finding Resonance frequency of a structure\n",
    "\n",
    "\n",
    "In design of a structure one is often interested in its response to vibrations, and in particular in finding the resonance frequency spectrum.\n",
    "\n",
    "An example of such problem can be a design of an earthquake resistant building. Lets take an example of a 2 storey building, where the storeys are modelled as masses connected with springs. \n",
    "\n",
    "<table><tr><td><img src='images\\building.jpg'width=\"300 px\" ></td><td><img src='images\\springs.png' width=\"200 px\" ></td></tr></table>\n",
    "\n",
    "The goverinng equation ce be then written in a matrix form as:\n",
    "\\begin{align}\n",
    "Mx'' = Kx \n",
    "\\end{align}\n",
    "where M and K are mass and stiffness matrices respectively. Then solving eigenvalues of the system one can obtain frequencies as $\\omega = \\sqrt{- \\lambda}$\n",
    "\n",
    "### 2.2 Preparing the system matrix"
   ]
  },
  {
   "cell_type": "code",
   "execution_count": 18,
   "metadata": {},
   "outputs": [
    {
     "name": "stdout",
     "output_type": "stream",
     "text": [
      "[[-2.  1.]\n",
      " [ 1. -1.]]\n",
      "[-2.61803399 -0.38196601]\n",
      "[[-0.85065081 -0.52573111]\n",
      " [ 0.52573111 -0.85065081]]\n"
     ]
    }
   ],
   "source": [
    "k0 = 30000\n",
    "k1 = 30000\n",
    "\n",
    "m1 = 30000 #kg\n",
    "m2 = 30000 #kg\n",
    "\n",
    "M = np.matrix(np.diag([m1,m2]))\n",
    "K0 = np.matrix([[-(k0+k1), k1], [k1, -k1]])\n",
    "\n",
    "K = np.linalg.inv(M)*K0\n",
    "p, v = np.linalg.eig(K)\n",
    "print(K)\n",
    "print(p)\n",
    "print(v)"
   ]
  },
  {
   "cell_type": "markdown",
   "metadata": {},
   "source": [
    "### 2.3 Setting up the algorithm parameters"
   ]
  },
  {
   "cell_type": "code",
   "execution_count": 17,
   "metadata": {},
   "outputs": [],
   "source": [
    "hermitian_matrix = True\n",
    "n = len(K)\n",
    "k = 4\n",
    "invec = ([1,2])\n",
    "nege = True\n",
    "\n",
    "params = {\n",
    "    'algorithm': {\n",
    "            'name': 'QPE',\n",
    "            'num_ancillae': k,\n",
    "            'num_time_slices': 3,\n",
    "            'expansion_mode': 'suzuki',\n",
    "            'expansion_order': 2,\n",
    "            'hermitian_matrix': True,\n",
    "            'negative_evals': nege,\n",
    "            'backend' : \"local_qasm_simulator\",\n",
    "            #'backend' : \"ibmqx5\",\n",
    "            #'evo_time': 2*np.pi/4,\n",
    "            #'use_basis_gates': False,\n",
    "    },\n",
    "    \"iqft\": {\n",
    "        \"name\": \"STANDARD\"\n",
    "    },\n",
    "    \"initial_state\": {\n",
    "        \"name\": \"CUSTOM\",\n",
    "        \"state_vector\": invec\n",
    "    }\n",
    "}"
   ]
  },
  {
   "cell_type": "markdown",
   "metadata": {},
   "source": [
    "### 2.4 Executing the algorithm"
   ]
  },
  {
   "cell_type": "code",
   "execution_count": 11,
   "metadata": {},
   "outputs": [
    {
     "name": "stdout",
     "output_type": "stream",
     "text": [
      "COMPLETED\n",
      "{'backend': 'local_qasm_simulator_py', 'id': 'f1945715-f147-4e8c-a85a-6278ecaf4b65', 'job_id': '1e584503-c3a1-4613-90dc-9217598b2cad', 'result': [{'name': 'circuit17', 'seed': 3069818630, 'shots': 1024, 'data': {'counts': {'0000': 27, '1111': 946, '0111': 19, '1011': 4, '0100': 5, '1001': 2, '0011': 5, '0101': 10, '1110': 1, '1101': 2, '0110': 1, '0001': 1, '1000': 1}, 'snapshots': {}}, 'status': 'DONE', 'success': True, 'time_taken': 37.684176445007324}], 'status': 'COMPLETED', 'success': True, 'time_taken': 37.68422818183899}\n"
     ]
    }
   ],
   "source": [
    "qpe = QPE()\n",
    "qpe.init_params(params, K)\n",
    "qc = qpe._compute_eigenvalue()\n",
    "\n",
    "res = qpe._ret"
   ]
  },
  {
   "cell_type": "markdown",
   "metadata": {},
   "source": [
    "### 2.5 Results"
   ]
  },
  {
   "cell_type": "code",
   "execution_count": 13,
   "metadata": {},
   "outputs": [
    {
     "data": {
      "image/png": "[encoded data removed]",
      "text/plain": [
       "<Figure size 432x288 with 1 Axes>"
      ]
     },
     "metadata": {},
     "output_type": "display_data"
    },
    {
     "name": "stdout",
     "output_type": "stream",
     "text": [
      "Eigenvalues: [-0.  0.]\n",
      "Resonance frequencies: [ 0. -0.] Hz\n"
     ]
    }
   ],
   "source": [
    "plot_res_and_theory(res, K, k, nege)\n",
    "print('Eigenvalues:', Efr(res))\n",
    "print('Resonance frequencies:', np.sqrt(-Efr(res))/(2*np.pi), 'Hz')\n",
    "\n",
    "#print(res['measurements'])"
   ]
  },
  {
   "cell_type": "code",
   "execution_count": null,
   "metadata": {},
   "outputs": [],
   "source": []
  }
 ],
 "metadata": {
  "kernelspec": {
   "display_name": "Python 3",
   "language": "python",
   "name": "python3"
  },
  "language_info": {
   "codemirror_mode": {
    "name": "ipython",
    "version": 3
   },
   "file_extension": ".py",
   "mimetype": "text/x-python",
   "name": "python",
   "nbconvert_exporter": "python",
   "pygments_lexer": "ipython3",
   "version": "3.7.0"
  }
 },
 "nbformat": 4,
 "nbformat_minor": 2
}
