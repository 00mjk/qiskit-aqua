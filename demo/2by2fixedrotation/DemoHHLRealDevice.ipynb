{
 "cells": [
  {
   "cell_type": "markdown",
   "metadata": {},
   "source": [
    "# HHL algorithm for solving linear equations\n",
    "In the following notebook, we are going to let a real quantum device solve a linear system $A\\vec x = \\vec b$ .\n",
    "We will use a quantum algorithm that was proposed by Aram Harrow, Avinatan Hassidim, and Seth Lloyd in 2008.\n",
    "Very simplified, one can distinguish 4 main steps that need to be performed on our quantum device:\n",
    "1. Express the solution vector $\\vec b$ as a quantum state $|b\\rangle$ on a register\n",
    "2. Use Quantum Phase Estimation (QPE) to decompose $|b\\rangle$ into eigenvectors of A and obtain A's eigenvalues\n",
    "3. Invert the (in the eigenvector base, diagonal) matrix A to prepare the state $A^{-1}|b\\rangle$ = $|x\\rangle$\n",
    "4. Apply a linear operator M to $|x\\rangle$ to obtain information on the solution vector $\\vec x$\n",
    "\n",
    "Be reminded that in the general case, the entries of $\\vec x$ can not be efficiently read out because we would need to know all coefficients describing the quantum state.\n",
    "In the following example, we ignore this constraint and show for our small linear system as a proof of principle that $\\vec x$ is calculated correctly."
   ]
  },
  {
   "cell_type": "markdown",
   "metadata": {},
   "source": [
    "\n",
    "As usual, lets get set up.\n",
    "We import the classes and functions from qiskit as well as some custom functions that will help us adding special gates to the circuit"
   ]
  },
  {
   "cell_type": "code",
   "execution_count": 1,
   "metadata": {},
   "outputs": [],
   "source": [
    "%load_ext autoreload"
   ]
  },
  {
   "cell_type": "code",
   "execution_count": 2,
   "metadata": {},
   "outputs": [],
   "source": [
    "%autoreload 2"
   ]
  },
  {
   "cell_type": "code",
   "execution_count": 3,
   "metadata": {},
   "outputs": [],
   "source": [
    "from qiskit import QuantumRegister, ClassicalRegister, QuantumCircuit, execute, register,get_backend,available_backends,least_busy\n",
    "from qiskit.tools.qi.pauli import Pauli\n",
    "from qiskit_aqua import Operator, QuantumAlgorithm, AlgorithmError\n",
    "from qiskit_aqua import get_initial_state_instance, get_iqft_instance\n",
    "from fix_rotation import add_eigenvalue_inversion, add_measurement_gates, generate_matrix, print_linsystem,add_eigenvalue_inversion_q\n",
    "\n",
    "from qiskit.tools.visualization._circuit_visualization import matplotlib_circuit_drawer\n",
    "\n",
    "import numpy as np\n",
    "\n",
    "\n",
    "from qpe import QPE\n"
   ]
  },
  {
   "cell_type": "code",
   "execution_count": 4,
   "metadata": {},
   "outputs": [],
   "source": [
    "try:\n",
    "    import Qconfig\n",
    "    qx_config = {\n",
    "       \"APItoken\": Qconfig.APItoken,\n",
    "       \"url\": Qconfig.config['url']}\n",
    "except Exception as e:\n",
    "    print(e)\n",
    "    qx_config = {\n",
    "       \"APItoken\":\"6481b0a273869ee834cbd427bbd4480bea29047f6828d578850275ddf012c627b8de551f7297713eb4175791b7c024d11e58e80c47f243b734c4ce427110c3e3\",\n",
    "       \"url\":\"https://quantumexperience.ng.bluemix.net/api\"}\n",
    "    register(qx_config['APItoken'], qx_config['url'])"
   ]
  },
  {
   "cell_type": "code",
   "execution_count": 5,
   "metadata": {},
   "outputs": [],
   "source": [
    "N = 2\n",
    "N_ev = 2\n",
    "N_sv = int(np.log2(N))\n",
    "measure = True\n",
    "backend = \"local_qasm_simulator\""
   ]
  },
  {
   "cell_type": "markdown",
   "metadata": {},
   "source": [
    "## State preparation and QPE\n",
    "\n",
    "The HHL algorithm starts off with the preparation of $\\vec b$ in one register followed by the Quantum Phase Estimation that decomposes $|b\\rangle$ into eigenvectors of $A$ and prepares the eigenvalues in a second register."
   ]
  },
  {
   "cell_type": "code",
   "execution_count": 6,
   "metadata": {
    "scrolled": false
   },
   "outputs": [
    {
     "name": "stdout",
     "output_type": "stream",
     "text": [
      "[[ 2 -1]\n",
      " [-1  2]]\n",
      "Eigenvalues: [1. 3.]\n"
     ]
    }
   ],
   "source": [
    "matrix =generate_matrix()\n",
    "w, v = np.linalg.eigh(matrix) \n",
    "\n",
    "print(matrix)\n",
    "print(\"Eigenvalues:\", w)\n",
    "\n",
    "invec =  [1,0]#1/np.sqrt(2)*np.array([1,1])#[1,0]#[1,0]#\n",
    "\n",
    "params = {\n",
    "    'algorithm': {\n",
    "            'name': 'QPE',\n",
    "            'num_ancillae':2,\n",
    "            'num_time_slices': 1,\n",
    "            'expansion_mode': 'trotter',\n",
    "            'expansion_order': 1,\n",
    "            'hermitian_matrix': True,\n",
    "            'negative_evals': False,\n",
    "            'backend' : backend,\n",
    "            'evo_time': 2*np.pi/4,\n",
    "    },\n",
    "    \"iqft\": {\n",
    "        \"name\": \"STANDARD\"\n",
    "    },\n",
    "    \"initial_state\": {\n",
    "        \"name\": \"CUSTOM\",\n",
    "        \"state_vector\": invec\n",
    "    }\n",
    "}"
   ]
  },
  {
   "cell_type": "code",
   "execution_count": 7,
   "metadata": {},
   "outputs": [
    {
     "name": "stdout",
     "output_type": "stream",
     "text": [
      "QPE circuit qasm length is roughly 29.\n"
     ]
    }
   ],
   "source": [
    "qpe = QPE()\n",
    "qpe.init_params(params, matrix)\n",
    "\n",
    "qc = qpe._setup_qpe(measure=False)\n",
    "c1 = ClassicalRegister(1, name='controlbit')\n",
    "c2 = ClassicalRegister(N_sv, name='solution_vector')\n",
    "c = ClassicalRegister(2, name='c')\n",
    "qc.add(c)\n",
    "qc.add(c1)\n",
    "qc.add(c2)\n",
    "#matplotlib_circuit_drawer(qc)"
   ]
  },
  {
   "cell_type": "markdown",
   "metadata": {},
   "source": [
    "Take a look at above circuit. The gate(s) in front of the first U gate that is applied to quibit 0 of the topmost register, prepare us the initial state vector $\\vec b$ .\n",
    "Following, so called Hamiltonian simulation techniques are used to apply the operator $\\exp{i At}$ to our register containing the state vector. These\n"
   ]
  },
  {
   "cell_type": "markdown",
   "metadata": {},
   "source": [
    "## Inversion and rotation\n",
    "The last step before we can perform our measurement is to invert $A$. We have $\\vec b$ represented in the basis of eigenvectors of A so simply using the inverse eigenvalues gives us $A^{-1}$ . \n",
    "Given that this transformation of the eigenvalues from $\\lambda$ to $\\lambda^{-1}$ is not unitary, we have a probability of failing this step. Unfortunately we do not have direct access to the state of the qubits and we can not \"measure\" if the inversion suceeded.\n",
    "Instead we will perform a rotation of $\\arcsin{\\frac{C}{\\lambda}}$ on a \"control\" qubit. One can show that the state of the control qubit changes from $|0\\rangle$ to $\\sqrt{1-\\frac{C^2}{\\lambda_{j}^2}}|0\\rangle+\\frac{C}{\\lambda_j}|1\\rangle$ (corresponding to a rotation around the y axis of the Bloch sphere), hence a measurement result of 1 in the control qubit assures us, that the inversion has suceeded."
   ]
  },
  {
   "cell_type": "code",
   "execution_count": 8,
   "metadata": {},
   "outputs": [],
   "source": [
    "\n",
    "add_eigenvalue_inversion_q(qc)\n",
    "#matplotlib_circuit_drawer(qc)"
   ]
  },
  {
   "cell_type": "code",
   "execution_count": 9,
   "metadata": {
    "scrolled": false
   },
   "outputs": [],
   "source": [
    "qc += qpe._construct_inverse()\n",
    "#matplotlib_circuit_drawer(qc)"
   ]
  },
  {
   "cell_type": "markdown",
   "metadata": {},
   "source": [
    "Now we add some measurements to our circuit. The qubit storing the solution vector and the control qubit are read out into classical registers"
   ]
  },
  {
   "cell_type": "code",
   "execution_count": 10,
   "metadata": {
    "scrolled": false
   },
   "outputs": [],
   "source": [
    "add_measurement_gates(qc)\n",
    "#matplotlib_circuit_drawer(qc)"
   ]
  },
  {
   "cell_type": "markdown",
   "metadata": {},
   "source": [
    "We are ready to run our HHL program! "
   ]
  },
  {
   "cell_type": "code",
   "execution_count": 11,
   "metadata": {},
   "outputs": [
    {
     "name": "stdout",
     "output_type": "stream",
     "text": [
      "{'0 0 00': 7644, '0 1 00': 310, '1 1 00': 70}\n"
     ]
    }
   ],
   "source": [
    "result = execute(qc, backend=backend, shots=8024).result()\n",
    "print(result.get_counts())"
   ]
  },
  {
   "cell_type": "code",
   "execution_count": 12,
   "metadata": {},
   "outputs": [
    {
     "name": "stdout",
     "output_type": "stream",
     "text": [
      "4.428571428571429\n"
     ]
    }
   ],
   "source": [
    "N0 = result.get_counts(qc)['1 1 00']\n",
    "N1 = result.get_counts(qc)['0 1 00']\n",
    "print(N1/N0)"
   ]
  },
  {
   "cell_type": "markdown",
   "metadata": {},
   "source": [
    "The ratio of N0 and N1, i.e. the  relative probability of measuring 1, 0 respectively in the solution vector qubit, gives us the relative scale of the two entries in the vector.\n",
    "\n",
    "Lets repeat our program several times to obtain better statistics... "
   ]
  },
  {
   "cell_type": "code",
   "execution_count": 13,
   "metadata": {},
   "outputs": [
    {
     "name": "stdout",
     "output_type": "stream",
     "text": [
      "[[ 2 -1]\n",
      " [-1  2]]\n",
      "Eigenvalues: [1. 3.]\n"
     ]
    }
   ],
   "source": [
    "matrix =generate_matrix()\n",
    "w, v = np.linalg.eigh(matrix) \n",
    "\n",
    "print(matrix)\n",
    "print(\"Eigenvalues:\", w)\n",
    "\n",
    "invec =  [1,0]#1/np.sqrt(2)*np.array([1,1])#[1,0]#1/np.sqrt(2)*np.array([1,1])#[1,0]#[1,0]#\n",
    "\n",
    "params = {\n",
    "    'algorithm': {\n",
    "            'name': 'QPE',\n",
    "            'num_ancillae':2,\n",
    "            'num_time_slices': 1,\n",
    "            'expansion_mode': 'trotter',\n",
    "            'expansion_order': 1,\n",
    "            'hermitian_matrix': True,\n",
    "            'negative_evals': False,\n",
    "            'backend' : backend,\n",
    "            'evo_time': 2*np.pi/4,\n",
    "            \n",
    "    },\n",
    "    \"iqft\": {\n",
    "        \"name\": \"STANDARD\"\n",
    "    },\n",
    "    \"initial_state\": {\n",
    "        \"name\": \"CUSTOM\",\n",
    "        \"state_vector\": invec\n",
    "    }\n",
    "}"
   ]
  },
  {
   "cell_type": "code",
   "execution_count": 14,
   "metadata": {},
   "outputs": [
    {
     "name": "stdout",
     "output_type": "stream",
     "text": [
      "QPE circuit qasm length is roughly 29.\n",
      "{'0 0 00': 7722, '0 1 00': 300, '1 0 00': 4, '1 1 00': 74}\n",
      "COMPLETED\n",
      "QPE circuit qasm length is roughly 29.\n",
      "{'0 0 00': 7713, '0 1 00': 317, '1 0 00': 4, '1 1 00': 66}\n",
      "COMPLETED\n",
      "QPE circuit qasm length is roughly 29.\n",
      "{'0 0 00': 7705, '0 1 00': 314, '1 0 00': 4, '1 1 00': 77}\n",
      "COMPLETED\n",
      "QPE circuit qasm length is roughly 29.\n",
      "{'0 0 00': 7715, '0 1 00': 315, '1 0 00': 5, '1 1 00': 65}\n",
      "COMPLETED\n",
      "QPE circuit qasm length is roughly 29.\n",
      "{'0 0 00': 7714, '0 1 00': 300, '1 0 00': 4, '1 1 00': 82}\n",
      "COMPLETED\n",
      "QPE circuit qasm length is roughly 29.\n",
      "{'0 0 00': 7733, '0 1 00': 290, '1 0 00': 2, '1 1 00': 75}\n",
      "COMPLETED\n",
      "QPE circuit qasm length is roughly 29.\n",
      "{'0 0 00': 7740, '0 1 00': 288, '1 0 00': 3, '1 1 00': 69}\n",
      "COMPLETED\n",
      "QPE circuit qasm length is roughly 29.\n",
      "{'0 0 00': 7713, '0 1 00': 315, '1 0 00': 5, '1 1 00': 67}\n",
      "COMPLETED\n",
      "QPE circuit qasm length is roughly 29.\n",
      "{'0 0 00': 7718, '0 1 00': 326, '1 0 00': 3, '1 1 00': 53}\n",
      "COMPLETED\n",
      "QPE circuit qasm length is roughly 29.\n",
      "{'0 0 00': 7705, '0 1 00': 315, '1 0 00': 2, '1 1 00': 78}\n",
      "COMPLETED\n"
     ]
    }
   ],
   "source": [
    "from fix_rotation import add_eigenvalue_inversion, add_measurement_gates, generate_matrix, print_linsystem, add_eigenvalue_inversion_q\n",
    "N0 = 0\n",
    "N1 = 0\n",
    "for i in range(10):\n",
    "    qpe = QPE()\n",
    "\n",
    "\n",
    "    qpe.init_params(params, matrix)\n",
    "\n",
    "    qc = qpe._setup_qpe(measure=False)\n",
    "    c1 = ClassicalRegister(1, name='controlbit')\n",
    "    c2 = ClassicalRegister(N_sv, name='solution_vector')\n",
    "    c = ClassicalRegister(2, name='c')\n",
    "    qc.add(c)\n",
    "    qc.add(c1)\n",
    "    qc.add(c2)\n",
    "    add_eigenvalue_inversion_q(qc)\n",
    "    qc += qpe._construct_inverse()\n",
    "    add_measurement_gates(qc)\n",
    "    result = execute(qc, backend=backend, shots=8100).result()\n",
    "    print(result.get_counts(qc))\n",
    "    try:\n",
    "        N0 = N0 + result.get_counts(qc)['1 1 00']\n",
    "    except:\n",
    "        pass\n",
    "    try:\n",
    "        N1 = N1 + result.get_counts(qc)['0 1 00']\n",
    "    except:\n",
    "        pass\n",
    "    print(result)\n",
    "    "
   ]
  },
  {
   "cell_type": "code",
   "execution_count": 15,
   "metadata": {
    "scrolled": false
   },
   "outputs": [
    {
     "data": {
      "text/markdown": [
       "## $\\begin{pmatrix}2&-1\\\\-1&2\\end{pmatrix}$$\\begin{pmatrix}a_0\\\\0.5a_0\\end{pmatrix}$$= \\begin{pmatrix}1\\\\0\\end{pmatrix}$"
      ],
      "text/plain": [
       "<IPython.core.display.Markdown object>"
      ]
     },
     "metadata": {},
     "output_type": "display_data"
    },
    {
     "data": {
      "text/markdown": [
       "## $a_0 = 0.6666666666666666$"
      ],
      "text/plain": [
       "<IPython.core.display.Markdown object>"
      ]
     },
     "metadata": {},
     "output_type": "display_data"
    },
    {
     "data": {
      "text/markdown": [
       "## Equation 0 gave a result of $\\begin{pmatrix}0.6666666666666666\\\\0.3191800461744153\\end{pmatrix}$"
      ],
      "text/plain": [
       "<IPython.core.display.Markdown object>"
      ]
     },
     "metadata": {},
     "output_type": "display_data"
    },
    {
     "data": {
      "text/markdown": [
       "## Correct $\\begin{pmatrix}0.6666666666666666\\\\0.3333333333333333\\end{pmatrix}$"
      ],
      "text/plain": [
       "<IPython.core.display.Markdown object>"
      ]
     },
     "metadata": {},
     "output_type": "display_data"
    }
   ],
   "source": [
    "print_linsystem(matrix,np.sqrt(N1/N0),invec)"
   ]
  },
  {
   "cell_type": "markdown",
   "metadata": {},
   "source": [
    "## Real device\n",
    "Now let's execute our quantum program on an IBM Q System. We are using only 4 qubits, so both the 5 qubit and the 16 qubit computers can be utilized."
   ]
  },
  {
   "cell_type": "code",
   "execution_count": 16,
   "metadata": {},
   "outputs": [
    {
     "ename": "QISKitError",
     "evalue": "'Can only find least_busy backend from a non-empty list.'",
     "output_type": "error",
     "traceback": [
      "\u001b[0;31m---------------------------------------------------------------------------\u001b[0m",
      "\u001b[0;31mValueError\u001b[0m                                Traceback (most recent call last)",
      "\u001b[0;32m~/.local/lib/python3.7/site-packages/qiskit/wrapper/_wrapper.py\u001b[0m in \u001b[0;36mleast_busy\u001b[0;34m(names)\u001b[0m\n\u001b[1;32m    189\u001b[0m         return min([b for b in backends if b.status['operational'] and 'pending_jobs' in b.status],\n\u001b[0;32m--> 190\u001b[0;31m                    key=lambda b: b.status['pending_jobs']).name\n\u001b[0m\u001b[1;32m    191\u001b[0m     \u001b[0;32mexcept\u001b[0m \u001b[0;34m(\u001b[0m\u001b[0mValueError\u001b[0m\u001b[0;34m,\u001b[0m \u001b[0mTypeError\u001b[0m\u001b[0;34m)\u001b[0m\u001b[0;34m:\u001b[0m\u001b[0;34m\u001b[0m\u001b[0m\n",
      "\u001b[0;31mValueError\u001b[0m: min() arg is an empty sequence",
      "\nDuring handling of the above exception, another exception occurred:\n",
      "\u001b[0;31mQISKitError\u001b[0m                               Traceback (most recent call last)",
      "\u001b[0;32m<ipython-input-16-c320513b1b77>\u001b[0m in \u001b[0;36m<module>\u001b[0;34m()\u001b[0m\n\u001b[1;32m      1\u001b[0m \u001b[0mmatrix\u001b[0m \u001b[0;34m=\u001b[0m\u001b[0mgenerate_matrix\u001b[0m\u001b[0;34m(\u001b[0m\u001b[0;34m)\u001b[0m\u001b[0;31m#np.array([[2, -1 ],[-1, 2]])#generate_matrix()\u001b[0m\u001b[0;34m\u001b[0m\u001b[0m\n\u001b[1;32m      2\u001b[0m \u001b[0mw\u001b[0m\u001b[0;34m,\u001b[0m \u001b[0mv\u001b[0m \u001b[0;34m=\u001b[0m \u001b[0mnp\u001b[0m\u001b[0;34m.\u001b[0m\u001b[0mlinalg\u001b[0m\u001b[0;34m.\u001b[0m\u001b[0meigh\u001b[0m\u001b[0;34m(\u001b[0m\u001b[0mmatrix\u001b[0m\u001b[0;34m)\u001b[0m\u001b[0;34m\u001b[0m\u001b[0m\n\u001b[0;32m----> 3\u001b[0;31m \u001b[0mbackend\u001b[0m \u001b[0;34m=\u001b[0m \u001b[0mleast_busy\u001b[0m\u001b[0;34m(\u001b[0m\u001b[0mavailable_backends\u001b[0m\u001b[0;34m(\u001b[0m\u001b[0;34m{\u001b[0m\u001b[0;34m'local'\u001b[0m\u001b[0;34m:\u001b[0m \u001b[0;32mFalse\u001b[0m\u001b[0;34m,\u001b[0m \u001b[0;34m'simulator'\u001b[0m\u001b[0;34m:\u001b[0m \u001b[0;32mFalse\u001b[0m\u001b[0;34m}\u001b[0m\u001b[0;34m)\u001b[0m\u001b[0;34m)\u001b[0m\u001b[0;31m#\u001b[0m\u001b[0;34m\u001b[0m\u001b[0m\n\u001b[0m\u001b[1;32m      4\u001b[0m \u001b[0mprint\u001b[0m\u001b[0;34m(\u001b[0m\u001b[0mmatrix\u001b[0m\u001b[0;34m)\u001b[0m\u001b[0;34m\u001b[0m\u001b[0m\n\u001b[1;32m      5\u001b[0m \u001b[0mprint\u001b[0m\u001b[0;34m(\u001b[0m\u001b[0;34m\"Eigenvalues:\"\u001b[0m\u001b[0;34m,\u001b[0m \u001b[0mw\u001b[0m\u001b[0;34m)\u001b[0m\u001b[0;34m\u001b[0m\u001b[0m\n",
      "\u001b[0;32m~/.local/lib/python3.7/site-packages/qiskit/wrapper/_wrapper.py\u001b[0m in \u001b[0;36mleast_busy\u001b[0;34m(names)\u001b[0m\n\u001b[1;32m    190\u001b[0m                    key=lambda b: b.status['pending_jobs']).name\n\u001b[1;32m    191\u001b[0m     \u001b[0;32mexcept\u001b[0m \u001b[0;34m(\u001b[0m\u001b[0mValueError\u001b[0m\u001b[0;34m,\u001b[0m \u001b[0mTypeError\u001b[0m\u001b[0;34m)\u001b[0m\u001b[0;34m:\u001b[0m\u001b[0;34m\u001b[0m\u001b[0m\n\u001b[0;32m--> 192\u001b[0;31m         \u001b[0;32mraise\u001b[0m \u001b[0mQISKitError\u001b[0m\u001b[0;34m(\u001b[0m\u001b[0;34m\"Can only find least_busy backend from a non-empty list.\"\u001b[0m\u001b[0;34m)\u001b[0m\u001b[0;34m\u001b[0m\u001b[0m\n\u001b[0m\u001b[1;32m    193\u001b[0m \u001b[0;34m\u001b[0m\u001b[0m\n\u001b[1;32m    194\u001b[0m \u001b[0;34m\u001b[0m\u001b[0m\n",
      "\u001b[0;31mQISKitError\u001b[0m: 'Can only find least_busy backend from a non-empty list.'"
     ]
    }
   ],
   "source": [
    "matrix =generate_matrix()#np.array([[2, -1 ],[-1, 2]])#generate_matrix()\n",
    "w, v = np.linalg.eigh(matrix) \n",
    "backend = least_busy(available_backends({'local': False, 'simulator': False}))#\n",
    "print(matrix)\n",
    "print(\"Eigenvalues:\", w)\n",
    "\n",
    "invec =  [0,1]#1/np.sqrt(2)*np.array([1,1])#[1,0]#[1,0]#\n",
    "\n",
    "params = {\n",
    "    'algorithm': {\n",
    "            'name': 'QPE',\n",
    "            'num_ancillae':2,\n",
    "            'num_time_slices': 1,\n",
    "            'expansion_mode': 'trotter',\n",
    "            'expansion_order': 1,\n",
    "            'hermitian_matrix': True,\n",
    "            'negative_evals': False,\n",
    "            'backend' : backend,\n",
    "            'evo_time': 2*np.pi/4,\n",
    "            \n",
    "    },\n",
    "    \"iqft\": {\n",
    "        \"name\": \"STANDARD\"\n",
    "    },\n",
    "    \"initial_state\": {\n",
    "        \"name\": \"CUSTOM\",\n",
    "        \"state_vector\": invec\n",
    "    }\n",
    "}\n",
    "print(\"Selected backend:\",backend)"
   ]
  },
  {
   "cell_type": "code",
   "execution_count": 17,
   "metadata": {},
   "outputs": [
    {
     "name": "stdout",
     "output_type": "stream",
     "text": [
      "QPE circuit qasm length is roughly 29.\n",
      "{'0 0 00': 2867, '0 1 00': 108, '1 1 00': 25}\n",
      "COMPLETED\n",
      "QPE circuit qasm length is roughly 29.\n",
      "{'0 0 00': 2860, '0 1 00': 107, '1 0 00': 2, '1 1 00': 31}\n",
      "COMPLETED\n",
      "QPE circuit qasm length is roughly 29.\n",
      "{'0 0 00': 2853, '0 1 00': 115, '1 1 00': 32}\n",
      "COMPLETED\n"
     ]
    }
   ],
   "source": [
    "from fix_rotation import add_eigenvalue_inversion, add_measurement_gates, generate_matrix, print_linsystem, add_eigenvalue_inversion_q\n",
    "N0_realdev = 0\n",
    "N1_realdev = 0\n",
    "for i in range(3):\n",
    "    qpe = QPE()\n",
    "\n",
    "\n",
    "    qpe.init_params(params, matrix)\n",
    "\n",
    "    qc = qpe._setup_qpe(measure=False)\n",
    "    c1 = ClassicalRegister(1, name='controlbit')\n",
    "    c2 = ClassicalRegister(N_sv, name='solution_vector')\n",
    "    c = ClassicalRegister(2, name='c')\n",
    "    qc.add(c)\n",
    "    qc.add(c1)\n",
    "    qc.add(c2)\n",
    "    add_eigenvalue_inversion_q(qc)\n",
    "    qc += qpe._construct_inverse()\n",
    "    add_measurement_gates(qc)\n",
    "    result = execute(qc, backend=backend, shots=3000).result()\n",
    "    print(result.get_counts(qc))\n",
    "    try:\n",
    "        N0_realdev = N0_realdev + result.get_counts(qc)['1 1 00']\n",
    "    except:\n",
    "        pass\n",
    "    try:\n",
    "        N1_realdev = N1_realdev + result.get_counts(qc)['0 1 00']\n",
    "    except:\n",
    "        pass\n",
    "    print(result)\n",
    "    "
   ]
  },
  {
   "cell_type": "code",
   "execution_count": 18,
   "metadata": {},
   "outputs": [
    {
     "data": {
      "text/markdown": [
       "## $\\begin{pmatrix}2&-1\\\\-1&2\\end{pmatrix}$$\\begin{pmatrix}a_0\\\\0.5a_0\\end{pmatrix}$$= \\begin{pmatrix}1\\\\0\\end{pmatrix}$"
      ],
      "text/plain": [
       "<IPython.core.display.Markdown object>"
      ]
     },
     "metadata": {},
     "output_type": "display_data"
    },
    {
     "data": {
      "text/markdown": [
       "## $a_0 = 0.6666666666666666$"
      ],
      "text/plain": [
       "<IPython.core.display.Markdown object>"
      ]
     },
     "metadata": {},
     "output_type": "display_data"
    },
    {
     "data": {
      "text/markdown": [
       "## Equation 0 gave a result of $\\begin{pmatrix}0.6666666666666666\\\\0.3442651863295481\\end{pmatrix}$"
      ],
      "text/plain": [
       "<IPython.core.display.Markdown object>"
      ]
     },
     "metadata": {},
     "output_type": "display_data"
    },
    {
     "data": {
      "text/markdown": [
       "## Correct $\\begin{pmatrix}0.6666666666666666\\\\0.3333333333333333\\end{pmatrix}$"
      ],
      "text/plain": [
       "<IPython.core.display.Markdown object>"
      ]
     },
     "metadata": {},
     "output_type": "display_data"
    }
   ],
   "source": [
    "print_linsystem(matrix,np.sqrt(N1_realdev/N0_realdev),invec)"
   ]
  },
  {
   "cell_type": "raw",
   "metadata": {},
   "source": [
    "N1_realdev,N0_realdev(821, 660)"
   ]
  }
 ],
 "metadata": {
  "kernelspec": {
   "display_name": "Python 3",
   "language": "python",
   "name": "python3"
  },
  "language_info": {
   "codemirror_mode": {
    "name": "ipython",
    "version": 3
   },
   "file_extension": ".py",
   "mimetype": "text/x-python",
   "name": "python",
   "nbconvert_exporter": "python",
   "pygments_lexer": "ipython3",
   "version": "3.7.0"
  },
  "toc": {
   "base_numbering": 1,
   "nav_menu": {},
   "number_sections": true,
   "sideBar": true,
   "skip_h1_title": false,
   "title_cell": "Table of Contents",
   "title_sidebar": "Contents",
   "toc_cell": false,
   "toc_position": {},
   "toc_section_display": true,
   "toc_window_display": false
  }
 },
 "nbformat": 4,
 "nbformat_minor": 2
}
