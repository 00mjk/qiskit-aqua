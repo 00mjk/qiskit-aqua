{
 "cells": [
  {
   "cell_type": "markdown",
   "metadata": {},
   "source": [
    "# Quantum Machine Learning &mdash; The HHL algorithm\n",
    "## IBM Extreme Blue Expo 2018 \n",
    "David Bucher, Isabel Haide, Gawel Kus, Jan Müggenburg\n",
    "\n",
    "IBM Research & Development Germany, Böblingen\n",
    "\n",
    "## Quantum Computing Basics\n",
    "\n",
    "If you have never heard of a qubit it is best to start here, with the total basics of quantum computing. You will learn about how to manipulate a qubit and how to program a real quantum computer with easy python commands.\n",
    "\n",
    "[Introduction in Quantum Computing](basic/DemoBasicGates.ipynb)\n",
    "\n",
    "## The Phase Estimation algorithm &mdash; The first building block\n",
    "\n",
    "The HHL algorithm consists of several building blocks. One of the most important ones is the phase estimation algorithm, which is being used to extract the eigenvalues of a matrix.\n",
    "\n",
    "[The phase estimation algorithm](qpe/QPE_eigenvalues.ipynb)\n",
    "\n",
    "[Applications of finding eigenvalues](qpe/QPE_eigenvalues_applications.ipynb)\n",
    "\n",
    "## The HHL algorithm\n",
    "\n",
    "First we will see a small example of the HHL, which is also runnable on the IBM quantum devices. You will see how the QPE can solve linear equations &mdash; together with another building block, the inversion of eigenvalues.  \n",
    "\n",
    "[Basic example of HHL](2by2fixedrotation/DemoHHLRealDevice.ipynb)\n",
    "\n",
    "## The Quantum  Support Vector Machine\n",
    "\n",
    "One of the applications of the HHL algorithm in Machine Learning is the Support Vector Machine. The following notebook shows an QSVM, which is able to distinguish between handwritten 6 and 9s.\n",
    "\n",
    "[Identifying handwritten digits with a Quantum Support Vector Machine](svm/svm_base.ipynb)"
   ]
  },
  {
   "cell_type": "code",
   "execution_count": null,
   "metadata": {},
   "outputs": [],
   "source": []
  }
 ],
 "metadata": {
  "kernelspec": {
   "display_name": "Python 3",
   "language": "python",
   "name": "python3"
  },
  "language_info": {
   "codemirror_mode": {
    "name": "ipython",
    "version": 3
   },
   "file_extension": ".py",
   "mimetype": "text/x-python",
   "name": "python",
   "nbconvert_exporter": "python",
   "pygments_lexer": "ipython3",
   "version": "3.7.0"
  },
  "toc": {
   "base_numbering": 1,
   "nav_menu": {},
   "number_sections": true,
   "sideBar": true,
   "skip_h1_title": false,
   "title_cell": "Table of Contents",
   "title_sidebar": "Contents",
   "toc_cell": false,
   "toc_position": {},
   "toc_section_display": true,
   "toc_window_display": false
  }
 },
 "nbformat": 4,
 "nbformat_minor": 2
}
