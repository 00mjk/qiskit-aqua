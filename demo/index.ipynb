{
 "cells": [
  {
   "cell_type": "markdown",
   "metadata": {},
   "source": [
    "# Quantum Machine Learning &mdash; The HHL algorithm\n",
    "## IBM Extreme Blue Expo\n",
    "2018 \n",
    "David Bucher, Isabel Haide, Gawel Kus, Jan Müggenburg\n",
    "\n",
    "IBM Research &\n",
    "Development Germany, Böblingen\n",
    "\n",
    "## Quantum Computing Basics\n",
    "\n",
    "If you have never\n",
    "heard of a qubit it is best to start here, with the total basics of quantum\n",
    "computing. You will learn about the concept of a qubit, superposition and\n",
    "entanglement while learning how a quantum computer is programmed with quanutm\n",
    "gates.\n",
    "\n",
    "[Introduction in Quantum Computing](Demo Basic Gates.ipynb)\n",
    "\n",
    "## The Phase Estimation algorithm &mdash; The first building block\n",
    "\n",
    "The HHL algorithm\n",
    "consists of several building blocks. One of the most important ones is the phase\n",
    "estimation algorithm, which is being used to extract the eigenvalues of a\n",
    "matrix.\n",
    "\n",
    "[The phase estimation algorithm](link to pea)\n",
    "\n",
    "## The HHL algorithm\n",
    "First we will see a small example of the HHL, which is also runnable on the IBM\n",
    "quantum devices. You will see how the QPE can solve linear equations &mdash;\n",
    "together with another building block, the inversion of eigenvalues.  \n",
    "\n",
    "[Basic example of HHL](2by2fixedrotation/DemoHHLRealDevice.ipynb)\n",
    "\n",
    "## The Quantum Support Vector Machine\n",
    "\n",
    "One of the\n",
    "applications of the HHL algorithm in Machine Learning is the Support Vector\n",
    "Machine. The following notebook shows an QSVM, which is able to distinguish\n",
    "between handwritten 6 and 9s.\n",
    "\n",
    "[Identifying handwritten digits with a Quantum Support Vector Machine](svm/svm_base.ipynb)"
   ]
  },
  {
   "cell_type": "code",
   "execution_count": null,
   "metadata": {},
   "outputs": [],
   "source": []
  }
 ],
 "metadata": {
  "kernelspec": {
   "display_name": "Python 3",
   "language": "python",
   "name": "python3"
  },
  "language_info": {
   "codemirror_mode": {
    "name": "ipython",
    "version": 3
   },
   "file_extension": ".py",
   "mimetype": "text/x-python",
   "name": "python",
   "nbconvert_exporter": "python",
   "pygments_lexer": "ipython3",
   "version": "3.7.0"
  },
  "toc": {
   "base_numbering": 1,
   "nav_menu": {},
   "number_sections": true,
   "sideBar": true,
   "skip_h1_title": false,
   "title_cell": "Table of Contents",
   "title_sidebar": "Contents",
   "toc_cell": false,
   "toc_position": {},
   "toc_section_display": true,
   "toc_window_display": false
  }
 },
 "nbformat": 4,
 "nbformat_minor": 2
}
