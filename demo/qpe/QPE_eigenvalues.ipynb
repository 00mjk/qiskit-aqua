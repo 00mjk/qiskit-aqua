{
 "cells": [
  {
   "cell_type": "markdown",
   "metadata": {},
   "source": [
    "# Calculating Eigenvalues  with Quantum Phase Estimation algorithm\n",
    "\n",
    "In this demo we show how Quantum Phase Estimation algorithm can be used to calculate eigenvalues of a matrix.\n",
    "\n"
   ]
  },
  {
   "cell_type": "markdown",
   "metadata": {},
   "source": [
    "## 1 Overview of Quantum Phase Estimation algorithm\n",
    "\n",
    "Given a unitary operator $U$ with eigenvalues $e ^{2 \\pi  i \\phi}$ and eigenvectors $\\left| u \\right>$, QPE allows to find phase $\\phi$. \n",
    "\n",
    "In order to do so, QPE requires 2 registers: 1 storing the input vector $\\left| \\psi \\right>$, and 1 ancilla register that stores the $\\phi$, as can be seen on the circuit schematic below.\n",
    "\n",
    "The whole procedure is done in 3 steps:\n",
    "1. The ancilla register is put in superposition by applying the H gates.\n",
    "2. A series of U controlled rotations are applied on the $\\left| \\psi \\right>$ register, which leave each kth ancilla qubit in state $\\left| 0 \\right> + e^{2 \\pi i (2^{t-1})}\\left| 1 \\right> $\n",
    "3. Inverse Fourier transform is applied on the ancilla register which leaves it in state $\\left| \\phi \\right>$ that can be measured\n",
    "\n",
    "\n",
    "<img src=\"images/Quantum_phase_estimation.png\"  width=\"500 px\" align=\"center\">\n",
    "\n"
   ]
  },
  {
   "cell_type": "markdown",
   "metadata": {},
   "source": [
    "## 2 Algorithm set up\n",
    "\n",
    "This section explains step-by--step how the Quantum phase estimation algorithm is implemented in QISKit. \n",
    "\n"
   ]
  },
  {
   "cell_type": "markdown",
   "metadata": {},
   "source": [
    "### 2.1 Initiate\n",
    "First we need to import the packages and initiate the program."
   ]
  },
  {
   "cell_type": "code",
   "execution_count": 2,
   "metadata": {},
   "outputs": [],
   "source": [
    "import sys\n",
    "sys.path.append(\"..\")\n",
    "\n",
    "from qiskit_aqua.algorithms.single_sample.hhl import QPE\n",
    "from demo_functions import *\n",
    "import numpy as np\n",
    "#from matrix_gen import gen_matrix\n",
    "import matplotlib.pyplot as plt\n"
   ]
  },
  {
   "cell_type": "markdown",
   "metadata": {},
   "source": [
    "### 2.2 Define the matrix\n",
    "Now, we are ready to define the matrix, for example:"
   ]
  },
  {
   "cell_type": "code",
   "execution_count": 7,
   "metadata": {},
   "outputs": [],
   "source": [
    "#matrix = gen_matrix(2, eigrange=[-4, 4], sparsity=0.6)  #random matrix\n",
    "#or:\n",
    "matrix = np.matrix([[-2, -1.5], [-1.5,2]])                     #your own\n",
    "\n",
    "n = len(matrix)                                         #n is the size of the system"
   ]
  },
  {
   "cell_type": "markdown",
   "metadata": {},
   "source": [
    "### 2.3 Define the input state vector\n",
    "\n",
    "In this next step we choose the input vector. If the input vector happens to be an eigenvector the system gets into eigenstate, and as a consequence the outcome of the QPE is only a single eigenvalue (that corresponds to this eigenvector). \n",
    "\n",
    "In case it is desired to find all the eigenvalues, the system needs to be in a superposition of all the eigenstates - therefore the input vector shall be a combination of all the eigenvectors."
   ]
  },
  {
   "cell_type": "code",
   "execution_count": 10,
   "metadata": {},
   "outputs": [],
   "source": [
    "invec = ([0.3, 0.7])"
   ]
  },
  {
   "cell_type": "markdown",
   "metadata": {},
   "source": [
    "### 2.4 Define the algorithm parameters\n",
    "Finally we choose the backend and the algorithm parameters:"
   ]
  },
  {
   "cell_type": "code",
   "execution_count": 14,
   "metadata": {},
   "outputs": [],
   "source": [
    "backend = \"local_qasm_simulator\"\n",
    "\n",
    "k = 6\n",
    "nege = True\n",
    "\n",
    "params = {\n",
    "    'algorithm': {\n",
    "            'name': 'QPE',\n",
    "            'num_ancillae': k,                   #Increase #of ancilla qubits - increase precision of eigenvalues\n",
    "            'num_time_slices': 50,               #Increase # of time slices - improves accuracy of Hamiltonian simulation\n",
    "            'expansion_mode': 'suzuki',          #Approximation method for matrix exponentiation\n",
    "            'expansion_order': 2,                #Number of terms in aforementioned approximation of matrix exponentiation \n",
    "            'hermitian_matrix': True,\n",
    "            'negative_evals': nege,              #Flag: are negative eigenvalues allowed ?\n",
    "            'backend' : backend,\n",
    "            #'evo_time': 2*np.pi/4,\n",
    "            #'use_basis_gates': False,\n",
    "    },\n",
    "    \"iqft\": {\n",
    "        \"name\": \"STANDARD\"\n",
    "    },\n",
    "    \"initial_state\": {\n",
    "        \"name\": \"CUSTOM\",\n",
    "        \"state_vector\": invec\n",
    "    }\n",
    "}"
   ]
  },
  {
   "cell_type": "markdown",
   "metadata": {},
   "source": [
    "## 3 Results\n",
    "\n",
    "In the next step the algorithm is executed and the final results are retrieved. In this case the results are in form of a histogram.\n",
    "\n",
    "The results obtained with the quantum computing aproach are compared with the classical.  \n",
    "\n",
    "### 3.1 Executing on a Local Simulator"
   ]
  },
  {
   "cell_type": "code",
   "execution_count": 15,
   "metadata": {},
   "outputs": [
    {
     "data": {
      "image/png": "[encoded data removed]",
      "text/plain": [
       "<Figure size 432x288 with 1 Axes>"
      ]
     },
     "metadata": {},
     "output_type": "display_data"
    }
   ],
   "source": [
    "qpe = QPE()\n",
    "qpe.init_params(params, matrix)\n",
    "qc = qpe._compute_eigenvalue()\n",
    "res = qpe._ret\n",
    "\n",
    "plot_res_and_theory(res, matrix, k, nege)"
   ]
  },
  {
   "cell_type": "code",
   "execution_count": 6,
   "metadata": {},
   "outputs": [
    {
     "name": "stdout",
     "output_type": "stream",
     "text": [
      "Eigenvalues found with simulator: [ 2.33333333 -2.33333333]\n",
      "Eigenvalues found classically: [-2.5  2.5]\n"
     ]
    }
   ],
   "source": [
    "w, v = np.linalg.eig(matrix)\n",
    "print('Eigenvalues found with simulator:', Efr(res))\n",
    "print('Eigenvalues found classically:', w.real.round(2))"
   ]
  },
  {
   "cell_type": "markdown",
   "metadata": {},
   "source": [
    "### 3.2 Executing on a Quantum Computer\n",
    "\n",
    "Now lets solve the same problem on an actual Quantum computer, and see how the results compare."
   ]
  },
  {
   "cell_type": "code",
   "execution_count": 7,
   "metadata": {},
   "outputs": [
    {
     "name": "stdout",
     "output_type": "stream",
     "text": [
      "Qconfig loaded from /home/david/.local/lib/python3.7/site-packages/Qconfig.py.\n",
      "['ibmq_qasm_simulator', 'ibmqx2', 'ibmqx4', 'ibmqx5', 'local_qasm_simulator', 'local_statevector_simulator', 'local_unitary_simulator']\n"
     ]
    }
   ],
   "source": [
    "initiate_q_backend()"
   ]
  },
  {
   "cell_type": "code",
   "execution_count": 8,
   "metadata": {},
   "outputs": [],
   "source": [
    "k = 3\n",
    "nege = True\n",
    "params = {\n",
    "    'algorithm': {\n",
    "            'name': 'QPE',\n",
    "            'num_ancillae': k,\n",
    "            'num_time_slices': 3,\n",
    "            'expansion_mode': 'suzuki',\n",
    "            'expansion_order': 2,\n",
    "            'hermitian_matrix': True,\n",
    "            'negative_evals': nege,\n",
    "            'backend' : 'ibmqx5',\n",
    "            #'evo_time': 2*np.pi/4,\n",
    "            #'use_basis_gates': False,\n",
    "    },\n",
    "    \"iqft\": {\n",
    "        \"name\": \"STANDARD\"\n",
    "    },\n",
    "    \"initial_state\": {\n",
    "        \"name\": \"CUSTOM\",\n",
    "        \"state_vector\": invec#[1/2**0.5,1/2**0.5]\n",
    "    }\n",
    "}\n",
    "# ibm_x5: max settings: for n = 2 k=3, suzuki, expansion order =2, -> max 3 time slices"
   ]
  },
  {
   "cell_type": "code",
   "execution_count": null,
   "metadata": {},
   "outputs": [],
   "source": [
    "qpe = QPE()\n",
    "qpe.init_params(params, matrix)\n",
    "qc = qpe._compute_eigenvalue()\n",
    "res_q = qpe._ret\n",
    "\n",
    "plot_res_and_theory(res_q, matrix, k, nege)"
   ]
  },
  {
   "cell_type": "markdown",
   "metadata": {},
   "source": [
    "## 3.3 Comparison of the results\n",
    "You can see that the results from the actual Quantum computer are much more noisy - the peaks are not that sharp."
   ]
  },
  {
   "cell_type": "code",
   "execution_count": 9,
   "metadata": {
    "scrolled": false
   },
   "outputs": [
    {
     "ename": "NameError",
     "evalue": "name 'res_q' is not defined",
     "output_type": "error",
     "traceback": [
      "\u001b[0;31m---------------------------------------------------------------------------\u001b[0m",
      "\u001b[0;31mNameError\u001b[0m                                 Traceback (most recent call last)",
      "\u001b[0;32m<ipython-input-9-71ab0536ad7f>\u001b[0m in \u001b[0;36m<module>\u001b[0;34m()\u001b[0m\n\u001b[1;32m      1\u001b[0m \u001b[0;31m#from demo_functions import Efr\u001b[0m\u001b[0;34m\u001b[0m\u001b[0;34m\u001b[0m\u001b[0m\n\u001b[1;32m      2\u001b[0m \u001b[0;34m\u001b[0m\u001b[0m\n\u001b[0;32m----> 3\u001b[0;31m \u001b[0mprint\u001b[0m\u001b[0;34m(\u001b[0m\u001b[0;34m'Eigenvalues found with real device:'\u001b[0m\u001b[0;34m,\u001b[0m \u001b[0mEfr\u001b[0m\u001b[0;34m(\u001b[0m\u001b[0mres_q\u001b[0m\u001b[0;34m)\u001b[0m\u001b[0;34m)\u001b[0m\u001b[0;34m\u001b[0m\u001b[0m\n\u001b[0m\u001b[1;32m      4\u001b[0m \u001b[0mprint\u001b[0m\u001b[0;34m(\u001b[0m\u001b[0;34m'Eigenvalues found with simulator:'\u001b[0m\u001b[0;34m,\u001b[0m \u001b[0mEfr\u001b[0m\u001b[0;34m(\u001b[0m\u001b[0mres\u001b[0m\u001b[0;34m)\u001b[0m\u001b[0;34m)\u001b[0m\u001b[0;34m\u001b[0m\u001b[0m\n\u001b[1;32m      5\u001b[0m \u001b[0mprint\u001b[0m\u001b[0;34m(\u001b[0m\u001b[0;34m'Eigenvalues found classically:'\u001b[0m\u001b[0;34m,\u001b[0m \u001b[0mw\u001b[0m\u001b[0;34m.\u001b[0m\u001b[0mround\u001b[0m\u001b[0;34m(\u001b[0m\u001b[0;36m3\u001b[0m\u001b[0;34m)\u001b[0m\u001b[0;34m)\u001b[0m\u001b[0;34m\u001b[0m\u001b[0m\n",
      "\u001b[0;31mNameError\u001b[0m: name 'res_q' is not defined"
     ]
    }
   ],
   "source": [
    "#from demo_functions import Efr\n",
    "\n",
    "print('Eigenvalues found with real device:', Efr(res_q))\n",
    "print('Eigenvalues found with simulator:', Efr(res))\n",
    "print('Eigenvalues found classically:', w.round(3))\n",
    "\n",
    "\n",
    "\n",
    "plt.title('Local simulator')\n",
    "plot_res_and_theory(res, matrix, k, nege)\n",
    "plt.title('Real device')\n",
    "plot_res_and_theory(res_q, matrix, k, nege)"
   ]
  },
  {
   "cell_type": "code",
   "execution_count": null,
   "metadata": {},
   "outputs": [],
   "source": []
  }
 ],
 "metadata": {
  "kernelspec": {
   "display_name": "Python 3",
   "language": "python",
   "name": "python3"
  },
  "language_info": {
   "codemirror_mode": {
    "name": "ipython",
    "version": 3
   },
   "file_extension": ".py",
   "mimetype": "text/x-python",
   "name": "python",
   "nbconvert_exporter": "python",
   "pygments_lexer": "ipython3",
   "version": "3.7.0"
  },
  "toc": {
   "base_numbering": 1,
   "nav_menu": {},
   "number_sections": true,
   "sideBar": true,
   "skip_h1_title": false,
   "title_cell": "Table of Contents",
   "title_sidebar": "Contents",
   "toc_cell": false,
   "toc_position": {},
   "toc_section_display": true,
   "toc_window_display": false
  }
 },
 "nbformat": 4,
 "nbformat_minor": 2
}
