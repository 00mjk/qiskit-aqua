{
 "cells": [
  {
   "cell_type": "markdown",
   "metadata": {},
   "source": [
    "# QPE: example of application in engineering problems \n",
    "\n",
    "\n",
    "\n",
    "Some problmes in science and engineering can be solved by only finding the eigenvalues of the system. This notebook shows 2 examples of solving engineering problems by finding eigenvalues with QPE.\n",
    "\n",
    "The first example is stability of structures, in particular buckling of a beam. In this case the smallest eigenvalue determines the load at which the structure will fail. \n",
    "\n",
    "The second example shows how finding eigenvalues with QPE can be applied in modal analysis for finding resonance frequencies of structures.\n",
    "\n",
    "Both problems are formulated with finite elements approach in such way that they are fully scalable. This means that they can be easily extended to any number of elements which allow for modelling structures with much more complex geometries.\n",
    "Considering that in practice such models can easily reach sizes in order of 100,000 - 1,000,000 elements, applying QPE for finding eigenvalues has a chance to provide with significant speed up of the procedure, especially for larger systems. \n",
    "\n",
    "\n",
    "\n",
    "##  1. Buckling analysis\n",
    "\n",
    "The problem of buckling is of great interest in structural mechanics, as buckling is often the reson of rapid premature failre. One of the most most simple examples is buckling of a slender beam loaded in compression.\n",
    "<table><tr><td><img src='images/Buckled_column.png'></td><td><img src='images/buckling_example.jpg'></td></tr></table>\n"
   ]
  },
  {
   "cell_type": "markdown",
   "metadata": {},
   "source": [
    "### 1.1 Problem formulation\n",
    "\n",
    "Buckling analysis is formulated as an eigenvalues problem:\n",
    "\\begin{align}\n",
    "(K_0 + \\lambda K_1)\\delta u = 0\n",
    "\\end{align}\n",
    "\n",
    "where $K_0$ and $K_1$ are stiffness matrices, with entries that depend on geometry and material properties of the elements.\n",
    "\n",
    "In this example the beam is modeled as a single element with 2 nodes and 6 Degrees of freedom using Finite Elements approach. This yields 6x6 system, which after applying boundary conditions can be reduced to 2x2 system. Such small system can be easily solved on a real Quantum computer."
   ]
  },
  {
   "cell_type": "markdown",
   "metadata": {},
   "source": [
    "### 1.2 Preparing the system matrix"
   ]
  },
  {
   "cell_type": "code",
   "execution_count": 5,
   "metadata": {},
   "outputs": [
    {
     "name": "stdout",
     "output_type": "stream",
     "text": [
      "[[7200. 4800.]\n",
      " [4800. 7200.]]\n"
     ]
    }
   ],
   "source": [
    "import numpy as np\n",
    "#from qiskit import available_backends\n",
    "import sys\n",
    "sys.path.append(\"..\")\n",
    "from qpe_hhl.qpe import QPE\n",
    "#import matplotlib.pyplot as plt\n",
    "from demo_functions import plot_res_and_theory, initiate_q_backend, Efr\n",
    "\n",
    "E = 200e9\n",
    "I = 1000*10**(-12)\n",
    "L = 1.\n",
    "\n",
    "P = 1.\n",
    "K0 =  E* I/L* np.matrix([[4,2],[2,4]])\n",
    "K1 = P*L**2/(30*L)*np.matrix([[4,-1],[-1,4]])\n",
    "K = np.linalg.inv(K1)*K0\n",
    "print(K)"
   ]
  },
  {
   "cell_type": "markdown",
   "metadata": {},
   "source": [
    "### 1.3 Setting  up algorithm parameters"
   ]
  },
  {
   "cell_type": "code",
   "execution_count": 2,
   "metadata": {},
   "outputs": [],
   "source": [
    "#initiate_q_backend()\n",
    "hermitian_matrix = True\n",
    "n = len(K)\n",
    "k = 3\n",
    "invec = ([1,2])\n",
    "nege = True\n",
    "\n",
    "\n",
    "params = {\n",
    "    'algorithm': {\n",
    "            'name': 'QPE',\n",
    "            'num_ancillae': k,\n",
    "            'num_time_slices': 3,\n",
    "            'expansion_mode': 'suzuki',\n",
    "            'expansion_order': 2,\n",
    "            'hermitian_matrix': True,\n",
    "            'negative_evals': nege,\n",
    "            'backend' : \"local_qasm_simulator\",\n",
    "            #'backend' : \"ibmqx5\",\n",
    "            #'evo_time': 2*np.pi/4,\n",
    "            #'use_basis_gates': False,\n",
    "    },\n",
    "    \"iqft\": {\n",
    "        \"name\": \"STANDARD\"\n",
    "    },\n",
    "    \"initial_state\": {\n",
    "        \"name\": \"CUSTOM\",\n",
    "        \"state_vector\": invec\n",
    "    }\n",
    "}"
   ]
  },
  {
   "cell_type": "markdown",
   "metadata": {},
   "source": [
    "### 1.4 Executing the algorithm"
   ]
  },
  {
   "cell_type": "code",
   "execution_count": 3,
   "metadata": {},
   "outputs": [
    {
     "name": "stderr",
     "output_type": "stream",
     "text": [
      "/home/gawel/.local/lib/python3.7/site-packages/sklearn/cross_validation.py:41: DeprecationWarning: This module was deprecated in version 0.18 in favor of the model_selection module into which all the refactored classes and functions are moved. Also note that the interface of the new CV iterators are different from that of this module. This module will be removed in 0.20.\n",
      "  \"This module will be removed in 0.20.\", DeprecationWarning)\n"
     ]
    },
    {
     "name": "stdout",
     "output_type": "stream",
     "text": [
      "COMPLETED\n",
      "{'backend': 'local_qasm_simulator_py', 'id': '32a106a9-093e-43c1-b100-6cffd7100d8c', 'job_id': 'c23bd3b3-3ead-4753-b73e-477c32b59e16', 'result': [{'name': 'circuit1', 'seed': 2251004347, 'shots': 1024, 'data': {'counts': {'110': 916, '100': 54, '000': 32, '111': 6, '010': 10, '101': 3, '011': 2, '001': 1}, 'snapshots': {}}, 'status': 'DONE', 'success': True, 'time_taken': 10.700928211212158}], 'status': 'COMPLETED', 'success': True, 'time_taken': 10.700993776321411}\n"
     ]
    }
   ],
   "source": [
    "import matplotlib.pyplot as plt\n",
    "qpe = QPE()\n",
    "qpe.init_params(params, K)\n",
    "qc = qpe._compute_eigenvalue()"
   ]
  },
  {
   "cell_type": "markdown",
   "metadata": {},
   "source": [
    "### 1.5 Results"
   ]
  },
  {
   "cell_type": "code",
   "execution_count": 4,
   "metadata": {},
   "outputs": [
    {
     "data": {
      "image/png": "[encoded data removed]",
      "text/plain": [
       "<Figure size 432x288 with 1 Axes>"
      ]
     },
     "metadata": {},
     "output_type": "display_data"
    },
    {
     "name": "stdout",
     "output_type": "stream",
     "text": [
      "The beam buckles at  3999.9999999999995  N\n"
     ]
    }
   ],
   "source": [
    "res = qpe._ret\n",
    "plot_res_and_theory(res, K, k, nege)\n",
    "Eigs = Efr(res)\n",
    "print('The beam buckles at ', np.min(Eigs), ' N')"
   ]
  },
  {
   "cell_type": "markdown",
   "metadata": {},
   "source": [
    "## 2. Finding Resonance frequency of a structure\n",
    "\n",
    "\n",
    "In design of a structure one is often interested in its response to vibrations, and in particular in finding the resonance frequency spectrum.\n",
    "\n",
    "An example of such problem can be a design of an earthquake resistant building. Lets take an example of a 2 storey building, where the storeys are modelled as masses connected with springs. \n",
    "\n",
    "<table><tr><td><img src='images\\building.jpg'width=\"300 px\" ></td><td><img src='images\\springs.png' width=\"200 px\" ></td></tr></table>\n",
    "\n",
    "The goverinng equation ce be then written in a matrix form as:\n",
    "\\begin{align}\n",
    "Mx'' = Kx \n",
    "\\end{align}\n",
    "where M and K are mass and stiffness matrices respectively. Then solving eigenvalues of the system one can obtain frequencies as $\\omega = \\sqrt{- \\lambda}$\n",
    "\n",
    "### 2.2 Preparing the system matrix"
   ]
  },
  {
   "cell_type": "code",
   "execution_count": 6,
   "metadata": {},
   "outputs": [
    {
     "name": "stdout",
     "output_type": "stream",
     "text": [
      "[[-2.75  1.5 ]\n",
      " [ 1.5  -1.5 ]]\n",
      "[-3.75 -0.5 ]\n",
      "[[-0.83205029 -0.5547002 ]\n",
      " [ 0.5547002  -0.83205029]]\n"
     ]
    }
   ],
   "source": [
    "k0 = 25000\n",
    "k1 = 30000\n",
    "\n",
    "m1 = 20000 #kg\n",
    "m2 = 20000 #kg\n",
    "\n",
    "M = np.matrix(np.diag([m1,m2]))\n",
    "K0 = np.matrix([[-(k0+k1), k1], [k1, -k1]])\n",
    "\n",
    "K = np.linalg.inv(M)*K0\n",
    "p, v = np.linalg.eig(K)"
   ]
  },
  {
   "cell_type": "markdown",
   "metadata": {},
   "source": [
    "### 2.3 Setting up the algorithm parameters"
   ]
  },
  {
   "cell_type": "code",
   "execution_count": 7,
   "metadata": {},
   "outputs": [],
   "source": [
    "hermitian_matrix = True\n",
    "n = len(K)\n",
    "k = 4\n",
    "invec = ([0.83,0.16])\n",
    "nege = True\n",
    "\n",
    "params = {\n",
    "    'algorithm': {\n",
    "            'name': 'QPE',\n",
    "            'num_ancillae': k,\n",
    "            'num_time_slices': 3,\n",
    "            'expansion_mode': 'suzuki',\n",
    "            'expansion_order': 2,\n",
    "            'hermitian_matrix': True,\n",
    "            'negative_evals': nege,\n",
    "            'backend' : \"local_qasm_simulator\",\n",
    "            #'backend' : \"ibmqx5\",\n",
    "            #'evo_time': 2*np.pi/4,\n",
    "            #'use_basis_gates': False,\n",
    "    },\n",
    "    \"iqft\": {\n",
    "        \"name\": \"STANDARD\"\n",
    "    },\n",
    "    \"initial_state\": {\n",
    "        \"name\": \"CUSTOM\",\n",
    "        \"state_vector\": invec\n",
    "    }\n",
    "}"
   ]
  },
  {
   "cell_type": "markdown",
   "metadata": {},
   "source": [
    "### 2.4 Executing the algorithm"
   ]
  },
  {
   "cell_type": "code",
   "execution_count": 8,
   "metadata": {},
   "outputs": [
    {
     "name": "stdout",
     "output_type": "stream",
     "text": [
      "COMPLETED\n",
      "{'backend': 'local_qasm_simulator_py', 'id': 'b3c59316-199c-499b-b478-96d8fdaa1cdd', 'job_id': 'feb804cc-b7b1-4dad-bd1f-c4a9929f7405', 'result': [{'name': 'circuit6', 'seed': 5164531, 'shots': 1024, 'data': {'counts': {'1111': 459, '0101': 447, '1011': 9, '0100': 6, '1001': 26, '1101': 13, '0000': 32, '0110': 3, '0001': 7, '1100': 1, '1000': 4, '0011': 5, '0111': 6, '1110': 3, '0010': 2, '1010': 1}, 'snapshots': {}}, 'status': 'DONE', 'success': True, 'time_taken': 38.04992890357971}], 'status': 'COMPLETED', 'success': True, 'time_taken': 38.049997329711914}\n"
     ]
    }
   ],
   "source": [
    "qpe = QPE()\n",
    "qpe.init_params(params, K)\n",
    "qc = qpe._compute_eigenvalue()\n",
    "\n",
    "res = qpe._ret"
   ]
  },
  {
   "cell_type": "markdown",
   "metadata": {},
   "source": [
    "### 2.5 Results"
   ]
  },
  {
   "cell_type": "code",
   "execution_count": 9,
   "metadata": {},
   "outputs": [
    {
     "data": {
      "image/png": "[encoded data removed]",
      "text/plain": [
       "<Figure size 432x288 with 1 Axes>"
      ]
     },
     "metadata": {},
     "output_type": "display_data"
    },
    {
     "name": "stdout",
     "output_type": "stream",
     "text": [
      "Eigenvalues: [-0.60714286 -3.64285714]\n",
      "Resonance frequencies: [0.12401253 0.30376743] Hz\n"
     ]
    }
   ],
   "source": [
    "plot_res_and_theory(res, K, k, nege)\n",
    "print('Eigenvalues:', Efr(res))\n",
    "print('Resonance frequencies:', np.sqrt(-Efr(res))/(2*np.pi), 'Hz')\n",
    "\n",
    "#print(res['measurements'])"
   ]
  },
  {
   "cell_type": "code",
   "execution_count": null,
   "metadata": {},
   "outputs": [],
   "source": []
  }
 ],
 "metadata": {
  "kernelspec": {
   "display_name": "Python 3",
   "language": "python",
   "name": "python3"
  },
  "language_info": {
   "codemirror_mode": {
    "name": "ipython",
    "version": 3
   },
   "file_extension": ".py",
   "mimetype": "text/x-python",
   "name": "python",
   "nbconvert_exporter": "python",
   "pygments_lexer": "ipython3",
   "version": "3.7.0"
  }
 },
 "nbformat": 4,
 "nbformat_minor": 2
}
