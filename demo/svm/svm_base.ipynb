{
 "cells": [
  {
   "cell_type": "markdown",
   "metadata": {},
   "source": [
    "# Identifying  handwritten digits with a Quantum Support Vector Machine\n",
    "\n",
    "The goal of this notebook is to have a functioning support vector machine based on the HHL algorithm, which can decide between handwritten 6s and 9s. First two features of the image are extracted from the digit images, namely the ratio between black pixels in the upper (left) and lower (right) half of the image. So we have two coordinates to represent a handwritten digit in the 'feature space'. The SVM is supposed find an optimal fence (hyperplane), which divides the two groups. The learning of the SVM is done via the HHL algorithm, because the least-squares approximation of the optimization of the hyperplane reduces to the problem of solving a system of linear equations.\n",
    "\n",
    "<img src=\"https://upload.wikimedia.org/wikipedia/commons/b/b5/Svm_separating_hyperplanes_%28SVG%29.svg\" width=\"300px\"/>\n",
    "\n",
    "One of the biggest drawbacks of the HHL is, that the result is encoded in a quantum state and, therefore, not directly accessible. However, the SVM only needs to classify unknown inputs into the two groups, that is telling on which side of fence the new data point lies. Thus, we can use the quantum computer as well for the classification calculation, using the quantum encoded result of the training.\n",
    "\n",
    "This whole notebook is heavily based on the work of:\n",
    "* [Li, Liu, Xu, Du: Experimental Realization of a Quantum Support Vector Machine](https://doi.org/10.1103/PhysRevLett.114.140504)\n",
    "* [Rebentrost, Mohseni, Lloyd: Quantum support vector machine for big data classification](https://doi.org/10.1103/PhysRevLett.113.130503)\n",
    "* [Harrow, Hassedim, Lloyd: Quantum algorithm for solving linear systems of equations](https://doi.org/10.1103/PhysRevLett.103.150502)"
   ]
  },
  {
   "cell_type": "code",
   "execution_count": 2,
   "metadata": {},
   "outputs": [
    {
     "name": "stdout",
     "output_type": "stream",
     "text": [
      "The autoreload extension is already loaded. To reload it, use:\n",
      "  %reload_ext autoreload\n"
     ]
    }
   ],
   "source": [
    "%load_ext autoreload\n",
    "%autoreload 2\n",
    "import ocr_prep as prep\n",
    "import svm_base as svm\n",
    "import numpy as np\n",
    "from qiskit import execute, register\n",
    "#import Qconfig\n",
    "import os\n",
    "os.system(\"./install.sh\")\n",
    "#register(Qconfig.APItoken)\n",
    "svm.MODE = 2"
   ]
  },
  {
   "cell_type": "markdown",
   "metadata": {},
   "source": [
    "## Preprocessing\n",
    "\n",
    "first the training data, as well as, the testing data is preprocessed, by calculating the ratios between black pixels in the upper (left) and lower (right) part of the image. Then a linear conversion happens to make them easier to use for our application and finally the vector is normalized to be representable by a qubit. The training data gets an additional label '-1' for the '6' and '1' for '9'."
   ]
  },
  {
   "cell_type": "code",
   "execution_count": 3,
   "metadata": {},
   "outputs": [
    {
     "ename": "FileNotFoundError",
     "evalue": "[Errno 2] No such file or directory: '/home/jan/.demo/svm/data/train9.png'",
     "output_type": "error",
     "traceback": [
      "\u001b[0;31m---------------------------------------------------------------------------\u001b[0m",
      "\u001b[0;31mFileNotFoundError\u001b[0m                         Traceback (most recent call last)",
      "\u001b[0;32m<ipython-input-3-efe6c2675fd7>\u001b[0m in \u001b[0;36m<module>\u001b[0;34m()\u001b[0m\n\u001b[1;32m      2\u001b[0m \u001b[0mtraining_set\u001b[0m \u001b[0;34m=\u001b[0m \u001b[0mlist\u001b[0m\u001b[0;34m(\u001b[0m\u001b[0mmap\u001b[0m\u001b[0;34m(\u001b[0m\u001b[0;32mlambda\u001b[0m \u001b[0mx\u001b[0m\u001b[0;34m:\u001b[0m \u001b[0mos\u001b[0m\u001b[0;34m.\u001b[0m\u001b[0mpath\u001b[0m\u001b[0;34m.\u001b[0m\u001b[0mjoin\u001b[0m\u001b[0;34m(\u001b[0m\u001b[0mprep\u001b[0m\u001b[0;34m.\u001b[0m\u001b[0mBASE_PATH\u001b[0m\u001b[0;34m,\u001b[0m \u001b[0mx\u001b[0m\u001b[0;34m)\u001b[0m\u001b[0;34m,\u001b[0m \u001b[0mtraining_set\u001b[0m\u001b[0;34m)\u001b[0m\u001b[0;34m)\u001b[0m\u001b[0;34m\u001b[0m\u001b[0m\n\u001b[1;32m      3\u001b[0m \u001b[0;31m#training_set = prep.get_random_set(n=2)\u001b[0m\u001b[0;34m\u001b[0m\u001b[0;34m\u001b[0m\u001b[0m\n\u001b[0;32m----> 4\u001b[0;31m \u001b[0mprep\u001b[0m\u001b[0;34m.\u001b[0m\u001b[0mdisplay_images\u001b[0m\u001b[0;34m(\u001b[0m\u001b[0mtraining_set\u001b[0m\u001b[0;34m,\u001b[0m \u001b[0mtitle\u001b[0m\u001b[0;34m=\u001b[0m\u001b[0;32mFalse\u001b[0m\u001b[0;34m)\u001b[0m\u001b[0;34m\u001b[0m\u001b[0m\n\u001b[0m\u001b[1;32m      5\u001b[0m \u001b[0;34m\u001b[0m\u001b[0m\n\u001b[1;32m      6\u001b[0m \u001b[0mlabels\u001b[0m \u001b[0;34m=\u001b[0m \u001b[0;34m{\u001b[0m\u001b[0;34m\"-1\"\u001b[0m\u001b[0;34m:\u001b[0m \u001b[0;34m\"6\"\u001b[0m\u001b[0;34m,\u001b[0m \u001b[0;34m\"1\"\u001b[0m\u001b[0;34m:\u001b[0m \u001b[0;34m\"9\"\u001b[0m\u001b[0;34m}\u001b[0m\u001b[0;34m\u001b[0m\u001b[0m\n",
      "\u001b[0;32m~/Documents/VIRTCode/qiskit-aqua-hhl/demo/svm/ocr_prep.py\u001b[0m in \u001b[0;36mdisplay_images\u001b[0;34m(paths, size, title)\u001b[0m\n\u001b[1;32m     90\u001b[0m     \u001b[0mc\u001b[0m \u001b[0;34m=\u001b[0m \u001b[0;36m1\u001b[0m\u001b[0;34m\u001b[0m\u001b[0m\n\u001b[1;32m     91\u001b[0m     \u001b[0;32mfor\u001b[0m \u001b[0max\u001b[0m\u001b[0;34m,\u001b[0m \u001b[0mpath\u001b[0m \u001b[0;32min\u001b[0m \u001b[0mzip\u001b[0m\u001b[0;34m(\u001b[0m\u001b[0maxes\u001b[0m\u001b[0;34m,\u001b[0m \u001b[0mpaths\u001b[0m\u001b[0;34m)\u001b[0m\u001b[0;34m:\u001b[0m\u001b[0;34m\u001b[0m\u001b[0m\n\u001b[0;32m---> 92\u001b[0;31m         \u001b[0mim\u001b[0m \u001b[0;34m=\u001b[0m \u001b[0mmpimg\u001b[0m\u001b[0;34m.\u001b[0m\u001b[0mimread\u001b[0m\u001b[0;34m(\u001b[0m\u001b[0mpath\u001b[0m\u001b[0;34m)\u001b[0m\u001b[0;34m\u001b[0m\u001b[0m\n\u001b[0m\u001b[1;32m     93\u001b[0m         \u001b[0max\u001b[0m\u001b[0;34m.\u001b[0m\u001b[0mimshow\u001b[0m\u001b[0;34m(\u001b[0m\u001b[0mim\u001b[0m\u001b[0;34m,\u001b[0m \u001b[0mcmap\u001b[0m\u001b[0;34m=\u001b[0m\u001b[0;34m\"binary\"\u001b[0m\u001b[0;34m)\u001b[0m\u001b[0;34m\u001b[0m\u001b[0m\n\u001b[1;32m     94\u001b[0m         \u001b[0max\u001b[0m\u001b[0;34m.\u001b[0m\u001b[0mset_xticks\u001b[0m\u001b[0;34m(\u001b[0m\u001b[0;34m[\u001b[0m\u001b[0;34m]\u001b[0m\u001b[0;34m,\u001b[0m \u001b[0;34m[\u001b[0m\u001b[0;34m]\u001b[0m\u001b[0;34m)\u001b[0m\u001b[0;34m\u001b[0m\u001b[0m\n",
      "\u001b[0;32m~/.local/lib/python3.7/site-packages/matplotlib/image.py\u001b[0m in \u001b[0;36mimread\u001b[0;34m(fname, format)\u001b[0m\n\u001b[1;32m   1374\u001b[0m             \u001b[0;32mreturn\u001b[0m \u001b[0mhandler\u001b[0m\u001b[0;34m(\u001b[0m\u001b[0mfd\u001b[0m\u001b[0;34m)\u001b[0m\u001b[0;34m\u001b[0m\u001b[0m\n\u001b[1;32m   1375\u001b[0m         \u001b[0;32melse\u001b[0m\u001b[0;34m:\u001b[0m\u001b[0;34m\u001b[0m\u001b[0m\n\u001b[0;32m-> 1376\u001b[0;31m             \u001b[0;32mwith\u001b[0m \u001b[0mopen\u001b[0m\u001b[0;34m(\u001b[0m\u001b[0mfname\u001b[0m\u001b[0;34m,\u001b[0m \u001b[0;34m'rb'\u001b[0m\u001b[0;34m)\u001b[0m \u001b[0;32mas\u001b[0m \u001b[0mfd\u001b[0m\u001b[0;34m:\u001b[0m\u001b[0;34m\u001b[0m\u001b[0m\n\u001b[0m\u001b[1;32m   1377\u001b[0m                 \u001b[0;32mreturn\u001b[0m \u001b[0mhandler\u001b[0m\u001b[0;34m(\u001b[0m\u001b[0mfd\u001b[0m\u001b[0;34m)\u001b[0m\u001b[0;34m\u001b[0m\u001b[0m\n\u001b[1;32m   1378\u001b[0m     \u001b[0;32melse\u001b[0m\u001b[0;34m:\u001b[0m\u001b[0;34m\u001b[0m\u001b[0m\n",
      "\u001b[0;31mFileNotFoundError\u001b[0m: [Errno 2] No such file or directory: '/home/jan/.demo/svm/data/train9.png'"
     ]
    },
    {
     "data": {
      "image/png": "[encoded data removed]",
      "text/plain": [
       "<Figure size 288x288 with 2 Axes>"
      ]
     },
     "metadata": {},
     "output_type": "display_data"
    }
   ],
   "source": [
    "training_set = [\"train9.png\", \"train6.png\"]\n",
    "training_set = list(map(lambda x: os.path.join(prep.BASE_PATH, x), training_set))\n",
    "#training_set = prep.get_random_set(n=2)\n",
    "prep.display_images(training_set, title=False)\n",
    "\n",
    "labels = {\"-1\": \"6\", \"1\": \"9\"}\n",
    "\n",
    "training_data = prep.preprocess_images(training_set, labels=[1, -1])\n",
    "print(training_data)"
   ]
  },
  {
   "cell_type": "code",
   "execution_count": null,
   "metadata": {
    "scrolled": true
   },
   "outputs": [],
   "source": [
    "test_set = prep.get_random_set(n=1)\n",
    "prep.display_images(test_set, title=False)\n",
    "\n",
    "test_data = prep.preprocess_images(test_set)\n",
    "print(test_data)"
   ]
  },
  {
   "cell_type": "markdown",
   "metadata": {},
   "source": [
    "## Matrix generation\n",
    "\n",
    "Rebentrost et. al. state a quantum algorithm which creates the matrix on the quantum computer and directly uses is to calculate its inverse. However due to viability problems, we choose a hybrid approach like Li et al. Here the matrix is generated and then reconstructed classically using state tomography. This matrix is also calculated classically, being $K_{ij} = \\vec{x_i}\\cdot\\vec{x_j}$."
   ]
  },
  {
   "cell_type": "code",
   "execution_count": null,
   "metadata": {
    "scrolled": true
   },
   "outputs": [],
   "source": [
    "tomo_matrix = svm._construct_density_matrix2x2(training_data)\n",
    "clas_matrix = np.array([[w[0].dot(v[0]) for w in training_data] for v in training_data])\n",
    "clas_matrix = clas_matrix/np.trace(clas_matrix)\n",
    "print(\"Construct classical matrix\")\n",
    "print(clas_matrix)\n",
    "matrix = tomo_matrix"
   ]
  },
  {
   "cell_type": "markdown",
   "metadata": {},
   "source": [
    "## Construction and execution of the circuit\n",
    "\n",
    "The HHL algorithm is being constructed here. After its execution the circuit for finding the classification of the the testing data point is appended. The probability of measuring a specific qubit in $|0\\rangle$ is then $\\frac{1}{2}(1+\\langle x | u \\rangle)$, where the sign of $\\langle x | u \\rangle$ tells us the group the input belongs to. \n",
    "\n",
    "The HHL algorithm has a probability of failing, that means the first qubit measures $|0\\rangle$. So all those counts are discarded. The difference between $|10\\rangle$ and $|11\\rangle$ should eventually give the demanded classification."
   ]
  },
  {
   "cell_type": "code",
   "execution_count": null,
   "metadata": {},
   "outputs": [],
   "source": [
    "invec = svm.normalize([td[1] for td in training_data])\n",
    "qc = svm._construct_hhl(matrix, invec=invec, evo_time=2*np.pi)\n",
    "svm._construct_svm_expectation_value2x2(qc, training_data, test_data[0])\n",
    "print(\"b =\", invec)"
   ]
  },
  {
   "cell_type": "code",
   "execution_count": null,
   "metadata": {
    "scrolled": true
   },
   "outputs": [],
   "source": [
    "result = execute(qc, backend=\"local_qasm_simulator\").result()\n",
    "print(result)"
   ]
  },
  {
   "cell_type": "code",
   "execution_count": null,
   "metadata": {},
   "outputs": [],
   "source": [
    "print(result.get_counts())\n",
    "svm.plot_counts(result, [qc])\n",
    "cla = svm.classify_results(result, [qc], test_data)\n",
    "print(\"The digit is a\", labels[str(cla[0][1])])"
   ]
  },
  {
   "cell_type": "markdown",
   "metadata": {},
   "source": [
    "## Bulk testing\n",
    "\n",
    "Here, the above code is tested far more testing samples. The upper cell generates a test_set and the lower cell classifies it."
   ]
  },
  {
   "cell_type": "code",
   "execution_count": null,
   "metadata": {},
   "outputs": [],
   "source": [
    "test_set_bulk = prep.get_random_set()\n",
    "test_data_bulk = prep.preprocess_images(test_set_bulk)\n",
    "fig, axes = prep.display_images(test_set_bulk, title=False)"
   ]
  },
  {
   "cell_type": "code",
   "execution_count": null,
   "metadata": {},
   "outputs": [],
   "source": [
    "res = svm.classify(training_data, test_data_bulk, matrix=matrix, evo_time=2*np.pi, plot=True)\n",
    "res2 = svm.classify_classically(training_data, test_data_bulk, matrix)\n",
    "for ax, re, re2 in zip(axes, res, res2):\n",
    "    ax.set_title(\"Q: \" + labels[str(re[1])] + \"  C: \" + labels[str(re2[1])], size=18, color=\"red\" if re[1] != re2[1] else \"green\")\n",
    "fig"
   ]
  },
  {
   "cell_type": "markdown",
   "metadata": {},
   "source": [
    "## The circuit\n",
    "\n",
    "The abstract circuit looks like this:\n",
    "\n",
    "![](img/circ/svm2.png)\n",
    "\n",
    "The operators and states are defined like $U|0\\rangle|\\vec{\\alpha}\\rangle = |u\\rangle$ and $V|0\\rangle|0\\rangle=|v\\rangle$. The angles $\\theta_i$ correspond to the feature vectors like $\\theta_i = 2\\arcsin\\frac{x_i^1}{x_i^2}$. The subscript $x$ indicates the test-vector. So the full measuring process is basically  $\\langle 00|V^{*T}|u\\rangle=\\langle v|u\\rangle$. The controlling of $V^{*T}$ gives the probabilities $P_{0/1} = \\frac{1}{2}(\\langle00|u\\rangle \\pm \\langle v|u\\rangle)$ of measuring $|0\\rangle$ ($|1\\rangle$) in the second qubit, i.e. $P_0-P_1=\\langle v|u\\rangle$. [More on theory](svm_ocr_theoretical.ipynb)\n",
    "\n",
    "The full qasm circuit is shown below:"
   ]
  },
  {
   "cell_type": "code",
   "execution_count": null,
   "metadata": {},
   "outputs": [],
   "source": [
    "from qiskit.tools.visualization import matplotlib_circuit_drawer\n",
    "matplotlib_circuit_drawer(qc)"
   ]
  },
  {
   "cell_type": "code",
   "execution_count": null,
   "metadata": {},
   "outputs": [],
   "source": []
  }
 ],
 "metadata": {
  "kernelspec": {
   "display_name": "Python 3",
   "language": "python",
   "name": "python3"
  },
  "language_info": {
   "codemirror_mode": {
    "name": "ipython",
    "version": 3
   },
   "file_extension": ".py",
   "mimetype": "text/x-python",
   "name": "python",
   "nbconvert_exporter": "python",
   "pygments_lexer": "ipython3",
   "version": "3.7.0"
  },
  "toc": {
   "base_numbering": 1,
   "nav_menu": {},
   "number_sections": true,
   "sideBar": true,
   "skip_h1_title": false,
   "title_cell": "Table of Contents",
   "title_sidebar": "Contents",
   "toc_cell": false,
   "toc_position": {},
   "toc_section_display": true,
   "toc_window_display": false
  }
 },
 "nbformat": 4,
 "nbformat_minor": 2
}
