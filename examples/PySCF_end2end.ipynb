{
 "cells": [
  {
   "cell_type": "code",
   "execution_count": 1,
   "metadata": {},
   "outputs": [],
   "source": [
    "# import common packages\n",
    "import paths\n",
    "import numpy as np\n",
    "\n",
    "import qiskit\n",
    "from qiskit import QuantumRegister, ClassicalRegister, QuantumCircuit\n",
    "\n",
    "# lib from QISChem\n",
    "from qiskit_acqua_chemistry import FermionicOperator\n",
    "\n",
    "# lib from optimizer and algorithm\n",
    "from qiskit_acqua.operator import Operator\n",
    "from qiskit_acqua import (get_algorithm_instance, get_optimizer_instance, get_variational_form_instance)\n",
    "\n",
    "# lib for driver\n",
    "from qiskit_acqua_chemistry.drivers import ConfigurationManager\n",
    "from collections import OrderedDict"
   ]
  },
  {
   "cell_type": "code",
   "execution_count": 2,
   "metadata": {},
   "outputs": [],
   "source": [
    "# using driver to get fermionic Hamiltonian\n",
    "# PySCF example\n",
    "cfg_mgr = ConfigurationManager()\n",
    "pyscf_cfg = OrderedDict([('atom', 'H .0 .0 .0; H .0 .0 0.735'), ('unit', 'Angstrom'), ('charge', 0), ('spin', 0), ('basis', 'sto3g')])\n",
    "section = {}\n",
    "section['properties'] = pyscf_cfg\n",
    "driver = cfg_mgr.get_driver_instance('PYSCF')\n",
    "molecule = driver.run(section)"
   ]
  },
  {
   "cell_type": "code",
   "execution_count": 3,
   "metadata": {},
   "outputs": [],
   "source": [
    "# get fermionic operator and mapping to qubit operator\n",
    "ferOp = FermionicOperator(h1=molecule._one_body_integrals, h2=molecule._two_body_integrals)\n",
    "qubitOp = ferOp.mapping(map_type='JORDAN_WIGNER', threshold=0.00000001)\n",
    "qubitOp.convert('paulis','matrix')\n",
    "qubitOp.chop(10**-10)"
   ]
  },
  {
   "cell_type": "code",
   "execution_count": 4,
   "metadata": {},
   "outputs": [],
   "source": [
    "# if you do not install any driver and want like to start with random Hamiltonian\n",
    "# SIZE=4\n",
    "# matrix = np.random.random((SIZE,SIZE))\n",
    "# qubitOp = Operator(matrix=matrix)"
   ]
  },
  {
   "cell_type": "code",
   "execution_count": null,
   "metadata": {},
   "outputs": [
    {
     "name": "stderr",
     "output_type": "stream",
     "text": [
      "WARNING:qiskit_acqua.ising.simple_cplex:CPLEX is not installed. See https://www.ibm.com/support/knowledgecenter/SSSA5P_12.8.0/ilog.odms.studio.help/Optimization_Studio/topics/COS_home.html\n",
      "WARNING:qiskit_acqua.ising.simple_cplex:CPLEX is not installed. See https://www.ibm.com/support/knowledgecenter/SSSA5P_12.8.0/ilog.odms.studio.help/Optimization_Studio/topics/COS_home.html\n"
     ]
    },
    {
     "name": "stdout",
     "output_type": "stream",
     "text": [
      "The exact ground state energy is: -1.8572750302023826\n"
     ]
    }
   ],
   "source": [
    "# Using exact eigensolver to get the smallest eigenvalue\n",
    "exact_eigensolver = get_algorithm_instance('ExactEigensolver')\n",
    "exact_eigensolver.init_args(qubitOp, k=1)\n",
    "ret = exact_eigensolver.run()\n",
    "print('The exact ground state energy is: {}'.format(ret['eigvals'][0].real))"
   ]
  },
  {
   "cell_type": "code",
   "execution_count": null,
   "metadata": {},
   "outputs": [],
   "source": [
    "# %timeit\n",
    "# setup VQE \n",
    "# setup optimizer, use L_BFGS_B optimizer for example\n",
    "lbfgs = get_optimizer_instance('L_BFGS_B')\n",
    "lbfgs.set_options(maxfun=1000, factr=10, iprint=10)\n",
    "# spsa = get_optimizer_instance('SPSA')\n",
    "# lbfgs.print_options()\n",
    "\n",
    "# setup variation form generator (generate trial circuits for VQE)\n",
    "var_form = get_variational_form_instance('RYRZ')\n",
    "var_form.init_args(qubitOp.num_qubits, 5, entangler_map = {0: [1], 1:[2], 2:[3]})\n",
    "\n",
    "# setup VQE with operator, variation form, and optimzer\n",
    "vqe_algorithm = get_algorithm_instance('VQE')\n",
    "vqe_algorithm.setup_quantum_backend(backend='local_statevector_simulator', skip_translation=True)\n",
    "vqe_algorithm.init_args(qubitOp, 'matrix', var_form, lbfgs)\n",
    "results = vqe_algorithm.run()\n",
    "print(\"Minimum value: {}\".format(results['eigvals'][0].real))\n",
    "print(\"Parameters: {}\".format(results['opt_params']))"
   ]
  },
  {
   "cell_type": "code",
   "execution_count": null,
   "metadata": {},
   "outputs": [],
   "source": []
  }
 ],
 "metadata": {
  "kernelspec": {
   "display_name": "Python 3",
   "language": "python",
   "name": "python3"
  },
  "language_info": {
   "codemirror_mode": {
    "name": "ipython",
    "version": 3
   },
   "file_extension": ".py",
   "mimetype": "text/x-python",
   "name": "python",
   "nbconvert_exporter": "python",
   "pygments_lexer": "ipython3",
   "version": "3.6.4"
  }
 },
 "nbformat": 4,
 "nbformat_minor": 1
}
