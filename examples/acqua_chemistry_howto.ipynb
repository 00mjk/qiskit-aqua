{
 "cells": [
  {
   "cell_type": "markdown",
   "metadata": {},
   "source": [
    "## _*QISKit ACQUA Chemistry basic how to*_\n",
    "\n",
    "This notebook demonstrates how to use QISKit ACQUA Chemistry to compute the ground state energy of a Hydrogen (H2) molecule using VQE and UCCSD.\n",
    "\n",
    "This notebook has been written to use the HDF5 chemistry driver. This driver uses molecular data that has been saved from a prior computation so that this notebook can be run with no additional driver installation requirements. See the HDF5 chemistry driver readme for more detail.\n",
    "\n",
    "First we import ACQUAChemistry, which is the object that will carry out the computation for us"
   ]
  },
  {
   "cell_type": "code",
   "execution_count": 1,
   "metadata": {},
   "outputs": [],
   "source": [
    "import paths\n",
    "from qiskit_acqua_chemistry import ACQUAChemistry"
   ]
  },
  {
   "cell_type": "markdown",
   "metadata": {},
   "source": [
    "Next, we create a Python dictionary to specify the problem we want to solve. There are defaults for many additional values that are not show here for simpicity. Indeed we take advantage of using sensisble defaults that the qischem stack provides to help us here.  Please notice that the QISKit ACQUA Chemistry GUI allows for automatic extraction of the Python dictionary reflecting the current configuration.  Once the Python dictionary has been extracted, it can be pasted into a Python program or a Jupyter Notebook and, if necessary, edited.\n",
    "\n",
    "The first entry names a chemistry driver. This example uses HDF5 and the next line configures the driver for an hdf5 file that contains data from a prior computation for an H2 molecule with basis set sto-3g. The operator line would default but I have added it here to show it and to say that this is where the problem is converted into a quantum qubit form. We then have a VQE algorithm, using the COBYLA optimizer with a UCCSD variatonal form and initial state of HartreeFock. VQE is Variational Quantum Eigensolver and as its name suggests uses a variational method to find the mimimum eigenvalue of the problem, which in this case is the ground state energy of the molecule."
   ]
  },
  {
   "cell_type": "code",
   "execution_count": 2,
   "metadata": {
    "scrolled": true
   },
   "outputs": [],
   "source": [
    "# Input dictionary to configure QISKit ACQUA Chemistry for the chemistry problem.\n",
    "acqua_chemistry_dict = {\n",
    "    'driver': {'name': 'HDF5'},\n",
    "    'HDF5': {'hdf5_input': 'molecule.hdf5'},\n",
    "    'operator': {'name': 'hamiltonian'},\n",
    "    'algorithm': {'name': 'VQE'},\n",
    "    'optimizer': {'name': 'COBYLA'},\n",
    "    'variational_form': {'name': 'UCCSD'},\n",
    "    'initial_state': {'name': 'HartreeFock'}\n",
    "}"
   ]
  },
  {
   "cell_type": "markdown",
   "metadata": {},
   "source": [
    "We can now create a ACQUAChemistry object and call run on it passing in the problem dictionary to get a result. This may take a short time and it will use a local quantum simulator to carry out the quantum computation that the VQE algorithm uses."
   ]
  },
  {
   "cell_type": "code",
   "execution_count": 3,
   "metadata": {},
   "outputs": [],
   "source": [
    "solver = ACQUAChemistry()\n",
    "result = solver.run(acqua_chemistry_dict)"
   ]
  },
  {
   "cell_type": "markdown",
   "metadata": {},
   "source": [
    "The run method returns a result dictionary. Some notable fields include 'energy' which is the computed ground state energy. We can print it."
   ]
  },
  {
   "cell_type": "code",
   "execution_count": 4,
   "metadata": {},
   "outputs": [
    {
     "name": "stdout",
     "output_type": "stream",
     "text": [
      "Ground state energy: -1.1373060242375774\n"
     ]
    }
   ],
   "source": [
    "print('Ground state energy: {}'.format(result['energy']))"
   ]
  },
  {
   "cell_type": "markdown",
   "metadata": {},
   "source": [
    "There is also a 'printable' field containing a complete ready to print readable result"
   ]
  },
  {
   "cell_type": "code",
   "execution_count": 5,
   "metadata": {},
   "outputs": [
    {
     "name": "stdout",
     "output_type": "stream",
     "text": [
      "* Electronic ground state energy: -1.857275015516489\n",
      "  - computed part:      -1.857275015516489\n",
      "  - frozen energy part: 0.0\n",
      "  - particle hole part: 0.0\n",
      "~ Nuclear repulsion energy: 0.7199689912789116\n",
      "> Total ground state energy: -1.1373060242375774\n",
      "  Measured:: Num particles: 2.000, S: 0.000, M: 0.00000\n",
      "* Electronic dipole moment: [ 0.          0.         -1.38912168]\n",
      "  - computed part:      [ 0.          0.         -1.38912168]\n",
      "  - frozen energy part: [0. 0. 0.]\n",
      "  - particle hole part: [0. 0. 0.]\n",
      "~ Nuclear dipole moment: [0.         0.         1.38894871]\n",
      "> Dipole moment: [ 0.          0.         -0.00017297]  Total: 0.00017297180780473376\n"
     ]
    }
   ],
   "source": [
    "for line in result['printable']:\n",
    "    print(line)"
   ]
  },
  {
   "cell_type": "markdown",
   "metadata": {},
   "source": [
    "This was a very simple example showing how to get started. There are more elaborate notebooks here as well documentation describing the various components and their configurations to help you to experiment with quantum computing and its application to solving chemistry problems."
   ]
  }
 ],
 "metadata": {
  "kernelspec": {
   "display_name": "Python 3",
   "language": "python",
   "name": "python3"
  },
  "language_info": {
   "codemirror_mode": {
    "name": "ipython",
    "version": 3
   },
   "file_extension": ".py",
   "mimetype": "text/x-python",
   "name": "python",
   "nbconvert_exporter": "python",
   "pygments_lexer": "ipython3",
   "version": "3.6.1"
  }
 },
 "nbformat": 4,
 "nbformat_minor": 1
}
