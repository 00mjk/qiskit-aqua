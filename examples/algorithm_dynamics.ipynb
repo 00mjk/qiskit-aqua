{
 "cells": [
  {
   "cell_type": "markdown",
   "metadata": {},
   "source": [
    "This notebook demonstrates how to use the IBM Quantum Algorithm library to invoke a specific algorithm and process the result.\n",
    "\n",
    "Further information is available for the algorithms in the github repo algorithms/readme.md\n",
    "\n",
    "For this particular demonstration, we illustrate the `Dynamics` algorithm. First, two `Operator` instances are created for our randomly generated Hamiltonians."
   ]
  },
  {
   "cell_type": "code",
   "execution_count": 1,
   "metadata": {},
   "outputs": [],
   "source": [
    "import paths\n",
    "import numpy as np\n",
    "from qiskit_acqua.operator import Operator\n",
    "\n",
    "num_qubits = 2\n",
    "temp = np.random.random((2 ** num_qubits, 2 ** num_qubits))\n",
    "qubitOp = Operator(matrix=temp + temp.T)\n",
    "temp = np.random.random((2 ** num_qubits, 2 ** num_qubits))\n",
    "evoOp = Operator(matrix=temp + temp.T)"
   ]
  },
  {
   "cell_type": "markdown",
   "metadata": {},
   "source": [
    "For quantum dynamics, we would like to evolve some initial state (e.g. the uniform superposition state) with `evoOp` and do a measurement using `qubitOp`. Below, we illustrate how such an example dynamics process can be easily prepared."
   ]
  },
  {
   "cell_type": "code",
   "execution_count": 2,
   "metadata": {},
   "outputs": [],
   "source": [
    "from qiskit_acqua.input import get_input_instance\n",
    "\n",
    "params = {\n",
    "    'problem': {\n",
    "        'name': 'dynamics'\n",
    "    },\n",
    "    'algorithm': {\n",
    "        'name': 'Dynamics',\n",
    "        'num_time_slices': 1\n",
    "    },\n",
    "    'initial_state': {\n",
    "        'name': 'CUSTOM',\n",
    "        'state': 'uniform'\n",
    "    },\n",
    "    'backend': {\n",
    "        'name': 'local_statevector_simulator'\n",
    "    }\n",
    "}\n",
    "algo_input = get_input_instance('EnergyInput')\n",
    "algo_input.qubit_op = qubitOp\n",
    "algo_input.add_aux_op(evoOp)"
   ]
  },
  {
   "cell_type": "markdown",
   "metadata": {},
   "source": [
    "With all the necessary pieces prepared, we can then proceed to run the algorithm and examine the result."
   ]
  },
  {
   "cell_type": "code",
   "execution_count": 3,
   "metadata": {},
   "outputs": [
    {
     "name": "stderr",
     "output_type": "stream",
     "text": [
      "WARNING:qiskit_acqua.ising.simple_cplex:CPLEX is not installed. See https://www.ibm.com/support/knowledgecenter/SSSA5P_12.8.0/ilog.odms.studio.help/Optimization_Studio/topics/COS_home.html\n",
      "WARNING:qiskit_acqua.ising.simple_cplex:CPLEX is not installed. See https://www.ibm.com/support/knowledgecenter/SSSA5P_12.8.0/ilog.odms.studio.help/Optimization_Studio/topics/COS_home.html\n",
      "WARNING:qiskit_acqua.utils.variational_forms.uccsd:UCCSD can be only used with qiskit_acqua_chemistry lib. Please install it.\n",
      "WARNING:qiskit_acqua.utils.variational_forms.uccsd:UCCSD can be only used with qiskit_acqua_chemistry lib. Please install it.\n"
     ]
    },
    {
     "name": "stdout",
     "output_type": "stream",
     "text": [
      "The dynamics result is\n",
      "{'avg': (1.9114182872009517-1.6720505148933006e-16j), 'std_dev': 0.0}\n"
     ]
    }
   ],
   "source": [
    "from qiskit_acqua import run_algorithm\n",
    "\n",
    "ret = run_algorithm(params,algo_input)\n",
    "print('The dynamics result is\\n{}'.format(ret))"
   ]
  }
 ],
 "metadata": {
  "kernelspec": {
   "display_name": "Python 3",
   "language": "python",
   "name": "python3"
  },
  "language_info": {
   "codemirror_mode": {
    "name": "ipython",
    "version": 3
   },
   "file_extension": ".py",
   "mimetype": "text/x-python",
   "name": "python",
   "nbconvert_exporter": "python",
   "pygments_lexer": "ipython3",
   "version": "3.6.4"
  }
 },
 "nbformat": 4,
 "nbformat_minor": 1
}
