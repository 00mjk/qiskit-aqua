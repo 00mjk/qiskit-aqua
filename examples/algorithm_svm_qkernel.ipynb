{
 "cells": [
  {
   "cell_type": "markdown",
   "metadata": {},
   "source": [
    "### Quantum SVM (quantum kernel method)\n",
    "This notebook shows the SVM implementation based on the quantum kernel."
   ]
  },
  {
   "cell_type": "markdown",
   "metadata": {},
   "source": [
    "first, we do some import work"
   ]
  },
  {
   "cell_type": "code",
   "execution_count": 1,
   "metadata": {},
   "outputs": [],
   "source": [
    "import paths\n",
    "import os\n",
    "import sys\n",
    "from algorithm_svm_datasets import *\n",
    "from qiskit_acqua.svm.data_preprocess import *\n",
    "from qiskit_acqua.input import get_input_instance\n",
    "from qiskit_acqua import run_algorithm"
   ]
  },
  {
   "cell_type": "markdown",
   "metadata": {},
   "source": [
    "now, we prepare the dataset, which is used for training, testing and prediction afterwards.\n",
    "You can easily switch to a different dataset such as the Breast Cancer dataset by replacing 'ad_hoc_data' to 'Breast_cancer' below."
   ]
  },
  {
   "cell_type": "code",
   "execution_count": 2,
   "metadata": {},
   "outputs": [
    {
     "data": {
      "image/png": "[encoded data removed]",
      "text/plain": [
       "<matplotlib.figure.Figure at 0x113807ba8>"
      ]
     },
     "metadata": {},
     "output_type": "display_data"
    },
    {
     "data": {
      "image/png": "[encoded data removed]",
      "text/plain": [
       "<matplotlib.figure.Figure at 0x11169e9b0>"
      ]
     },
     "metadata": {},
     "output_type": "display_data"
    }
   ],
   "source": [
    "num_of_qubits=2\n",
    "sample_Total, training_input, test_input, class_labels = ad_hoc_data(training_size=20, test_size=10, n=num_of_qubits, gap=0.3, PLOT_DATA=True)\n",
    "total_array, label_to_labelclass = get_points(test_input, class_labels)"
   ]
  },
  {
   "cell_type": "markdown",
   "metadata": {},
   "source": [
    "we initialize the necessary inputs: the input dictionary (params) and the input object (algo_input)."
   ]
  },
  {
   "cell_type": "code",
   "execution_count": 3,
   "metadata": {},
   "outputs": [],
   "source": [
    "params = {\n",
    "    'problem': {'name': 'svm_classification'},\n",
    "    'backend': {'name': 'local_qasm_simulator', 'shots':1000},\n",
    "    'algorithm': {\n",
    "        'name': 'SVM_QKernel',\n",
    "        'num_of_qubits': num_of_qubits\n",
    "    }\n",
    "}\n",
    "\n",
    "algo_input = get_input_instance('SVMInput')\n",
    "algo_input.training_dataset  = training_input\n",
    "algo_input.test_dataset = test_input\n",
    "algo_input.datapoints = total_array"
   ]
  },
  {
   "cell_type": "markdown",
   "metadata": {},
   "source": [
    "since everything is setup, let us run the algorithm.\n",
    "\n",
    "for the testing, the result includes the details and the success ratio.\n",
    "\n",
    "for the prediction, the result includes the predicted labels. "
   ]
  },
  {
   "cell_type": "code",
   "execution_count": 4,
   "metadata": {},
   "outputs": [
    {
     "name": "stdout",
     "output_type": "stream",
     "text": [
      "\n",
      "=============================================\n",
      "classifying [3.64424748 5.27787566]\n",
      "Label should be  A\n",
      "Predicted label is  A\n",
      "CORRECT\n",
      "\n",
      "=============================================\n",
      "classifying [2.32477856 4.20973416]\n",
      "Label should be  A\n",
      "Predicted label is  A\n",
      "CORRECT\n",
      "\n",
      "=============================================\n",
      "classifying [2.57610598 3.76991118]\n",
      "Label should be  A\n",
      "Predicted label is  A\n",
      "CORRECT\n",
      "\n",
      "=============================================\n",
      "classifying [4.20973416 2.45044227]\n",
      "Label should be  A\n",
      "Predicted label is  A\n",
      "CORRECT\n",
      "\n",
      "=============================================\n",
      "classifying [1.69646003 5.65486678]\n",
      "Label should be  A\n",
      "Predicted label is  A\n",
      "CORRECT\n",
      "\n",
      "=============================================\n",
      "classifying [5.27787566 2.82743339]\n",
      "Label should be  A\n",
      "Predicted label is  A\n",
      "CORRECT\n",
      "\n",
      "=============================================\n",
      "classifying [2.63893783 0.69115038]\n",
      "Label should be  A\n",
      "Predicted label is  A\n",
      "CORRECT\n",
      "\n",
      "=============================================\n",
      "classifying [3.58141563 3.20442451]\n",
      "Label should be  A\n",
      "Predicted label is  A\n",
      "CORRECT\n",
      "\n",
      "=============================================\n",
      "classifying [5.2150438  5.90619419]\n",
      "Label should be  A\n",
      "Predicted label is  A\n",
      "CORRECT\n",
      "\n",
      "=============================================\n",
      "classifying [2.32477856 3.0787608 ]\n",
      "Label should be  A\n",
      "Predicted label is  A\n",
      "CORRECT\n",
      "\n",
      "=============================================\n",
      "classifying [1.94778745 5.52920307]\n",
      "Label should be  B\n",
      "Predicted label is  B\n",
      "CORRECT\n",
      "\n",
      "=============================================\n",
      "classifying [6.1575216  5.34070751]\n",
      "Label should be  B\n",
      "Predicted label is  B\n",
      "CORRECT\n",
      "\n",
      "=============================================\n",
      "classifying [1.57079633 0.31415927]\n",
      "Label should be  B\n",
      "Predicted label is  B\n",
      "CORRECT\n",
      "\n",
      "=============================================\n",
      "classifying [3.26725636 4.58672527]\n",
      "Label should be  B\n",
      "Predicted label is  B\n",
      "CORRECT\n",
      "\n",
      "=============================================\n",
      "classifying [3.89557489 5.65486678]\n",
      "Label should be  B\n",
      "Predicted label is  B\n",
      "CORRECT\n",
      "\n",
      "=============================================\n",
      "classifying [3.14159265 1.19380521]\n",
      "Label should be  B\n",
      "Predicted label is  B\n",
      "CORRECT\n",
      "\n",
      "=============================================\n",
      "classifying [0.12566371 1.25663706]\n",
      "Label should be  B\n",
      "Predicted label is  B\n",
      "CORRECT\n",
      "\n",
      "=============================================\n",
      "classifying [2.63893783 2.32477856]\n",
      "Label should be  B\n",
      "Predicted label is  B\n",
      "CORRECT\n",
      "\n",
      "=============================================\n",
      "classifying [4.52389342 0.87964594]\n",
      "Label should be  B\n",
      "Predicted label is  B\n",
      "CORRECT\n",
      "\n",
      "=============================================\n",
      "classifying [6.22035345 0.81681409]\n",
      "Label should be  B\n",
      "Predicted label is  B\n",
      "CORRECT\n",
      "Classification success for this set is 100.0 % \n",
      "\n",
      "{'test_success_ratio': 1.0, 'predicted_labels': ['A', 'A', 'A', 'A', 'A', 'A', 'A', 'A', 'A', 'A', 'B', 'B', 'B', 'B', 'B', 'B', 'B', 'B', 'B', 'B']}\n"
     ]
    }
   ],
   "source": [
    "result = run_algorithm(params,algo_input)\n",
    "print(result)"
   ]
  }
 ],
 "metadata": {
  "kernelspec": {
   "display_name": "Python 3",
   "language": "python",
   "name": "python3"
  },
  "language_info": {
   "codemirror_mode": {
    "name": "ipython",
    "version": 3.0
   },
   "file_extension": ".py",
   "mimetype": "text/x-python",
   "name": "python",
   "nbconvert_exporter": "python",
   "pygments_lexer": "ipython3",
   "version": "3.6.5"
  }
 },
 "nbformat": 4,
 "nbformat_minor": 0
}