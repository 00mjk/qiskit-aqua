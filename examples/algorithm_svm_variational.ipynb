{
 "cells": [
  {
   "cell_type": "markdown",
   "metadata": {},
   "source": [
    "### Quantum SVM (variational method)\n",
    "This notebook shows the SVM implementation based on the variational method."
   ]
  },
  {
   "cell_type": "markdown",
   "metadata": {},
   "source": [
    "first, we do some import work\n"
   ]
  },
  {
   "cell_type": "code",
   "execution_count": 1,
   "metadata": {},
   "outputs": [],
   "source": [
    "import paths\n",
    "import os\n",
    "import sys\n",
    "from algorithm_svm_datasets import *\n",
    "from qiskit_acqua.svm.data_preprocess import *\n",
    "from qiskit_acqua.input import get_input_instance\n",
    "from qiskit_acqua import run_algorithm"
   ]
  },
  {
   "cell_type": "markdown",
   "metadata": {},
   "source": [
    "now, we prepare the dataset, which is used for training, testing and prediction afterwards.\n",
    "You can easily switch to a different dataset such as the Breast Cancer dataset by replacing 'ad_hoc_data' to 'Breast_cancer' below."
   ]
  },
  {
   "cell_type": "code",
   "execution_count": 2,
   "metadata": {},
   "outputs": [
    {
     "data": {
      "image/png": "[encoded data removed]",
      "text/plain": [
       "<matplotlib.figure.Figure at 0x117c08630>"
      ]
     },
     "metadata": {},
     "output_type": "display_data"
    },
    {
     "data": {
      "image/png": "[encoded data removed]",
      "text/plain": [
       "<matplotlib.figure.Figure at 0x117cc3518>"
      ]
     },
     "metadata": {},
     "output_type": "display_data"
    }
   ],
   "source": [
    "num_of_qubits=2\n",
    "sample_Total, training_input, test_input, class_labels = ad_hoc_data(training_size=20, test_size=10, n=num_of_qubits, gap=0.3, PLOT_DATA=True)\n",
    "total_array, label_to_labelclass = get_points(test_input, class_labels)"
   ]
  },
  {
   "cell_type": "markdown",
   "metadata": {},
   "source": [
    "we initialize the necessary inputs: the input dictionary (params) and the input object (algo_input)."
   ]
  },
  {
   "cell_type": "code",
   "execution_count": 3,
   "metadata": {},
   "outputs": [],
   "source": [
    "params = {\n",
    "    'problem': {'name': 'svm_classification'},\n",
    "    'backend': {'name': 'local_qasm_simulator', 'shots': 1000},\n",
    "    'algorithm': {\n",
    "        'name': 'SVM_Variational',\n",
    "        'num_of_qubits': num_of_qubits,\n",
    "        'circuit_depth': 3,\n",
    "        'print_info': True\n",
    "    },\n",
    "    'optimizer': {\n",
    "        'name': 'SPSA',\n",
    "        'save_steps': 10,\n",
    "        'max_trials': 200,  #critical!!!  ideal: >200\n",
    "    }\n",
    "}\n",
    "\n",
    "algo_input = get_input_instance('SVMInput')\n",
    "algo_input.training_dataset  = training_input\n",
    "algo_input.test_dataset = test_input\n",
    "algo_input.datapoints = total_array"
   ]
  },
  {
   "cell_type": "markdown",
   "metadata": {},
   "source": [
    "since everything is setup, let us run the algorithm.\n",
    "\n",
    "for the testing, the result includes the details and the success ratio.\n",
    "\n",
    "for the prediction, the result includes the predicted labels."
   ]
  },
  {
   "cell_type": "code",
   "execution_count": 4,
   "metadata": {},
   "outputs": [
    {
     "name": "stdout",
     "output_type": "stream",
     "text": [
      "\n",
      "=============================================\n",
      "\n",
      "Classifying point [3.83274304 5.65486678]. Label should be  A \n",
      "\n",
      "Measured label probability distribution is {'A': 0.663, 'B': 0.33699999999999997} \n",
      "\n",
      "Assigned label is  A  CORRECT \n",
      "\n",
      "\n",
      "=============================================\n",
      "\n",
      "Classifying point [3.58141563 1.69646003]. Label should be  A \n",
      "\n",
      "Measured label probability distribution is {'A': 0.829, 'B': 0.171} \n",
      "\n",
      "Assigned label is  A  CORRECT \n",
      "\n",
      "\n",
      "=============================================\n",
      "\n",
      "Classifying point [4.08407045 6.22035345]. Label should be  A \n",
      "\n",
      "Measured label probability distribution is {'A': 0.774, 'B': 0.226} \n",
      "\n",
      "Assigned label is  A  CORRECT \n",
      "\n",
      "\n",
      "=============================================\n",
      "\n",
      "Classifying point [5.59203492 1.25663706]. Label should be  A \n",
      "\n",
      "Measured label probability distribution is {'A': 0.6869999999999999, 'B': 0.313} \n",
      "\n",
      "Assigned label is  A  CORRECT \n",
      "\n",
      "\n",
      "=============================================\n",
      "\n",
      "Classifying point [0.9424778  5.02654825]. Label should be  A \n",
      "\n",
      "Measured label probability distribution is {'A': 0.621, 'B': 0.379} \n",
      "\n",
      "Assigned label is  A  CORRECT \n",
      "\n",
      "\n",
      "=============================================\n",
      "\n",
      "Classifying point [5.65486678 4.90088454]. Label should be  A \n",
      "\n",
      "Measured label probability distribution is {'A': 0.871, 'B': 0.129} \n",
      "\n",
      "Assigned label is  A  CORRECT \n",
      "\n",
      "\n",
      "=============================================\n",
      "\n",
      "Classifying point [5.0893801 4.1469023]. Label should be  A \n",
      "\n",
      "Measured label probability distribution is {'A': 0.687, 'B': 0.313} \n",
      "\n",
      "Assigned label is  A  CORRECT \n",
      "\n",
      "\n",
      "=============================================\n",
      "\n",
      "Classifying point [3.45575192 0.43982297]. Label should be  A \n",
      "\n",
      "Measured label probability distribution is {'A': 0.823, 'B': 0.177} \n",
      "\n",
      "Assigned label is  A  CORRECT \n",
      "\n",
      "\n",
      "=============================================\n",
      "\n",
      "Classifying point [1.19380521 6.09468975]. Label should be  A \n",
      "\n",
      "Measured label probability distribution is {'A': 0.7060000000000001, 'B': 0.29400000000000004} \n",
      "\n",
      "Assigned label is  A  CORRECT \n",
      "\n",
      "\n",
      "=============================================\n",
      "\n",
      "Classifying point [1.57079633 2.45044227]. Label should be  A \n",
      "\n",
      "Measured label probability distribution is {'A': 0.591, 'B': 0.409} \n",
      "\n",
      "Assigned label is  A  CORRECT \n",
      "\n",
      "\n",
      "=============================================\n",
      "\n",
      "Classifying point [4.64955713 2.26194671]. Label should be  B \n",
      "\n",
      "Measured label probability distribution is {'A': 0.11699999999999999, 'B': 0.883} \n",
      "\n",
      "Assigned label is  B  CORRECT \n",
      "\n",
      "\n",
      "=============================================\n",
      "\n",
      "Classifying point [1.38230077 4.27256601]. Label should be  B \n",
      "\n",
      "Measured label probability distribution is {'A': 0.269, 'B': 0.731} \n",
      "\n",
      "Assigned label is  B  CORRECT \n",
      "\n",
      "\n",
      "=============================================\n",
      "\n",
      "Classifying point [1.38230077 2.32477856]. Label should be  B \n",
      "\n",
      "Measured label probability distribution is {'A': 0.247, 'B': 0.7530000000000001} \n",
      "\n",
      "Assigned label is  B  CORRECT \n",
      "\n",
      "\n",
      "=============================================\n",
      "\n",
      "Classifying point [1.19380521 1.88495559]. Label should be  B \n",
      "\n",
      "Measured label probability distribution is {'A': 0.243, 'B': 0.757} \n",
      "\n",
      "Assigned label is  B  CORRECT \n",
      "\n",
      "\n",
      "=============================================\n",
      "\n",
      "Classifying point [4.96371639 5.90619419]. Label should be  B \n",
      "\n",
      "Measured label probability distribution is {'A': 0.264, 'B': 0.736} \n",
      "\n",
      "Assigned label is  B  CORRECT \n",
      "\n",
      "\n",
      "=============================================\n",
      "\n",
      "Classifying point [3.14159265 5.34070751]. Label should be  B \n",
      "\n",
      "Measured label probability distribution is {'A': 0.22599999999999998, 'B': 0.774} \n",
      "\n",
      "Assigned label is  B  CORRECT \n",
      "\n",
      "\n",
      "=============================================\n",
      "\n",
      "Classifying point [6.09468975 5.34070751]. Label should be  B \n",
      "\n",
      "Measured label probability distribution is {'A': 0.265, 'B': 0.7350000000000001} \n",
      "\n",
      "Assigned label is  B  CORRECT \n",
      "\n",
      "\n",
      "=============================================\n",
      "\n",
      "Classifying point [1.82212374 5.65486678]. Label should be  B \n",
      "\n",
      "Measured label probability distribution is {'A': 0.302, 'B': 0.6980000000000001} \n",
      "\n",
      "Assigned label is  B  CORRECT \n",
      "\n",
      "\n",
      "=============================================\n",
      "\n",
      "Classifying point [0.50265482 1.50796447]. Label should be  B \n",
      "\n",
      "Measured label probability distribution is {'A': 0.263, 'B': 0.737} \n",
      "\n",
      "Assigned label is  B  CORRECT \n",
      "\n",
      "\n",
      "=============================================\n",
      "\n",
      "Classifying point [5.71769863 3.64424748]. Label should be  B \n",
      "\n",
      "Measured label probability distribution is {'A': 0.34700000000000003, 'B': 0.653} \n",
      "\n",
      "Assigned label is  B  CORRECT \n",
      "\n",
      "Classification success for this set is  100.0 %  \n",
      "\n",
      "{'test_success_ratio': 1.0, 'predicted_labels': ['A', 'A', 'A', 'A', 'A', 'A', 'A', 'A', 'A', 'A', 'B', 'B', 'B', 'B', 'B', 'B', 'B', 'B', 'B', 'B']}\n"
     ]
    }
   ],
   "source": [
    "result = run_algorithm(params,algo_input)\n",
    "print(result)"
   ]
  },
  {
   "cell_type": "code",
   "execution_count": null,
   "metadata": {},
   "outputs": [],
   "source": []
  }
 ],
 "metadata": {
  "kernelspec": {
   "display_name": "Quantum",
   "language": "python",
   "name": "quantum"
  },
  "language_info": {
   "codemirror_mode": {
    "name": "ipython",
    "version": 3
   },
   "file_extension": ".py",
   "mimetype": "text/x-python",
   "name": "python",
   "nbconvert_exporter": "python",
   "pygments_lexer": "ipython3",
   "version": "3.6.3"
  }
 },
 "nbformat": 4,
 "nbformat_minor": 2
}
