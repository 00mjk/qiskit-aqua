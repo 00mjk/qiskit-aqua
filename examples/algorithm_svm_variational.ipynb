{
 "cells": [
  {
   "cell_type": "markdown",
   "metadata": {},
   "source": [
    "### Quantum SVM (variational method)\n",
    "This notebook shows the SVM implementation based on the variational method."
   ]
  },
  {
   "cell_type": "markdown",
   "metadata": {},
   "source": [
    "first, we do some import work\n"
   ]
  },
  {
   "cell_type": "code",
   "execution_count": 1,
   "metadata": {},
   "outputs": [],
   "source": [
    "import paths\n",
    "import os\n",
    "import sys\n",
    "from algorithm_svm_datasets import *\n",
    "from qiskit_acqua.svm.data_preprocess import *\n",
    "from qiskit_acqua.input import get_input_instance\n",
    "from qiskit_acqua import run_algorithm"
   ]
  },
  {
   "cell_type": "markdown",
   "metadata": {},
   "source": [
    "now, we prepare the dataset, which is used for training, testing and prediction afterwards.\n",
    "You can easily switch to a different dataset such as the Breast Cancer dataset by replacing 'ad_hoc_data' to 'Breast_cancer' below."
   ]
  },
  {
   "cell_type": "code",
   "execution_count": 2,
   "metadata": {},
   "outputs": [
    {
     "data": {
      "image/png": "[encoded data removed]",
      "text/plain": [
       "<matplotlib.figure.Figure at 0x112dd9780>"
      ]
     },
     "metadata": {},
     "output_type": "display_data"
    },
    {
     "data": {
      "image/png": "[encoded data removed]",
      "text/plain": [
       "<matplotlib.figure.Figure at 0x112e8d668>"
      ]
     },
     "metadata": {},
     "output_type": "display_data"
    }
   ],
   "source": [
    "num_of_qubits=2\n",
    "sample_Total, training_input, test_input, class_labels = ad_hoc_data(training_size=20, test_size=10, n=num_of_qubits, gap=0.3, PLOT_DATA=True)\n",
    "total_array, label_to_labelclass = get_points(test_input, class_labels)"
   ]
  },
  {
   "cell_type": "markdown",
   "metadata": {},
   "source": [
    "we initialize the necessary inputs: the input dictionary (params) and the input object (algo_input)."
   ]
  },
  {
   "cell_type": "code",
   "execution_count": 3,
   "metadata": {},
   "outputs": [],
   "source": [
    "\n",
    "params = {\n",
    "    'problem': {'name': 'svm_classification'},\n",
    "    'backend': {'name': 'local_qasm_simulator', 'shots':1000},\n",
    "    'algorithm': {\n",
    "        'name': 'SVM_Variational',\n",
    "        'num_of_qubits': num_of_qubits,\n",
    "        'circuit_depth':3,\n",
    "        'max_trials':100  #critical!!!  ideal: >200\n",
    "    }\n",
    "}\n",
    "\n",
    "algo_input = get_input_instance('SVMInput')\n",
    "algo_input.training_dataset  = training_input\n",
    "algo_input.test_dataset = test_input\n",
    "algo_input.datapoints = total_array"
   ]
  },
  {
   "cell_type": "markdown",
   "metadata": {},
   "source": [
    "since everything is setup, let us run the algorithm.\n",
    "\n",
    "for the testing, the result includes the details and the success ratio.\n",
    "\n",
    "for the prediction, the result includes the predicted labels."
   ]
  },
  {
   "cell_type": "code",
   "execution_count": 4,
   "metadata": {},
   "outputs": [
    {
     "name": "stdout",
     "output_type": "stream",
     "text": [
      "\n",
      "=============================================\n",
      "\n",
      "Classifying point [1.0681415  4.64955713]. Label should be  A \n",
      "\n",
      "Measured label probability distribution is {'A': 0.7889999999999999, 'B': 0.211} \n",
      "\n",
      "Assigned label is  A  CORRECT \n",
      "\n",
      "\n",
      "=============================================\n",
      "\n",
      "Classifying point [0.75398224 1.69646003]. Label should be  A \n",
      "\n",
      "Measured label probability distribution is {'A': 0.848, 'B': 0.152} \n",
      "\n",
      "Assigned label is  A  CORRECT \n",
      "\n",
      "\n",
      "=============================================\n",
      "\n",
      "Classifying point [5.59203492 3.14159265]. Label should be  A \n",
      "\n",
      "Measured label probability distribution is {'A': 0.911, 'B': 0.08900000000000001} \n",
      "\n",
      "Assigned label is  A  CORRECT \n",
      "\n",
      "\n",
      "=============================================\n",
      "\n",
      "Classifying point [1.00530965 4.64955713]. Label should be  A \n",
      "\n",
      "Measured label probability distribution is {'A': 0.772, 'B': 0.228} \n",
      "\n",
      "Assigned label is  A  CORRECT \n",
      "\n",
      "\n",
      "=============================================\n",
      "\n",
      "Classifying point [5.34070751 2.89026524]. Label should be  A \n",
      "\n",
      "Measured label probability distribution is {'A': 0.8140000000000001, 'B': 0.186} \n",
      "\n",
      "Assigned label is  A  CORRECT \n",
      "\n",
      "\n",
      "=============================================\n",
      "\n",
      "Classifying point [1.88495559 0.62831853]. Label should be  A \n",
      "\n",
      "Measured label probability distribution is {'A': 0.637, 'B': 0.363} \n",
      "\n",
      "Assigned label is  A  CORRECT \n",
      "\n",
      "\n",
      "=============================================\n",
      "\n",
      "Classifying point [1.0681415 4.0212386]. Label should be  A \n",
      "\n",
      "Measured label probability distribution is {'A': 0.851, 'B': 0.149} \n",
      "\n",
      "Assigned label is  A  CORRECT \n",
      "\n",
      "\n",
      "=============================================\n",
      "\n",
      "Classifying point [5.71769863 0.62831853]. Label should be  A \n",
      "\n",
      "Measured label probability distribution is {'A': 0.6920000000000001, 'B': 0.308} \n",
      "\n",
      "Assigned label is  A  CORRECT \n",
      "\n",
      "\n",
      "=============================================\n",
      "\n",
      "Classifying point [2.07345115 1.82212374]. Label should be  A \n",
      "\n",
      "Measured label probability distribution is {'A': 0.634, 'B': 0.366} \n",
      "\n",
      "Assigned label is  A  CORRECT \n",
      "\n",
      "\n",
      "=============================================\n",
      "\n",
      "Classifying point [3.76991118 4.20973416]. Label should be  A \n",
      "\n",
      "Measured label probability distribution is {'A': 0.818, 'B': 0.182} \n",
      "\n",
      "Assigned label is  A  CORRECT \n",
      "\n",
      "\n",
      "=============================================\n",
      "\n",
      "Classifying point [4.0212386  2.32477856]. Label should be  B \n",
      "\n",
      "Measured label probability distribution is {'A': 0.10500000000000001, 'B': 0.895} \n",
      "\n",
      "Assigned label is  B  CORRECT \n",
      "\n",
      "\n",
      "=============================================\n",
      "\n",
      "Classifying point [5.90619419 4.0212386 ]. Label should be  B \n",
      "\n",
      "Measured label probability distribution is {'A': 0.066, 'B': 0.9339999999999999} \n",
      "\n",
      "Assigned label is  B  CORRECT \n",
      "\n",
      "\n",
      "=============================================\n",
      "\n",
      "Classifying point [3.51858377 5.65486678]. Label should be  B \n",
      "\n",
      "Measured label probability distribution is {'A': 0.156, 'B': 0.8440000000000001} \n",
      "\n",
      "Assigned label is  B  CORRECT \n",
      "\n",
      "\n",
      "=============================================\n",
      "\n",
      "Classifying point [1.19380521 5.90619419]. Label should be  B \n",
      "\n",
      "Measured label probability distribution is {'A': 0.054000000000000006, 'B': 0.9460000000000001} \n",
      "\n",
      "Assigned label is  B  CORRECT \n",
      "\n",
      "\n",
      "=============================================\n",
      "\n",
      "Classifying point [4.77522083 0.50265482]. Label should be  B \n",
      "\n",
      "Measured label probability distribution is {'A': 0.31, 'B': 0.6900000000000001} \n",
      "\n",
      "Assigned label is  B  CORRECT \n",
      "\n",
      "\n",
      "=============================================\n",
      "\n",
      "Classifying point [5.59203492 4.20973416]. Label should be  B \n",
      "\n",
      "Measured label probability distribution is {'A': 0.2, 'B': 0.8} \n",
      "\n",
      "Assigned label is  B  CORRECT \n",
      "\n",
      "\n",
      "=============================================\n",
      "\n",
      "Classifying point [3.51858377 5.27787566]. Label should be  B \n",
      "\n",
      "Measured label probability distribution is {'A': 0.031, 'B': 0.9690000000000001} \n",
      "\n",
      "Assigned label is  B  CORRECT \n",
      "\n",
      "\n",
      "=============================================\n",
      "\n",
      "Classifying point [2.38761042 3.95840674]. Label should be  B \n",
      "\n",
      "Measured label probability distribution is {'A': 0.097, 'B': 0.903} \n",
      "\n",
      "Assigned label is  B  CORRECT \n",
      "\n",
      "\n",
      "=============================================\n",
      "\n",
      "Classifying point [2.07345115 3.58141563]. Label should be  B \n",
      "\n",
      "Measured label probability distribution is {'A': 0.282, 'B': 0.7180000000000001} \n",
      "\n",
      "Assigned label is  B  CORRECT \n",
      "\n",
      "\n",
      "=============================================\n",
      "\n",
      "Classifying point [1.00530965 5.65486678]. Label should be  B \n",
      "\n",
      "Measured label probability distribution is {'A': 0.035, 'B': 0.965} \n",
      "\n",
      "Assigned label is  B  CORRECT \n",
      "\n",
      "Classification success for this set is  100.0 %  \n",
      "\n",
      "{'test_success_ratio': 1.0, 'predicted_labels': ['A', 'A', 'A', 'A', 'A', 'A', 'A', 'A', 'A', 'A', 'B', 'B', 'B', 'B', 'B', 'B', 'B', 'B', 'B', 'B']}\n"
     ]
    }
   ],
   "source": [
    "result = run_algorithm(params,algo_input)\n",
    "print(result)"
   ]
  }
 ],
 "metadata": {
  "kernelspec": {
   "display_name": "Python 3",
   "language": "python",
   "name": "python3"
  },
  "language_info": {
   "codemirror_mode": {
    "name": "ipython",
    "version": 3
   },
   "file_extension": ".py",
   "mimetype": "text/x-python",
   "name": "python",
   "nbconvert_exporter": "python",
   "pygments_lexer": "ipython3",
   "version": "3.6.5"
  }
 },
 "nbformat": 4,
 "nbformat_minor": 2
}
