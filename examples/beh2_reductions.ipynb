{
 "cells": [
  {
   "cell_type": "markdown",
   "metadata": {},
   "source": [
    "This notebook demonstrates using the IBM Quantum Library for Chemistry to plot graphs of the ground state energy of the Beryllium Dihydride (BeH2) molecule over a range of inter-atomic distances using ExactEigensolver. Freeze core reduction is true and different virtual orbital removals are tried as a comparison.\n",
    "\n",
    "This notebook populates a dictionary, that is a progammatic representation of an input file, in order to drive the QISChem stack. Such a dictionary can be manipulated programmatically and this is indeed the case here where we alter the molecule supplied to the driver in each loop as well as the orbital reductions.\n",
    "\n",
    "This notebook has been written to use the PYSCF chemistry driver. See the PYSCF chemistry driver readme if you need to install the external PySCF library that this driver requires."
   ]
  },
  {
   "cell_type": "code",
   "execution_count": null,
   "metadata": {
    "scrolled": true
   },
   "outputs": [
    {
     "name": "stdout",
     "output_type": "stream",
     "text": [
      "Processing step __\b\b 0"
     ]
    },
    {
     "name": "stderr",
     "output_type": "stream",
     "text": [
      "WARNING:qiskit_acqua.ising.simple_cplex:CPLEX is not installed. See https://www.ibm.com/support/knowledgecenter/SSSA5P_12.8.0/ilog.odms.studio.help/Optimization_Studio/topics/COS_home.html\n",
      "WARNING:qiskit_acqua.ising.simple_cplex:CPLEX is not installed. See https://www.ibm.com/support/knowledgecenter/SSSA5P_12.8.0/ilog.odms.studio.help/Optimization_Studio/topics/COS_home.html\n"
     ]
    },
    {
     "name": "stdout",
     "output_type": "stream",
     "text": [
      "\b\b 1"
     ]
    }
   ],
   "source": [
    "import paths\n",
    "import numpy as np\n",
    "import pylab\n",
    "from qiskit_acqua_chemistry import QISChem\n",
    "\n",
    "# Input dictionary to configure qischem for the chemistry problem.\n",
    "qischem_dict = {\n",
    "    'driver': {'name': 'PYSCF'},\n",
    "    'PYSCF': {'atom': '', 'basis': 'sto3g'},\n",
    "    'operator': {'name': 'hamiltonian', 'qubit_mapping': 'parity',\n",
    "                 'two_qubit_reduction': True, 'freeze_core': True, 'orbital_reduction': []},\n",
    "    'algorithm': {'name': 'ExactEigensolver'}\n",
    "}\n",
    "molecule = 'H .0 .0 -{0}; Be .0 .0 .0; H .0 .0 {0}'\n",
    "reductions = [[], [-2, -1], [-3, -2], [-4, -3], [-1], [-2], [-3], [-4]]\n",
    "\n",
    "pts  = [x * 0.1  for x in range(6, 20)]\n",
    "pts += [x * 0.25 for x in range(8, 16)]\n",
    "pts += [4.0]\n",
    "energies = np.empty([len(reductions), len(pts)])\n",
    "distances = np.empty(len(pts))\n",
    "\n",
    "print('Processing step __', end='')\n",
    "for i, d in enumerate(pts):\n",
    "    print('\\b\\b{:2d}'.format(i), end='', flush=True)\n",
    "    qischem_dict['PYSCF']['atom'] = molecule.format(d) \n",
    "    for j in range(len(reductions)):\n",
    "        qischem_dict['operator']['orbital_reduction'] = reductions[j] \n",
    "        solver = QISChem()\n",
    "        result = solver.run(qischem_dict)\n",
    "        energies[j][i] = result['energy']\n",
    "    distances[i] = d\n",
    "print(' --- complete')\n",
    "\n",
    "print('Distances: ', distances)\n",
    "print('Energies:', energies)\n"
   ]
  },
  {
   "cell_type": "code",
   "execution_count": null,
   "metadata": {},
   "outputs": [],
   "source": [
    "pylab.rcParams['figure.figsize'] = (12, 8)\n",
    "for j in range(len(reductions)):\n",
    "    pylab.plot(distances, energies[j], label=reductions[j])\n",
    "pylab.xlabel('Interatomic distance')\n",
    "pylab.ylabel('Energy')\n",
    "pylab.title('BeH2 Ground State Energy')\n",
    "pylab.legend(loc='upper right')"
   ]
  },
  {
   "cell_type": "code",
   "execution_count": null,
   "metadata": {},
   "outputs": [],
   "source": [
    "pylab.rcParams['figure.figsize'] = (12, 8)\n",
    "for j in range(len(reductions)):\n",
    "    pylab.plot(distances, np.subtract(energies[j], energies[0]), label=reductions[j])\n",
    "pylab.xlabel('Interatomic distance')\n",
    "pylab.ylabel('Energy')\n",
    "pylab.title('Energy difference compared to no reduction []')\n",
    "pylab.legend(loc='upper left')"
   ]
  },
  {
   "cell_type": "code",
   "execution_count": null,
   "metadata": {},
   "outputs": [],
   "source": [
    "pylab.rcParams['figure.figsize'] = (6, 4)\n",
    "for j in range(1, len(reductions)):\n",
    "    pylab.plot(distances, np.subtract(energies[j], energies[0]), color=[1.0, 0.6, 0.2], label=reductions[j])\n",
    "    pylab.ylim(0, 0.4)\n",
    "    pylab.xlabel('Interatomic distance')\n",
    "    pylab.ylabel('Energy')\n",
    "    pylab.title('Energy difference compared to no reduction []')\n",
    "    pylab.legend(loc='upper left')\n",
    "    pylab.show()"
   ]
  },
  {
   "cell_type": "code",
   "execution_count": null,
   "metadata": {},
   "outputs": [],
   "source": [
    "e_nofreeze = np.empty(len(pts))\n",
    "qischem_dict['operator']['orbital_reduction'] = [] \n",
    "qischem_dict['operator']['freeze_core'] = False \n",
    "for i, d in enumerate(pts):\n",
    "    print('\\b\\b{:2d}'.format(i), end='', flush=True)\n",
    "    qischem_dict['PYSCF']['atom'] = molecule.format(d) \n",
    "    solver = QISChem()\n",
    "    result = solver.run(qischem_dict)\n",
    "    e_nofreeze[i] = result['energy']\n",
    "\n",
    "print(e_nofreeze)"
   ]
  },
  {
   "cell_type": "code",
   "execution_count": null,
   "metadata": {},
   "outputs": [],
   "source": [
    "pylab.rcParams['figure.figsize'] = (8, 6)\n",
    "pylab.plot(distances, energies[0], label='Freeze Core: True')\n",
    "pylab.plot(distances, e_nofreeze, label='Freeze Core: False')\n",
    "pylab.xlabel('Interatomic distance')\n",
    "pylab.ylabel('Energy')\n",
    "pylab.title('Energy difference, no reduction [], freeze core true/false')\n",
    "pylab.legend(loc='upper right')\n",
    "pylab.show()\n",
    "pylab.title('Energy difference of freeze core True from False')\n",
    "pylab.plot(distances, np.subtract(energies[0], e_nofreeze), label='Freeze Core: False')\n",
    "pylab.show()"
   ]
  },
  {
   "cell_type": "code",
   "execution_count": null,
   "metadata": {},
   "outputs": [],
   "source": []
  }
 ],
 "metadata": {
  "kernelspec": {
   "display_name": "Python 3",
   "language": "python",
   "name": "python3"
  },
  "language_info": {
   "codemirror_mode": {
    "name": "ipython",
    "version": 3
   },
   "file_extension": ".py",
   "mimetype": "text/x-python",
   "name": "python",
   "nbconvert_exporter": "python",
   "pygments_lexer": "ipython3",
   "version": "3.6.4"
  }
 },
 "nbformat": 4,
 "nbformat_minor": 1
}
