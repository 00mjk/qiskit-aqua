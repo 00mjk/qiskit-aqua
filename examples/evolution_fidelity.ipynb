{
 "cells": [
  {
   "cell_type": "markdown",
   "metadata": {},
   "source": [
    "This notebook is part of the toy example called `Evolution Fidelity` that illustrates how to implement an algorithm and what steps to take to configure and run it. The implementation of the algorithm itself is located in the `evolutionfidelity` directory under `examples`.\n",
    "\n",
    "**In order to be able to run this notebook, please move the implementation folder `evolutionfidelity` to under `algorithms` for the algorithm to be automatically discovered**.\n",
    "\n",
    "Assuming the above done, we can easily get an instance of the algorithm as well as a random initial state to be used for checking quantum evolution fidelity, as follows."
   ]
  },
  {
   "cell_type": "code",
   "execution_count": 1,
   "metadata": {},
   "outputs": [
    {
     "name": "stderr",
     "output_type": "stream",
     "text": [
      "WARNING:qiskit_acqua.ising.simple_cplex:CPLEX is not installed. See https://www.ibm.com/support/knowledgecenter/SSSA5P_12.8.0/ilog.odms.studio.help/Optimization_Studio/topics/COS_home.html\n",
      "WARNING:qiskit_acqua.ising.simple_cplex:CPLEX is not installed. See https://www.ibm.com/support/knowledgecenter/SSSA5P_12.8.0/ilog.odms.studio.help/Optimization_Studio/topics/COS_home.html\n",
      "WARNING:qiskit_acqua.utils.variational_forms.uccsd:UCCSD can be only used with qiskit_acqua_chemistry lib. Please install it.\n",
      "WARNING:qiskit_acqua.utils.variational_forms.uccsd:UCCSD can be only used with qiskit_acqua_chemistry lib. Please install it.\n"
     ]
    },
    {
     "ename": "AlgorithmError",
     "evalue": "'algorithm EvolutionFidelity not registered'",
     "output_type": "error",
     "traceback": [
      "\u001b[0;31m---------------------------------------------------------------------------\u001b[0m",
      "\u001b[0;31mAlgorithmError\u001b[0m                            Traceback (most recent call last)",
      "\u001b[0;32m<ipython-input-1-87e5620f694f>\u001b[0m in \u001b[0;36m<module>\u001b[0;34m()\u001b[0m\n\u001b[1;32m     11\u001b[0m \u001b[0;34m\u001b[0m\u001b[0m\n\u001b[1;32m     12\u001b[0m \u001b[0;31m# get an instance of Dynamics\u001b[0m\u001b[0;34m\u001b[0m\u001b[0;34m\u001b[0m\u001b[0m\n\u001b[0;32m---> 13\u001b[0;31m \u001b[0mef\u001b[0m \u001b[0;34m=\u001b[0m \u001b[0mget_algorithm_instance\u001b[0m\u001b[0;34m(\u001b[0m\u001b[0;34m'EvolutionFidelity'\u001b[0m\u001b[0;34m)\u001b[0m\u001b[0;34m\u001b[0m\u001b[0m\n\u001b[0m\u001b[1;32m     14\u001b[0m \u001b[0mef\u001b[0m\u001b[0;34m.\u001b[0m\u001b[0msetup_quantum_backend\u001b[0m\u001b[0;34m(\u001b[0m\u001b[0;34m)\u001b[0m\u001b[0;34m\u001b[0m\u001b[0m\n\u001b[1;32m     15\u001b[0m \u001b[0;34m\u001b[0m\u001b[0m\n",
      "\u001b[0;32m~/Documents/Quantum/qiskit-acqua/examples/../qiskit_acqua/_discover.py\u001b[0m in \u001b[0;36mget_algorithm_instance\u001b[0;34m(name)\u001b[0m\n",
      "\u001b[0;32m~/Documents/Quantum/qiskit-acqua/examples/../qiskit_acqua/_discover.py\u001b[0m in \u001b[0;36mget_pluggable_instance\u001b[0;34m(pluggable_type, pluggable_name)\u001b[0m\n\u001b[1;32m    258\u001b[0m \u001b[0;34m\u001b[0m\u001b[0m\n\u001b[1;32m    259\u001b[0m     \u001b[0;32mif\u001b[0m \u001b[0mpluggable_name\u001b[0m \u001b[0;32mnot\u001b[0m \u001b[0;32min\u001b[0m \u001b[0m_REGISTERED_PLUGGABLES\u001b[0m\u001b[0;34m[\u001b[0m\u001b[0mpluggable_type\u001b[0m\u001b[0;34m]\u001b[0m\u001b[0;34m:\u001b[0m\u001b[0;34m\u001b[0m\u001b[0m\n\u001b[0;32m--> 260\u001b[0;31m         \u001b[0;32mraise\u001b[0m \u001b[0mAlgorithmError\u001b[0m\u001b[0;34m(\u001b[0m\u001b[0;34m'{} {} not registered'\u001b[0m\u001b[0;34m.\u001b[0m\u001b[0mformat\u001b[0m\u001b[0;34m(\u001b[0m\u001b[0mpluggable_type\u001b[0m\u001b[0;34m,\u001b[0m\u001b[0mpluggable_name\u001b[0m\u001b[0;34m)\u001b[0m\u001b[0;34m)\u001b[0m\u001b[0;34m\u001b[0m\u001b[0m\n\u001b[0m\u001b[1;32m    261\u001b[0m \u001b[0;34m\u001b[0m\u001b[0m\n\u001b[1;32m    262\u001b[0m     return _REGISTERED_PLUGGABLES[pluggable_type][pluggable_name].cls(\n",
      "\u001b[0;31mAlgorithmError\u001b[0m: 'algorithm EvolutionFidelity not registered'"
     ]
    }
   ],
   "source": [
    "import paths\n",
    "import numpy as np\n",
    "from qiskit_acqua.operator import Operator\n",
    "from qiskit_acqua import get_algorithm_instance\n",
    "from qiskit_acqua import get_initial_state_instance\n",
    "\n",
    "# np.random.seed(2)\n",
    "num_qubits = 2\n",
    "temp = np.random.random((2 ** num_qubits, 2 ** num_qubits))\n",
    "qubitOp = Operator(matrix=temp + temp.T)\n",
    "\n",
    "# get an instance of Dynamics\n",
    "ef = get_algorithm_instance('EvolutionFidelity')\n",
    "ef.setup_quantum_backend()\n",
    "\n",
    "state_in = get_initial_state_instance('CUSTOM')\n",
    "state_in.init_args(num_qubits, state='random')"
   ]
  },
  {
   "cell_type": "markdown",
   "metadata": {},
   "source": [
    "With the necessary pieces in place, we can then change the `expansion_order` and run the algorithm to see how the quantum evolution fidelity is affected by the different orders."
   ]
  },
  {
   "cell_type": "code",
   "execution_count": null,
   "metadata": {},
   "outputs": [],
   "source": [
    "import math\n",
    "ordinal = lambda n: \"%d%s\" % (n,\"tsnrhtdd\"[(math.floor(n/10)%10!=1)*(n%10<4)*n%10::4])\n",
    "\n",
    "for expansion_order in [1, 2, 3, 4]:\n",
    "    ef.init_args(\n",
    "        qubitOp, state_in,\n",
    "        expansion_order=expansion_order\n",
    "    )\n",
    "    print('The evolution fidelity under {} order trotter expansion is {}'.format(\n",
    "        ordinal(expansion_order), ef.run()['score']\n",
    "    ))"
   ]
  }
 ],
 "metadata": {
  "kernelspec": {
   "display_name": "Python 3",
   "language": "python",
   "name": "python3"
  },
  "language_info": {
   "codemirror_mode": {
    "name": "ipython",
    "version": 3
   },
   "file_extension": ".py",
   "mimetype": "text/x-python",
   "name": "python",
   "nbconvert_exporter": "python",
   "pygments_lexer": "ipython3",
   "version": "3.6.4"
  }
 },
 "nbformat": 4,
 "nbformat_minor": 1
}
