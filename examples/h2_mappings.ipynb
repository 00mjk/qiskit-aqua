{
 "cells": [
  {
   "cell_type": "markdown",
   "metadata": {
    "collapsed": true
   },
   "source": [
    "This notebook demonstrates using the IBM Quantum Library for Chemistry to plot graphs of the ground state energy of the Hydrogen (H2) molecule over a range of inter-atomic distances with different fermionic mappings to quantum qubits.\n",
    "\n",
    "This notebook populates a dictionary, that is a progammatic representation of an input file, in order to drive the qiskit_acqua_chemistry stack. Such a dictionary can be manipulated programmatically and this is indeed the case here where we alter the molecule supplied to the driver in each loop.\n",
    "\n",
    "This notebook has been written to use the PYSCF chemistry driver. See the PYSCF chemistry driver readme if you need to install the external PySCF library that this driver requires."
   ]
  },
  {
   "cell_type": "code",
   "execution_count": null,
   "metadata": {},
   "outputs": [
    {
     "name": "stdout",
     "output_type": "stream",
     "text": [
      "Processing step __\b\b 0"
     ]
    },
    {
     "name": "stderr",
     "output_type": "stream",
     "text": [
      "WARNING:qiskit_acqua.ising.simple_cplex:CPLEX is not installed. See https://www.ibm.com/support/knowledgecenter/SSSA5P_12.8.0/ilog.odms.studio.help/Optimization_Studio/topics/COS_home.html\n",
      "WARNING:qiskit_acqua.ising.simple_cplex:CPLEX is not installed. See https://www.ibm.com/support/knowledgecenter/SSSA5P_12.8.0/ilog.odms.studio.help/Optimization_Studio/topics/COS_home.html\n"
     ]
    }
   ],
   "source": [
    "import paths\n",
    "import numpy as np\n",
    "import pylab\n",
    "from qiskit_acqua_chemistry import QISChem\n",
    "\n",
    "# Input dictionary to configure qischem for the chemistry problem.\n",
    "qischem_dict = {\n",
    "    'driver': {'name': 'PYSCF'},\n",
    "    'PYSCF': {'atom': '', 'basis': 'sto3g'},\n",
    "    'operator': {'name': 'hamiltonian', 'qubit_mapping': '', 'two_qubit_reduction': False},\n",
    "    'algorithm': {'name': ''},\n",
    "    'optimizer': {'name': 'L_BFGS_B', 'maxfun': 2500},\n",
    "    'variational_form': {'name': 'RYRZ', 'depth': 5}\n",
    "}\n",
    "molecule = 'H .0 .0 -{0}; H .0 .0 {0}'\n",
    "\n",
    "algorithms = ['VQE', 'ExactEigensolver']\n",
    "mappings   = ['jordan_wigner', 'parity', 'bravyi_kitaev']\n",
    "start = 0.5  # Start distance\n",
    "by    = 0.5  # How much to increase distance by\n",
    "steps = 20   # Number of steps to increase by\n",
    "energies  = np.empty([len(mappings), len(algorithms), steps+1])\n",
    "hf_energies = np.empty(steps+1)\n",
    "distances = np.empty(steps+1)\n",
    "\n",
    "print('Processing step __', end='')\n",
    "for i in range(steps+1):\n",
    "    print('\\b\\b{:2d}'.format(i), end='', flush=True)\n",
    "    d = start + i*by/steps\n",
    "    qischem_dict['PYSCF']['atom'] = molecule.format(d/2) \n",
    "    for j in range(len(algorithms)):\n",
    "        qischem_dict['algorithm']['name'] = algorithms[j] \n",
    "        for k in range(len(mappings)):\n",
    "            qischem_dict['operator']['qubit_mapping'] = mappings[k] \n",
    "            solver = QISChem()\n",
    "            result = solver.run(qischem_dict)\n",
    "            energies[k][j][i] = result['energy']\n",
    "            hf_energies[i] = result['hf_energy']  # Independent of algorithm & mapping\n",
    "    distances[i] = d\n",
    "print(' --- complete')\n",
    "\n",
    "print('Distances: ', distances)\n",
    "print('Energies:', energies)\n",
    "print('Hartree-Fock energies:', hf_energies)\n"
   ]
  },
  {
   "cell_type": "code",
   "execution_count": null,
   "metadata": {},
   "outputs": [],
   "source": [
    "pylab.rcParams['figure.figsize'] = (12, 8)\n",
    "pylab.ylim(-1.14, -1.04)\n",
    "pylab.plot(distances, hf_energies, label='Hartree-Fock')\n",
    "for j in range(len(algorithms)):\n",
    "    for k in range(len(mappings)):\n",
    "        pylab.plot(distances, energies[k][j], label=algorithms[j] + \", \" + mappings[k])\n",
    "pylab.xlabel('Interatomic distance')\n",
    "pylab.ylabel('Energy')\n",
    "pylab.title('H2 Ground State Energy in different mappings')\n",
    "pylab.legend(loc='upper right')\n",
    "pylab.show()"
   ]
  },
  {
   "cell_type": "code",
   "execution_count": null,
   "metadata": {},
   "outputs": [],
   "source": [
    "pylab.rcParams['figure.figsize'] = (6, 4)\n",
    "for k in range(len(mappings)):\n",
    "    pylab.ylim(-1.14, -1.04)\n",
    "    pylab.plot(distances, hf_energies, label='Hartree-Fock')\n",
    "    for j in range(len(algorithms)):\n",
    "        pylab.plot(distances, energies[k][j], label=algorithms[j])\n",
    "    pylab.xlabel('Interatomic distance')\n",
    "    pylab.ylabel('Energy')\n",
    "    pylab.title('H2 Ground State Energy with {} mapping'.format(mappings[k]))\n",
    "    pylab.legend(loc='upper right')\n",
    "    pylab.show()\n",
    "    \n",
    "    #pylab.plot(distances, np.subtract(hf_energies, energies[k][1]), label='Hartree-Fock')\n",
    "    pylab.plot(distances, np.subtract(energies[k][0], energies[k][1]), color=[0.8500, 0.3250, 0.0980], label='VQE')\n",
    "    pylab.ylim(0.0, 0.0025)\n",
    "    pylab.xlabel('Interatomic distance')\n",
    "    pylab.ylabel('Energy')\n",
    "    pylab.title('Energy difference from ExactEigensolver with {} mapping'.format(mappings[k]))\n",
    "    pylab.legend(loc='upper right')\n",
    "    pylab.show()"
   ]
  },
  {
   "cell_type": "code",
   "execution_count": null,
   "metadata": {},
   "outputs": [],
   "source": []
  }
 ],
 "metadata": {
  "kernelspec": {
   "display_name": "Python 3",
   "language": "python",
   "name": "python3"
  },
  "language_info": {
   "codemirror_mode": {
    "name": "ipython",
    "version": 3
   },
   "file_extension": ".py",
   "mimetype": "text/x-python",
   "name": "python",
   "nbconvert_exporter": "python",
   "pygments_lexer": "ipython3",
   "version": "3.6.4"
  }
 },
 "nbformat": 4,
 "nbformat_minor": 1
}
