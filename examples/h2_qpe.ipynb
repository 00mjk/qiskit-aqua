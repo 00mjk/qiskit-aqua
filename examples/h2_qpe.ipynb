{
 "cells": [
  {
   "cell_type": "markdown",
   "metadata": {},
   "source": [
    "This notebook demonstrates using the IBM Quantum Library for Chemistry to plot graphs of the ground state energy of the Hydrogen (H2) molecule over a range of inter-atomic distances using QPE (Quantum Phase Estimation) algorithm. It is compared to the same energies as computed by the ExactEigensolver\n",
    "\n",
    "This notebook populates a dictionary, that is a progammatic representation of an input file, in order to drive the qiskit_acqua_chemistry stack. Such a dictionary can be manipulated programmatically and this is indeed the case here where we alter the molecule supplied to the driver in each loop.\n",
    "\n",
    "This notebook has been written to use the PYSCF chemistry driver. See the PYSCF chemistry driver readme if you need to install the external PySCF library that this driver requires."
   ]
  },
  {
   "cell_type": "code",
   "execution_count": null,
   "metadata": {},
   "outputs": [
    {
     "name": "stdout",
     "output_type": "stream",
     "text": [
      "Processing step __\b\b 0"
     ]
    },
    {
     "name": "stderr",
     "output_type": "stream",
     "text": [
      "WARNING:qiskit_acqua.ising.simple_cplex:CPLEX is not installed. See https://www.ibm.com/support/knowledgecenter/SSSA5P_12.8.0/ilog.odms.studio.help/Optimization_Studio/topics/COS_home.html\n",
      "WARNING:qiskit_acqua.ising.simple_cplex:CPLEX is not installed. See https://www.ibm.com/support/knowledgecenter/SSSA5P_12.8.0/ilog.odms.studio.help/Optimization_Studio/topics/COS_home.html\n"
     ]
    }
   ],
   "source": [
    "import paths\n",
    "import numpy as np\n",
    "import pylab\n",
    "from qiskit_acqua_chemistry import QISChem\n",
    "\n",
    "# Input dictionary to configure qischem for the chemistry problem.\n",
    "qischem_dict = {\n",
    "    'driver': {'name': 'PYSCF'},\n",
    "    'PYSCF': {'atom': '', 'basis': 'sto3g'},\n",
    "    'operator': {'name': 'hamiltonian', 'transformation': 'full', 'qubit_mapping': 'jordan_wigner'},\n",
    "    'algorithm': {'name': ''},\n",
    "    'initial_state': {'name': 'HartreeFock', 'num_particles': 2, 'num_orbitals': 4,\n",
    "                      'qubit_mapping': 'jordan_wigner'},\n",
    "    'backend': {'name': 'local_qasm_simulator', 'shots': 100}\n",
    "}\n",
    "molecule = 'H .0 .0 -{0}; H .0 .0 {0}'\n",
    "algorithms = [{'name': 'QPE', 'num_ancillae': 5},\n",
    "              {'name': 'ExactEigensolver'}]\n",
    "\n",
    "start = 0.5  # Start distance\n",
    "by    = 0.5  # How much to increase distance by\n",
    "steps = 20   # Number of steps to increase by\n",
    "energies = np.empty([len(algorithms), steps+1])\n",
    "hf_energies = np.empty(steps+1)\n",
    "distances = np.empty(steps+1)\n",
    "\n",
    "print('Processing step __', end='')\n",
    "for i in range(steps+1):\n",
    "    print('\\b\\b{:2d}'.format(i), end='', flush=True)\n",
    "    d = start + i*by/steps\n",
    "    qischem_dict['PYSCF']['atom'] = molecule.format(d/2) \n",
    "    for j in range(len(algorithms)):\n",
    "        qischem_dict['algorithm'] = algorithms[j] \n",
    "        solver = QISChem()\n",
    "        result = solver.run(qischem_dict)\n",
    "        energies[j][i] = result['energy']\n",
    "        hf_energies[i] = result['hf_energy']\n",
    "    distances[i] = d\n",
    "print(' --- complete')\n",
    "\n",
    "print('Distances: ', distances)\n",
    "print('Energies:', energies)\n",
    "print('Hartree-Fock energies:', hf_energies)\n"
   ]
  },
  {
   "cell_type": "code",
   "execution_count": null,
   "metadata": {},
   "outputs": [],
   "source": [
    "pylab.plot(distances, hf_energies, label='Hartree-Fock')\n",
    "for j in range(len(algorithms)):\n",
    "    pylab.plot(distances, energies[j], label=algorithms[j]['name'])\n",
    "pylab.xlabel('Interatomic distance')\n",
    "pylab.ylabel('Energy')\n",
    "pylab.title('H2 Ground State Energy')\n",
    "pylab.legend(loc='upper right')"
   ]
  },
  {
   "cell_type": "code",
   "execution_count": null,
   "metadata": {},
   "outputs": [],
   "source": [
    "pylab.plot(distances, np.subtract(hf_energies, energies[1]), label='Hartree-Fock')\n",
    "pylab.plot(distances, np.subtract(energies[0], energies[1]), label='QPE')\n",
    "pylab.xlabel('Interatomic distance')\n",
    "pylab.ylabel('Energy')\n",
    "pylab.title('Energy difference from ExactEigensolver')\n",
    "pylab.legend(loc='upper right')"
   ]
  },
  {
   "cell_type": "code",
   "execution_count": null,
   "metadata": {},
   "outputs": [],
   "source": []
  }
 ],
 "metadata": {
  "kernelspec": {
   "display_name": "Python 3",
   "language": "python",
   "name": "python3"
  },
  "language_info": {
   "codemirror_mode": {
    "name": "ipython",
    "version": 3
   },
   "file_extension": ".py",
   "mimetype": "text/x-python",
   "name": "python",
   "nbconvert_exporter": "python",
   "pygments_lexer": "ipython3",
   "version": "3.6.4"
  }
 },
 "nbformat": 4,
 "nbformat_minor": 1
}
