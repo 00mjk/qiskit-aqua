{
 "cells": [
  {
   "cell_type": "markdown",
   "metadata": {},
   "source": [
    "This notebook demonstrates using QISKit ACQUA Chemistry to plot graphs of the ground state energy of the Hydrogen (H2) molecule using VQE with different variation form configurations. The results are compared to the same energy as computed by the ExactEigensolver\n",
    "\n",
    "This notebook populates a dictionary, that is a progammatic representation of an input file, in order to drive the qiskit_acqua_chemistry stack. Such a dictionary can be manipulated programmatically and this is indeed the case here. \n",
    "\n",
    "This notebook has been written to use the PYSCF chemistry driver. See the PYSCF chemistry driver readme if you need to install the external PySCF library that this driver requires."
   ]
  },
  {
   "cell_type": "code",
   "execution_count": null,
   "metadata": {},
   "outputs": [
    {
     "name": "stdout",
     "output_type": "stream",
     "text": [
      "Hartree-Fock energy: -1.1173432691225829\n",
      "FCI energy: -1.137221377072303\n"
     ]
    }
   ],
   "source": [
    "import paths\n",
    "import numpy as np\n",
    "import pylab\n",
    "from qiskit_acqua_chemistry import ACQUAChemistry\n",
    "\n",
    "# Input dictionary to configure QISKit ACQUA Chemistry for the chemistry problem.\n",
    "acqua_chemistry_dict = {\n",
    "    'problem': {'random_seed': 50},\n",
    "    'driver': {'name': 'PYSCF'},\n",
    "    'PYSCF': {'atom': 'H .0 .0 -0.3625; H .0 .0 0.3625', 'basis': 'sto3g'},\n",
    "    'operator': {'name': 'hamiltonian', 'qubit_mapping': 'jordan_wigner',\n",
    "                 'two_qubit_reduction': False},\n",
    "    'algorithm': {'name': 'ExactEigensolver'},\n",
    "    'optimizer': {'name': 'COBYLA', 'maxiter': 10000 },\n",
    "    'variational_form': {'name': 'RYRZ', 'depth': 3, 'entanglement': 'full'},\n",
    "    'initial_state': {'name': 'ZERO'}\n",
    "}\n",
    "var_forms = ['RYRZ', 'RY']\n",
    "entanglements = ['full', 'linear']\n",
    "depths = [x for x in range(3, 11)]\n",
    "\n",
    "energies = np.empty([len(var_forms), len(entanglements), len(depths)])\n",
    "hf_energy = None\n",
    "energy = None\n",
    "eval_counts = np.empty([len(var_forms), len(entanglements), len(depths)])\n",
    "\n",
    "solver = ACQUAChemistry()\n",
    "result = solver.run(acqua_chemistry_dict)\n",
    "hf_energy = result['hf_energy']\n",
    "energy = result['energy']\n",
    "print('Hartree-Fock energy:', hf_energy)\n",
    "print('FCI energy:', energy)"
   ]
  },
  {
   "cell_type": "markdown",
   "metadata": {},
   "source": [
    "With a reference FCI energy computed from ExactEigensolver we now compute the ground state energy with VQE and different variational form setups"
   ]
  },
  {
   "cell_type": "code",
   "execution_count": null,
   "metadata": {
    "scrolled": true
   },
   "outputs": [
    {
     "name": "stdout",
     "output_type": "stream",
     "text": [
      "Processing step  1"
     ]
    }
   ],
   "source": [
    "acqua_chemistry_dict['algorithm']['name'] = 'VQE' \n",
    "print('Processing step __', end='')\n",
    "for i, d in enumerate(depths):\n",
    "    print('\\b\\b{:2d}'.format(i), end='', flush=True)\n",
    "    acqua_chemistry_dict['variational_form']['depth'] = d\n",
    "    for j in range(len(entanglements)):\n",
    "        acqua_chemistry_dict['variational_form']['entanglement'] = entanglements[j] \n",
    "        for k in range(len(var_forms)):\n",
    "            acqua_chemistry_dict['variational_form']['name'] = var_forms[k] \n",
    "            solver = ACQUAChemistry()\n",
    "            result = solver.run(acqua_chemistry_dict)\n",
    "            energies[k][j][i] = result['energy']\n",
    "            eval_counts[k][j][i] = result['algorithm_retvals']['eval_count']\n",
    "print(' --- complete')\n",
    "\n",
    "print('Depths: ', depths)\n",
    "print('Energies:', energies)\n",
    "print('Num evaluations:', eval_counts)"
   ]
  },
  {
   "cell_type": "code",
   "execution_count": null,
   "metadata": {},
   "outputs": [],
   "source": [
    "for k in range(len(var_forms)):\n",
    "    for j in range(len(entanglements)):\n",
    "        pylab.plot(depths, energies[k][j]-energy, label=var_forms[k]+' + '+entanglements[j])\n",
    "pylab.xlabel('Variational form depth')\n",
    "pylab.ylabel('Energy difference')\n",
    "pylab.yscale('log')\n",
    "pylab.title('H2 Ground State Energy Difference from Reference')\n",
    "pylab.legend(loc='upper right')"
   ]
  },
  {
   "cell_type": "code",
   "execution_count": null,
   "metadata": {},
   "outputs": [],
   "source": [
    "for k in range(len(var_forms)):\n",
    "    for j in range(len(entanglements)):\n",
    "        pylab.plot(depths, eval_counts[k][j], '-o', label=var_forms[k]+' + '+entanglements[j])\n",
    "pylab.xlabel('Variational form depth')\n",
    "pylab.ylabel('Evaluations')\n",
    "pylab.title('VQE number of evaluations')\n",
    "pylab.legend(loc='upper right')"
   ]
  },
  {
   "cell_type": "code",
   "execution_count": null,
   "metadata": {},
   "outputs": [],
   "source": []
  }
 ],
 "metadata": {
  "kernelspec": {
   "display_name": "Python 3",
   "language": "python",
   "name": "python3"
  },
  "language_info": {
   "codemirror_mode": {
    "name": "ipython",
    "version": 3
   },
   "file_extension": ".py",
   "mimetype": "text/x-python",
   "name": "python",
   "nbconvert_exporter": "python",
   "pygments_lexer": "ipython3",
   "version": "3.6.4"
  }
 },
 "nbformat": 4,
 "nbformat_minor": 1
}
