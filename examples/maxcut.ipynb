{
 "cells": [
  {
   "cell_type": "markdown",
   "metadata": {
    "collapsed": true
   },
   "source": [
    "This notebook demonstrates how to use the IBM Quantum Algorithm library to invoke a specific algorithm and process the result.\n",
    "\n",
    "Further information is available for the algorithms in the github repo algorithms/readme.md"
   ]
  },
  {
   "cell_type": "code",
   "execution_count": 1,
   "metadata": {},
   "outputs": [],
   "source": [
    "import paths\n",
    "from qiskit_acqua import Operator, run_algorithm, get_algorithm_instance\n",
    "from qiskit_acqua.input import get_input_instance\n",
    "from qiskit_acqua.ising import maxcut\n",
    "import numpy as np\n",
    "import random"
   ]
  },
  {
   "cell_type": "markdown",
   "metadata": {},
   "source": [
    "Here an Operator instance is created for our Hamiltonian. In this case the paulis are from an Ising Hamiltonian of the max cut problem. We load a small instance of the maxcut problem."
   ]
  },
  {
   "cell_type": "code",
   "execution_count": 2,
   "metadata": {},
   "outputs": [],
   "source": [
    "qubitOp, offset, w, n = maxcut.parse_gset_format('sample.maxcut')\n",
    "algo_input = get_input_instance('EnergyInput')\n",
    "algo_input.qubit_op = qubitOp"
   ]
  },
  {
   "cell_type": "markdown",
   "metadata": {},
   "source": [
    "We also offer a function to generate a random graph as a input."
   ]
  },
  {
   "cell_type": "code",
   "execution_count": 3,
   "metadata": {},
   "outputs": [],
   "source": [
    "if False:\n",
    "    qubitOp, offset, w, n = maxcut.random_maxcut(10, savefile='sample2.maxcut', seed=123)\n",
    "    algo_input.qubit_op = qubitOp"
   ]
  },
  {
   "cell_type": "code",
   "execution_count": 4,
   "metadata": {},
   "outputs": [
    {
     "name": "stdout",
     "output_type": "stream",
     "text": [
      "['ExactEigensolver', 'CPLEX', 'VQE']\n"
     ]
    }
   ],
   "source": [
    "to_be_tested_algos = ['ExactEigensolver', 'CPLEX', 'VQE']\n",
    "operational_algos = []\n",
    "for algo in to_be_tested_algos:\n",
    "    try:\n",
    "        get_algorithm_instance(algo)\n",
    "        operational_algos.append(algo)\n",
    "    except:\n",
    "        print(\"{} is unavailable, please check your setting.\".format(algo))\n",
    "print(operational_algos)"
   ]
  },
  {
   "cell_type": "markdown",
   "metadata": {},
   "source": [
    "We can now use the Operator without regard to how it was created. First we need to prepare the configuration params to invoke the algorithm. Here we will use the ExactEigensolver first to return the smallest eigenvalue. Backend is not required since this is computed classically not using quantum computation. We then add in the qubitOp Operator in dictionary format. Now the complete params can be passed to the algorithm and run. The result is a dictionary."
   ]
  },
  {
   "cell_type": "code",
   "execution_count": 5,
   "metadata": {},
   "outputs": [
    {
     "name": "stdout",
     "output_type": "stream",
     "text": [
      "energy: -10.0\n",
      "maxcut value: 15.0\n",
      "solution: {1: 1, 2: 0, 3: 1, 4: 1, 5: 0, 6: 1, 7: 1, 8: 1, 9: 0, 10: 0}\n"
     ]
    }
   ],
   "source": [
    "if 'ExactEigensolver' not in operational_algos:\n",
    "    print(\"ExactEigensolver is not in operational algorithms.\")\n",
    "else:\n",
    "    algorithm_cfg = {\n",
    "        'name': 'ExactEigensolver',\n",
    "    }\n",
    "\n",
    "    params = {\n",
    "        'problem': {'name': 'ising'},\n",
    "        'algorithm': algorithm_cfg\n",
    "    }\n",
    "    result = run_algorithm(params,algo_input)\n",
    "    # print('objective function:', maxcut.maxcut_obj(result, offset))\n",
    "    x = maxcut.convert_eigevecs(n, result['eigvecs'])\n",
    "    print('energy:', result['energy'])\n",
    "    print('maxcut value:', maxcut.maxcut_value(x, w))\n",
    "    print('solution:', maxcut.convert_gset_result(x))"
   ]
  },
  {
   "cell_type": "markdown",
   "metadata": {},
   "source": [
    "We change the configuration parameters to solve it with the CPLEX backend. The CPLEX backend can deal with a particular type of Hamiltonian called Ising Hamiltonian, which consists of only Pauli Z at most second order and often appears for combinatorial optimization problems such as the max-cut problem."
   ]
  },
  {
   "cell_type": "code",
   "execution_count": 6,
   "metadata": {},
   "outputs": [
    {
     "name": "stdout",
     "output_type": "stream",
     "text": [
      "CPXPARAM_TimeLimit                               600\n",
      "CPXPARAM_Read_DataCheck                          1\n",
      "CPXPARAM_Threads                                 1\n",
      "CPXPARAM_MIP_Tolerances_Integrality              0\n",
      "CPXPARAM_MIP_Display                             0\n",
      "energy: -10.0\n",
      "maxcut value: 15.0\n",
      "solution: {1: 0, 2: 1, 3: 0, 4: 0, 5: 1, 6: 0, 7: 0, 8: 0, 9: 1, 10: 1}\n",
      "time: 0.013403612014371902\n"
     ]
    }
   ],
   "source": [
    "if 'CPLEX' not in operational_algos:\n",
    "    print(\"CPLEX is not in operational algorithms.\")\n",
    "else:\n",
    "    algorithm_cfg = {\n",
    "        'name': 'CPLEX',\n",
    "        'display': 0\n",
    "    }\n",
    "\n",
    "    params = {\n",
    "        'problem': {'name': 'ising'},\n",
    "        'algorithm': algorithm_cfg\n",
    "    }\n",
    "\n",
    "    result = run_algorithm(params, algo_input)\n",
    "\n",
    "    #print('objective function:', maxcut.maxcut_obj(result, offset))\n",
    "    x = result['x_sol']\n",
    "    print('energy:', result['energy'])\n",
    "    print('maxcut value:', maxcut.maxcut_value(x, w))\n",
    "    print('solution:', maxcut.convert_gset_result(x))\n",
    "    print('time:', result['time'])"
   ]
  },
  {
   "cell_type": "markdown",
   "metadata": {},
   "source": [
    "Now we want VQE and so change it and add its other configuration parameters. VQE also needs and optimizer and variational form. While we can omit them from the dictionary, such that defaults are used, here we specify them explicitly so we can set their parameters as we desire."
   ]
  },
  {
   "cell_type": "code",
   "execution_count": 7,
   "metadata": {},
   "outputs": [
    {
     "name": "stdout",
     "output_type": "stream",
     "text": [
      "energy: -4.678943465525099\n",
      "maxcut value: 15.0\n",
      "solution: {1: 0, 2: 1, 3: 0, 4: 0, 5: 1, 6: 1, 7: 0, 8: 0, 9: 1, 10: 1}\n",
      "time: 231.5777349472046\n"
     ]
    }
   ],
   "source": [
    "if 'VQE' not in operational_algos:\n",
    "    print(\"VQE is not in operational algorithms.\")\n",
    "else:\n",
    "    algorithm_cfg = {\n",
    "        'name': 'VQE',\n",
    "        'operator_mode': 'matrix'\n",
    "    }\n",
    "\n",
    "    optimizer_cfg = {\n",
    "        'name': 'L_BFGS_B',\n",
    "        'maxfun': 1000\n",
    "    }\n",
    "\n",
    "    var_form_cfg = {\n",
    "        'name': 'RYRZ',\n",
    "        'depth': 7,\n",
    "        'entanglement': 'linear'\n",
    "    }\n",
    "\n",
    "    params = {\n",
    "        'problem': {'name': 'ising'},\n",
    "        'algorithm': algorithm_cfg,\n",
    "        'optimizer': optimizer_cfg,\n",
    "        'variational_form': var_form_cfg,\n",
    "        'backend': {'name': 'local_statevector_simulator'}\n",
    "    }\n",
    "\n",
    "    result = run_algorithm(params,algo_input)\n",
    "    #print('objective function:', maxcut.maxcut_obj(result, offset))\n",
    "    x = maxcut.convert_eigevecs(n, np.abs(result['eigvecs']))\n",
    "    print('energy:', result['energy'])\n",
    "    print('maxcut value:', maxcut.maxcut_value(x, w))\n",
    "    print('solution:', maxcut.convert_gset_result(x))\n",
    "    print('time:', result['eval_time'])"
   ]
  },
  {
   "cell_type": "markdown",
   "metadata": {},
   "source": [
    "We solve an instance of Gset benchmark dataset (https://web.stanford.edu/~yyye/yyye/Gset/ ). Because the graph size is too large for ExactEigensolver and VQE, we apply it to CPLEX backend. Note that you can find the best known values of Gset at http://www.optsicom.es/maxcut/maxcut_bestvalues.xls. For example, the best known solution of G11 is 564 and it matches the result by CPLEX backend."
   ]
  },
  {
   "cell_type": "code",
   "execution_count": 8,
   "metadata": {},
   "outputs": [
    {
     "name": "stdout",
     "output_type": "stream",
     "text": [
      "CPXPARAM_TimeLimit                               600\n",
      "CPXPARAM_Read_DataCheck                          1\n",
      "CPXPARAM_Threads                                 2\n",
      "CPXPARAM_MIP_Tolerances_Integrality              0\n",
      "Found incumbent of value 34.000000 after 0.00 sec. (0.15 ticks)\n",
      "Tried aggregator 1 time.\n",
      "MIP Presolve eliminated 0 rows and 1 columns.\n",
      "MIP Presolve added 3200 rows and 1600 columns.\n",
      "Reduced MIP has 3200 rows, 2400 columns, and 6400 nonzeros.\n",
      "Reduced MIP has 2400 binaries, 0 generals, 0 SOSs, and 0 indicators.\n",
      "Presolve time = 0.00 sec. (0.62 ticks)\n",
      "Probing time = 0.00 sec. (1.05 ticks)\n",
      "Tried aggregator 1 time.\n",
      "MIP Presolve eliminated 817 rows and 0 columns.\n",
      "Reduced MIP has 2383 rows, 2400 columns, and 5583 nonzeros.\n",
      "Reduced MIP has 2400 binaries, 0 generals, 0 SOSs, and 0 indicators.\n",
      "Presolve time = 0.01 sec. (5.05 ticks)\n",
      "Probing time = 0.00 sec. (1.00 ticks)\n",
      "Clique table members: 1566.\n",
      "MIP emphasis: balance optimality and feasibility.\n",
      "MIP search method: dynamic search.\n",
      "Parallel mode: deterministic, using up to 2 threads.\n",
      "Root relaxation solution time = 0.01 sec. (13.11 ticks)\n",
      "\n",
      "        Nodes                                         Cuts/\n",
      "   Node  Left     Objective  IInf  Best Integer    Best Bound    ItCnt     Gap\n",
      "\n",
      "*     0+    0                           34.0000    -4402.0000              --- \n",
      "*     0+    0                         -798.0000    -4402.0000           451.63%\n",
      "      0     0    -1600.0000  1583     -798.0000    -1600.0000     2144  100.50%\n",
      "*     0+    0                         -830.0000    -1600.0000            92.77%\n",
      "      0     0    -1399.0000  1555     -830.0000     Cuts: 341     2951   68.55%\n",
      "      0     0    -1281.5000  1545     -830.0000     Cuts: 305     3718   54.40%\n",
      "      0     0    -1227.9667  1583     -830.0000 ZeroHalf: 286     4545   47.95%\n",
      "*     0+    0                         -854.0000    -1227.9667            43.79%\n",
      "      0     0    -1189.7722  1639     -854.0000 ZeroHalf: 257     5153   39.32%\n",
      "*     0+    0                         -958.0000    -1189.7722            24.19%\n",
      "      0     0    -1172.7477  1677     -958.0000 ZeroHalf: 213     5582   22.42%\n",
      "*     0+    0                         -986.0000    -1172.7477            18.94%\n",
      "      0     0    -1149.5500  1624     -986.0000 ZeroHalf: 224     5972   16.59%\n",
      "*     0+    0                         -990.0000    -1149.5500            16.12%\n",
      "      0     0    -1135.1571  1645     -990.0000     Cuts: 160     6299   14.66%\n",
      "      0     0    -1123.2606  1696     -990.0000 ZeroHalf: 175     6770   13.46%\n",
      "      0     0    -1116.9532  1674     -990.0000 ZeroHalf: 164     7183   12.82%\n",
      "*     0+    0                         -994.0000    -1116.9532            12.37%\n",
      "*     0+    0                         -998.0000    -1116.9532            11.92%\n",
      "*     0+    0                        -1002.0000    -1116.9532            11.47%\n",
      "      0     0    -1112.4186  1666    -1002.0000     Cuts: 122     7476   11.02%\n",
      "      0     0    -1109.0870  1231    -1002.0000 ZeroHalf: 142     7850   10.69%\n",
      "      0     0    -1106.2709  1180    -1002.0000     Cuts: 161     8113   10.41%\n",
      "      0     0    -1101.5817  1137    -1002.0000     Cuts: 103     8425    9.94%\n",
      "      0     0    -1100.2061  1160    -1002.0000 ZeroHalf: 109     8616    9.80%\n",
      "      0     0    -1098.7544  1138    -1002.0000     Cuts: 105     8839    9.66%\n",
      "      0     0    -1098.3333  1149    -1002.0000      Cuts: 78     9023    9.61%\n",
      "*     0+    0                        -1006.0000    -1098.3333             9.18%\n",
      "      0     0    -1097.8968  1122    -1006.0000     Cuts: 103     9209    9.13%\n",
      "      0     0    -1097.6275  1164    -1006.0000  ZeroHalf: 64     9597    9.11%\n",
      "      0     0    -1096.3333  1122    -1006.0000  ZeroHalf: 83     9784    8.98%\n",
      "*     0+    0                        -1010.0000    -1096.3333             8.55%\n",
      "      0     0    -1096.3333  1119    -1010.0000      Cuts: 77    10022    8.55%\n",
      "      0     0    -1096.1365   735    -1010.0000  ZeroHalf: 46    10127    8.53%\n",
      "*     0+    0                        -1082.0000    -1096.1365             1.31%\n",
      "      0     0    -1095.9012   655    -1082.0000  ZeroHalf: 35    10199    1.28%\n",
      "      0     0    -1094.9600   656    -1082.0000  ZeroHalf: 47    10277    1.20%\n",
      "      0     0    -1094.9600   684    -1082.0000      Cuts: 35    10356    1.20%\n",
      "*     0+    0                        -1094.0000    -1094.9600             0.09%\n",
      "      0     0        cutoff          -1094.0000    -1094.9600    10356    0.09%\n",
      "Elapsed time = 3.03 sec. (2867.91 ticks, tree = 0.01 MB, solutions = 14)\n",
      "\n",
      "Zero-half cuts applied:  702\n",
      "Lift and project cuts applied:  1\n",
      "Gomory fractional cuts applied:  31\n",
      "\n",
      "Root node processing (before b&c):\n",
      "  Real time             =    3.03 sec. (2868.05 ticks)\n",
      "Parallel b&c, 2 threads:\n",
      "  Real time             =    0.00 sec. (0.00 ticks)\n",
      "  Sync time (average)   =    0.00 sec.\n",
      "  Wait time (average)   =    0.00 sec.\n",
      "                          ------------\n",
      "Total (root+branch&cut) =    3.03 sec. (2868.05 ticks)\n",
      "objective function: 564.0\n",
      "energy: -1094.0\n",
      "maxcut value: 564.0\n",
      "time: 3.0787557269795798\n"
     ]
    }
   ],
   "source": [
    "if 'CPLEX' not in operational_algos:\n",
    "    print(\"CPLEX is not in operational algorithms.\")\n",
    "else:\n",
    "    qubitOp, offset, w, n = maxcut.parse_gset_format('G11')\n",
    "    algo_input = get_input_instance('EnergyInput')\n",
    "    algo_input.qubit_op = qubitOp\n",
    "\n",
    "    algorithm_cfg = {\n",
    "        'name': 'CPLEX',\n",
    "        'timelimit': 600,\n",
    "        'thread': 2\n",
    "    }\n",
    "\n",
    "    params = {\n",
    "        'problem': {'name': 'ising'},\n",
    "        'algorithm': algorithm_cfg\n",
    "    }\n",
    "\n",
    "    result = run_algorithm(params, algo_input)\n",
    "    print('objective function:', maxcut.maxcut_obj(result, offset))\n",
    "    x = result['x_sol']\n",
    "    print('energy:', result['energy'])\n",
    "    print('maxcut value:', maxcut.maxcut_value(x, w))\n",
    "    #print('solution:', maxcut.convert_gset_result(x))\n",
    "    print('time:', result['time'])"
   ]
  },
  {
   "cell_type": "code",
   "execution_count": null,
   "metadata": {},
   "outputs": [],
   "source": []
  }
 ],
 "metadata": {
  "kernelspec": {
   "display_name": "Quantum",
   "language": "python",
   "name": "quantum"
  },
  "language_info": {
   "codemirror_mode": {
    "name": "ipython",
    "version": 3
   },
   "file_extension": ".py",
   "mimetype": "text/x-python",
   "name": "python",
   "nbconvert_exporter": "python",
   "pygments_lexer": "ipython3",
   "version": "3.6.3"
  }
 },
 "nbformat": 4,
 "nbformat_minor": 1
}
