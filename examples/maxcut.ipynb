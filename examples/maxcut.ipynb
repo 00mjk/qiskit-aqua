{
 "cells": [
  {
   "cell_type": "markdown",
   "metadata": {
    "collapsed": true
   },
   "source": [
    "This notebook demonstrates how to use the IBM Quantum Algorithm library to invoke a specific algorithm and process the result.\n",
    "\n",
    "Further information is available for the algorithms in the github repo algorithms/readme.md"
   ]
  },
  {
   "cell_type": "code",
   "execution_count": 1,
   "metadata": {},
   "outputs": [],
   "source": [
    "import paths\n",
    "from qiskit_acqua import Operator, run_algorithm\n",
    "from qiskit_acqua.input import get_input_instance\n",
    "from qiskit_acqua.ising import maxcut\n",
    "import numpy as np\n",
    "import random"
   ]
  },
  {
   "cell_type": "markdown",
   "metadata": {},
   "source": [
    "Here an Operator instance is created for our Hamiltonian. In this case the paulis are from an Ising Hamiltonian of the max cut problem. We load a small instance of the maxcut problem."
   ]
  },
  {
   "cell_type": "code",
   "execution_count": 2,
   "metadata": {},
   "outputs": [],
   "source": [
    "qubitOp, offset, w, n = maxcut.parse_gset_format('sample.maxcut')\n",
    "algo_input = get_input_instance('EnergyInput')\n",
    "algo_input.qubit_op = qubitOp"
   ]
  },
  {
   "cell_type": "markdown",
   "metadata": {},
   "source": [
    "We also offer a function to generate a random graph as a input."
   ]
  },
  {
   "cell_type": "code",
   "execution_count": 3,
   "metadata": {},
   "outputs": [],
   "source": [
    "if False:\n",
    "    qubitOp, offset, w, n = maxcut.random_maxcut(10, savefile='sample2.maxcut', seed=123)\n",
    "    algo_input.qubit_op = qubitOp"
   ]
  },
  {
   "cell_type": "markdown",
   "metadata": {},
   "source": [
    "We can now use the Operator without regard to how it was created. First we need to prepare the configuration params to invoke the algorithm. Here we will use the ExactEigensolver first to return the smallest eigenvalue. Backend is not required since this is computed classically not using quantum computation. We then add in the qubitOp Operator in dictionary format. Now the complete params can be passed to the algorithm and run. The result is a dictionary."
   ]
  },
  {
   "cell_type": "code",
   "execution_count": 4,
   "metadata": {},
   "outputs": [
    {
     "name": "stdout",
     "output_type": "stream",
     "text": [
      "energy: -10.0\n",
      "maxcut value: 15.0\n",
      "solution: {1: 1, 2: 0, 3: 1, 4: 1, 5: 0, 6: 1, 7: 1, 8: 1, 9: 0, 10: 0}\n",
      "dict_keys(['eigvals', 'eigvecs', 'energy', 'wavefunction', 'energies'])\n"
     ]
    }
   ],
   "source": [
    "algorithm_cfg = {\n",
    "    'name': 'ExactEigensolver',\n",
    "}\n",
    "\n",
    "params = {\n",
    "    'algorithm': algorithm_cfg,\n",
    "    'backend': {'name': 'local_statevector_simulator'}\n",
    "}\n",
    "result = run_algorithm(params,algo_input)\n",
    "# print('objective function:', maxcut.maxcut_obj(result, offset))\n",
    "x = maxcut.convert_eigevecs(n, result['eigvecs'])\n",
    "print('energy:', result['energy'])\n",
    "print('maxcut value:', maxcut.maxcut_value(x, w))\n",
    "print('solution:', maxcut.convert_gset_result(x))\n",
    "print(result.keys())\n",
    "#print(result)"
   ]
  },
  {
   "cell_type": "markdown",
   "metadata": {},
   "source": [
    "We change the configuration parameters to solve it with the CPLEX backend. The CPLEX backend can deal with a particular type of Hamiltonian called Ising Hamiltonian, which consists of only Pauli Z at most second order and often appears for combinatorial optimization problems such as the max-cut problem."
   ]
  },
  {
   "cell_type": "code",
   "execution_count": 5,
   "metadata": {},
   "outputs": [
    {
     "name": "stdout",
     "output_type": "stream",
     "text": [
      "CPXPARAM_TimeLimit                               600\n",
      "CPXPARAM_Read_DataCheck                          1\n",
      "CPXPARAM_Threads                                 1\n",
      "CPXPARAM_MIP_Tolerances_Integrality              0\n",
      "CPXPARAM_MIP_Display                             0\n",
      "energy: -10.0\n",
      "maxcut value: 15.0\n",
      "solution: {1: 0, 2: 1, 3: 0, 4: 0, 5: 1, 6: 0, 7: 0, 8: 0, 9: 1, 10: 1}\n",
      "time: 0.06694286316767388\n"
     ]
    }
   ],
   "source": [
    "algorithm_cfg = {\n",
    "    'name': 'CPLEX',\n",
    "    'display': 0\n",
    "}\n",
    "\n",
    "params = {\n",
    "    'algorithm': algorithm_cfg\n",
    "}\n",
    "\n",
    "result = run_algorithm(params, algo_input)\n",
    "\n",
    "#print('objective function:', maxcut.maxcut_obj(result, offset))\n",
    "x = result['x_sol']\n",
    "print('energy:', result['energy'])\n",
    "print('maxcut value:', maxcut.maxcut_value(x, w))\n",
    "print('solution:', maxcut.convert_gset_result(x))\n",
    "print('time:', result['time'])\n",
    "#print(result)"
   ]
  },
  {
   "cell_type": "markdown",
   "metadata": {},
   "source": [
    "Now we want VQE and so change it and add its other configuration parameters. VQE also needs and optimizer and variational form. While we can omit them from the dictionary, such that defaults are used, here we specify them explicitly so we can set their parameters as we desire."
   ]
  },
  {
   "cell_type": "code",
   "execution_count": 6,
   "metadata": {},
   "outputs": [
    {
     "name": "stdout",
     "output_type": "stream",
     "text": [
      "energy: -7.75028978424432\n",
      "maxcut value: 14.0\n",
      "solution: {1: 1, 2: 1, 3: 1, 4: 1, 5: 0, 6: 1, 7: 0, 8: 1, 9: 0, 10: 0}\n",
      "time: 192.02398324012756\n",
      "dict_keys(['eigvals', 'opt_params', 'eigvecs', 'energy', 'eval_count', 'eval_time'])\n"
     ]
    }
   ],
   "source": [
    "algorithm_cfg = {\n",
    "    'name': 'VQE',\n",
    "    'operator_mode': 'matrix'\n",
    "}\n",
    "\n",
    "optimizer_cfg = {\n",
    "    'name': 'L_BFGS_B',\n",
    "    'maxfun': 500\n",
    "}\n",
    "\n",
    "var_form_cfg = {\n",
    "    'name': 'RYRZ',\n",
    "    'depth': 3,\n",
    "    'entanglement': 'linear'\n",
    "}\n",
    "\n",
    "params = {\n",
    "    'algorithm': algorithm_cfg,\n",
    "    'optimizer': optimizer_cfg,\n",
    "    'variational_form': var_form_cfg,\n",
    "    'backend': {'name': 'local_statevector_simulator'}\n",
    "}\n",
    "\n",
    "result = run_algorithm(params,algo_input)\n",
    "#print('objective function:', maxcut.maxcut_obj(result, offset))\n",
    "x = maxcut.convert_eigevecs(n, np.abs(result['eigvecs']))\n",
    "print('energy:', result['energy'])\n",
    "print('maxcut value:', maxcut.maxcut_value(x, w))\n",
    "print('solution:', maxcut.convert_gset_result(x))\n",
    "print('time:', result['eval_time'])\n",
    "print(result.keys())\n",
    "#print(result)"
   ]
  },
  {
   "cell_type": "markdown",
   "metadata": {},
   "source": [
    "We solve an instance of Gset benchmark dataset (https://web.stanford.edu/~yyye/yyye/Gset/ ). Because the graph size is too large for ExactEigensolver and VQE, we apply it to CPLEX backend. Note that you can find the best known values of Gset at http://www.optsicom.es/maxcut/maxcut_bestvalues.xls. For example, the best known solution of G11 is 564 and it matches the result by CPLEX backend."
   ]
  },
  {
   "cell_type": "code",
   "execution_count": 7,
   "metadata": {},
   "outputs": [
    {
     "name": "stdout",
     "output_type": "stream",
     "text": [
      "CPXPARAM_TimeLimit                               600\n",
      "CPXPARAM_Read_DataCheck                          1\n",
      "CPXPARAM_Threads                                 2\n",
      "CPXPARAM_MIP_Tolerances_Integrality              0\n",
      "Found incumbent of value 34.000000 after 0.00 sec. (0.15 ticks)\n",
      "Tried aggregator 1 time.\n",
      "MIP Presolve eliminated 0 rows and 1 columns.\n",
      "MIP Presolve added 3200 rows and 1600 columns.\n",
      "Reduced MIP has 3200 rows, 2400 columns, and 6400 nonzeros.\n",
      "Reduced MIP has 2400 binaries, 0 generals, 0 SOSs, and 0 indicators.\n",
      "Presolve time = 0.02 sec. (0.62 ticks)\n",
      "Probing time = 0.01 sec. (1.05 ticks)\n",
      "Tried aggregator 1 time.\n",
      "MIP Presolve eliminated 817 rows and 0 columns.\n",
      "Reduced MIP has 2383 rows, 2400 columns, and 5583 nonzeros.\n",
      "Reduced MIP has 2400 binaries, 0 generals, 0 SOSs, and 0 indicators.\n",
      "Presolve time = 0.02 sec. (5.05 ticks)\n",
      "Probing time = 0.00 sec. (1.00 ticks)\n",
      "Clique table members: 1566.\n",
      "MIP emphasis: balance optimality and feasibility.\n",
      "MIP search method: dynamic search.\n",
      "Parallel mode: deterministic, using up to 2 threads.\n",
      "Root relaxation solution time = 0.03 sec. (13.11 ticks)\n",
      "\n",
      "        Nodes                                         Cuts/\n",
      "   Node  Left     Objective  IInf  Best Integer    Best Bound    ItCnt     Gap\n",
      "\n",
      "*     0+    0                           34.0000    -4402.0000              --- \n",
      "*     0+    0                         -798.0000    -4402.0000           451.63%\n",
      "      0     0    -1600.0000  1583     -798.0000    -1600.0000     2144  100.50%\n",
      "*     0+    0                         -830.0000    -1600.0000            92.77%\n",
      "      0     0    -1399.0000  1551     -830.0000     Cuts: 341     2872   68.55%\n",
      "      0     0    -1291.5000  1582     -830.0000     Cuts: 346     3742   55.60%\n",
      "      0     0    -1239.3333  1591     -830.0000 ZeroHalf: 250     4327   49.32%\n",
      "*     0+    0                         -854.0000    -1239.3333            45.12%\n",
      "      0     0    -1201.6603  1639     -854.0000 ZeroHalf: 229     4896   40.71%\n",
      "*     0+    0                         -958.0000    -1201.6603            25.43%\n",
      "      0     0    -1180.5357  1619     -958.0000     Cuts: 244     5272   23.23%\n",
      "*     0+    0                         -986.0000    -1180.5357            19.73%\n",
      "      0     0    -1154.4091  1629     -986.0000 ZeroHalf: 209     5814   17.08%\n",
      "      0     0    -1134.4167  1622     -986.0000 ZeroHalf: 190     6345   15.05%\n",
      "      0     0    -1127.2833  1626     -986.0000     Cuts: 187     6758   14.33%\n",
      "      0     0    -1111.1966  1623     -986.0000 ZeroHalf: 164     7174   12.70%\n",
      "*     0+    0                         -994.0000    -1111.1966            11.79%\n",
      "*     0+    0                        -1002.0000    -1111.1966            10.90%\n",
      "      0     0    -1109.2736  1600    -1002.0000     Cuts: 107     7472   10.71%\n",
      "      0     0    -1108.1175  1616    -1002.0000 ZeroHalf: 167     7954   10.59%\n",
      "      0     0    -1106.2103  1629    -1002.0000     Cuts: 152     8324   10.40%\n",
      "      0     0    -1103.7031  1692    -1002.0000 ZeroHalf: 132     8738   10.15%\n",
      "      0     0    -1102.5936  1711    -1002.0000  ZeroHalf: 91     8971   10.04%\n",
      "      0     0    -1099.6734  1662    -1002.0000      Cuts: 93     9255    9.75%\n",
      "      0     0    -1098.3714  1651    -1002.0000     Cuts: 122     9582    9.62%\n",
      "      0     0    -1098.1086  1303    -1002.0000 ZeroHalf: 111     9775    9.59%\n",
      "      0     0    -1096.7714  1264    -1002.0000  ZeroHalf: 73     9991    9.46%\n",
      "      0     0    -1096.3765  1247    -1002.0000      Cuts: 70    10134    9.42%\n",
      "      0     0    -1096.1027  1283    -1002.0000  ZeroHalf: 32    10242    9.39%\n",
      "      0     0    -1095.6316  1277    -1002.0000  ZeroHalf: 53    10368    9.34%\n",
      "      0     0    -1095.4660  1200    -1002.0000  ZeroHalf: 62    10492    9.33%\n",
      "      0     0    -1095.2001  1596    -1002.0000      Cuts: 35    10617    9.30%\n",
      "      0     0    -1094.9774  1600    -1002.0000      Cuts: 64    10734    9.28%\n",
      "      0     0    -1094.8254  1147    -1002.0000  ZeroHalf: 21    10841    9.26%\n",
      "*     0+    0                        -1062.0000    -1094.8254             3.09%\n",
      "      0     0    -1094.7562   992    -1062.0000     Cuts: 102    10991    3.08%\n",
      "*     0+    0                        -1070.0000    -1094.7562             2.31%\n",
      "*     0+    0                        -1074.0000    -1094.7562             1.93%\n",
      "      0     0    -1094.6965  1013    -1074.0000  ZeroHalf: 25    11083    1.93%\n",
      "*     0+    0                        -1094.0000    -1094.6965             0.06%\n",
      "      0     0        cutoff          -1094.0000    -1094.6965    11083    0.06%\n",
      "Elapsed time = 10.83 sec. (3082.98 ticks, tree = 0.01 MB, solutions = 12)\n",
      "\n",
      "Zero-half cuts applied:  720\n",
      "Lift and project cuts applied:  1\n",
      "Gomory fractional cuts applied:  28\n",
      "\n",
      "Root node processing (before b&c):\n",
      "  Real time             =   10.86 sec. (3083.10 ticks)\n",
      "Parallel b&c, 2 threads:\n",
      "  Real time             =    0.00 sec. (0.00 ticks)\n",
      "  Sync time (average)   =    0.00 sec.\n",
      "  Wait time (average)   =    0.00 sec.\n",
      "                          ------------\n",
      "Total (root+branch&cut) =   10.86 sec. (3083.10 ticks)\n",
      "objective function: 564.0\n",
      "energy: -1094.0\n",
      "maxcut value: 564.0\n",
      "time: 10.95349171431883\n"
     ]
    }
   ],
   "source": [
    "qubitOp, offset, w, n = maxcut.parse_gset_format('G11')\n",
    "algo_input = get_input_instance('EnergyInput')\n",
    "algo_input.qubit_op = qubitOp\n",
    "\n",
    "algorithm_cfg = {\n",
    "    'name': 'CPLEX',\n",
    "    'timelimit': 600,\n",
    "    'thread': 2\n",
    "}\n",
    "\n",
    "params = {\n",
    "    'algorithm': algorithm_cfg\n",
    "}\n",
    "\n",
    "result = run_algorithm(params, algo_input)\n",
    "print('objective function:', maxcut.maxcut_obj(result, offset))\n",
    "x = result['x_sol']\n",
    "print('energy:', result['energy'])\n",
    "print('maxcut value:', maxcut.maxcut_value(x, w))\n",
    "#print('solution:', maxcut.convert_gset_result(x))\n",
    "print('time:', result['time'])"
   ]
  },
  {
   "cell_type": "code",
   "execution_count": null,
   "metadata": {},
   "outputs": [],
   "source": []
  }
 ],
 "metadata": {
  "kernelspec": {
   "display_name": "Python 3",
   "language": "python",
   "name": "python3"
  },
  "language_info": {
   "codemirror_mode": {
    "name": "ipython",
    "version": 3
   },
   "file_extension": ".py",
   "mimetype": "text/x-python",
   "name": "python",
   "nbconvert_exporter": "python",
   "pygments_lexer": "ipython3",
   "version": "3.6.5"
  }
 },
 "nbformat": 4,
 "nbformat_minor": 1
}
