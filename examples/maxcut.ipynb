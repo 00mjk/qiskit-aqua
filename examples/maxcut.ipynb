{
 "cells": [
  {
   "cell_type": "markdown",
   "metadata": {
    "collapsed": true
   },
   "source": [
    "This QISKit ACQUA Optimization notebook demonstrates how to use the VQE quantum algorithm to compute the max cut of a given graph.  The graph provided as an input is used first to generate an Ising Hamiltonian, which is then passed as an input to VQE.  As a reference, this notebook also computes the max cut using the Exact Eigensolver classical algorithm and the solver embedded in the commercial non-quantum IBM CPLEX product (if it is available in the system and the user has followed the necessary configuration steps in order for QISKit ACQUA to find it).  Please refer to the QISKit ACQUA Optimization documentation for installation and configuration details."
   ]
  },
  {
   "cell_type": "code",
   "execution_count": 1,
   "metadata": {},
   "outputs": [],
   "source": [
    "import paths\n",
    "from qiskit_acqua import Operator, run_algorithm, get_algorithm_instance\n",
    "from qiskit_acqua.input import get_input_instance\n",
    "from qiskit_acqua.ising import maxcut\n",
    "import numpy as np\n",
    "import random"
   ]
  },
  {
   "cell_type": "markdown",
   "metadata": {},
   "source": [
    "Here an Operator instance is created for our Hamiltonian. In this case the paulis are from an Ising Hamiltonian of the max cut problem. We load a small instance of the maxcut problem."
   ]
  },
  {
   "cell_type": "code",
   "execution_count": 2,
   "metadata": {},
   "outputs": [],
   "source": [
    "qubitOp, offset, w, n = maxcut.parse_gset_format('sample.maxcut')\n",
    "algo_input = get_input_instance('EnergyInput')\n",
    "algo_input.qubit_op = qubitOp"
   ]
  },
  {
   "cell_type": "markdown",
   "metadata": {},
   "source": [
    "We also offer a function to generate a random graph as a input."
   ]
  },
  {
   "cell_type": "code",
   "execution_count": 3,
   "metadata": {},
   "outputs": [],
   "source": [
    "if False:\n",
    "    qubitOp, offset, w, n = maxcut.random_maxcut(10, savefile='sample2.maxcut', seed=123)\n",
    "    algo_input.qubit_op = qubitOp"
   ]
  },
  {
   "cell_type": "code",
   "execution_count": 4,
   "metadata": {},
   "outputs": [
    {
     "name": "stdout",
     "output_type": "stream",
     "text": [
      "['ExactEigensolver', 'CPLEX', 'VQE']\n"
     ]
    }
   ],
   "source": [
    "to_be_tested_algos = ['ExactEigensolver', 'CPLEX', 'VQE']\n",
    "operational_algos = []\n",
    "for algo in to_be_tested_algos:\n",
    "    try:\n",
    "        get_algorithm_instance(algo)\n",
    "        operational_algos.append(algo)\n",
    "    except:\n",
    "        print(\"{} is unavailable, please check your setting.\".format(algo))\n",
    "print(operational_algos)"
   ]
  },
  {
   "cell_type": "markdown",
   "metadata": {},
   "source": [
    "We can now use the Operator without regard to how it was created. First we need to prepare the configuration params to invoke the algorithm. Here we will use the ExactEigensolver first to return the smallest eigenvalue. Backend is not required since this is computed classically not using quantum computation. We then add in the qubitOp Operator in dictionary format. Now the complete params can be passed to the algorithm and run. The result is a dictionary."
   ]
  },
  {
   "cell_type": "code",
   "execution_count": 5,
   "metadata": {},
   "outputs": [
    {
     "name": "stdout",
     "output_type": "stream",
     "text": [
      "energy: -10.0\n",
      "maxcut value: 15.0\n",
      "solution: {1: 1, 2: 0, 3: 1, 4: 1, 5: 0, 6: 1, 7: 1, 8: 1, 9: 0, 10: 0}\n"
     ]
    }
   ],
   "source": [
    "if 'ExactEigensolver' not in operational_algos:\n",
    "    print(\"ExactEigensolver is not in operational algorithms.\")\n",
    "else:\n",
    "    algorithm_cfg = {\n",
    "        'name': 'ExactEigensolver',\n",
    "    }\n",
    "\n",
    "    params = {\n",
    "        'problem': {'name': 'ising'},\n",
    "        'algorithm': algorithm_cfg\n",
    "    }\n",
    "    result = run_algorithm(params,algo_input)\n",
    "    # print('objective function:', maxcut.maxcut_obj(result, offset))\n",
    "    x = maxcut.convert_eigevecs(n, result['eigvecs'])\n",
    "    print('energy:', result['energy'])\n",
    "    print('maxcut value:', maxcut.maxcut_value(x, w))\n",
    "    print('solution:', maxcut.convert_gset_result(x))"
   ]
  },
  {
   "cell_type": "markdown",
   "metadata": {},
   "source": [
    "We change the configuration parameters to solve it with the CPLEX backend. The CPLEX backend can deal with a particular type of Hamiltonian called Ising Hamiltonian, which consists of only Pauli Z at most second order and often appears for combinatorial optimization problems such as the max-cut problem."
   ]
  },
  {
   "cell_type": "code",
   "execution_count": 6,
   "metadata": {},
   "outputs": [
    {
     "name": "stdout",
     "output_type": "stream",
     "text": [
      "CPXPARAM_TimeLimit                               600\n",
      "CPXPARAM_Read_DataCheck                          1\n",
      "CPXPARAM_Threads                                 1\n",
      "CPXPARAM_MIP_Tolerances_Integrality              0\n",
      "CPXPARAM_MIP_Display                             0\n",
      "energy: -10.0\n",
      "maxcut value: 15.0\n",
      "solution: {1: 0, 2: 1, 3: 0, 4: 0, 5: 1, 6: 0, 7: 0, 8: 0, 9: 1, 10: 1}\n",
      "time: 0.01566228299634531\n"
     ]
    }
   ],
   "source": [
    "if 'CPLEX' not in operational_algos:\n",
    "    print(\"CPLEX is not in operational algorithms.\")\n",
    "else:\n",
    "    algorithm_cfg = {\n",
    "        'name': 'CPLEX',\n",
    "        'display': 0\n",
    "    }\n",
    "\n",
    "    params = {\n",
    "        'problem': {'name': 'ising'},\n",
    "        'algorithm': algorithm_cfg\n",
    "    }\n",
    "\n",
    "    result = run_algorithm(params, algo_input)\n",
    "\n",
    "    #print('objective function:', maxcut.maxcut_obj(result, offset))\n",
    "    x = result['x_sol']\n",
    "    print('energy:', result['energy'])\n",
    "    print('maxcut value:', maxcut.maxcut_value(x, w))\n",
    "    print('solution:', maxcut.convert_gset_result(x))\n",
    "    print('time:', result['time'])"
   ]
  },
  {
   "cell_type": "markdown",
   "metadata": {},
   "source": [
    "Now we want VQE and so change it and add its other configuration parameters. VQE also needs and optimizer and variational form. While we can omit them from the dictionary, such that defaults are used, here we specify them explicitly so we can set their parameters as we desire."
   ]
  },
  {
   "cell_type": "code",
   "execution_count": 7,
   "metadata": {},
   "outputs": [
    {
     "name": "stdout",
     "output_type": "stream",
     "text": [
      "energy: -8.56303033181686\n",
      "maxcut value: 15.0\n",
      "solution: {1: 1, 2: 0, 3: 1, 4: 1, 5: 0, 6: 1, 7: 1, 8: 1, 9: 0, 10: 0}\n",
      "time: 549.7185709476471\n"
     ]
    }
   ],
   "source": [
    "if 'VQE' not in operational_algos:\n",
    "    print(\"VQE is not in operational algorithms.\")\n",
    "else:\n",
    "    algorithm_cfg = {\n",
    "        'name': 'VQE',\n",
    "        'operator_mode': 'matrix'\n",
    "    }\n",
    "\n",
    "    optimizer_cfg = {\n",
    "        'name': 'L_BFGS_B',\n",
    "        'maxfun': 2000\n",
    "    }\n",
    "\n",
    "    var_form_cfg = {\n",
    "        'name': 'RYRZ',\n",
    "        'depth': 10,\n",
    "        'entanglement': 'linear'\n",
    "    }\n",
    "\n",
    "    params = {\n",
    "        'problem': {'name': 'ising'},\n",
    "        'algorithm': algorithm_cfg,\n",
    "        'optimizer': optimizer_cfg,\n",
    "        'variational_form': var_form_cfg,\n",
    "        'backend': {'name': 'local_statevector_simulator'}\n",
    "    }\n",
    "\n",
    "    result = run_algorithm(params,algo_input)\n",
    "    #print('objective function:', maxcut.maxcut_obj(result, offset))\n",
    "    x = maxcut.convert_eigevecs(n, np.abs(result['eigvecs']))\n",
    "    print('energy:', result['energy'])\n",
    "    print('maxcut value:', maxcut.maxcut_value(x, w))\n",
    "    print('solution:', maxcut.convert_gset_result(x))\n",
    "    print('time:', result['eval_time'])"
   ]
  },
  {
   "cell_type": "code",
   "execution_count": null,
   "metadata": {},
   "outputs": [],
   "source": []
  }
 ],
 "metadata": {
  "kernelspec": {
   "display_name": "Python 3",
   "language": "python",
   "name": "python3"
  },
  "language_info": {
   "codemirror_mode": {
    "name": "ipython",
    "version": 3
   },
   "file_extension": ".py",
   "mimetype": "text/x-python",
   "name": "python",
   "nbconvert_exporter": "python",
   "pygments_lexer": "ipython3",
   "version": "3.6.4"
  }
 },
 "nbformat": 4,
 "nbformat_minor": 1
}
