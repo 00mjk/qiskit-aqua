{
 "cells": [
  {
   "cell_type": "markdown",
   "metadata": {},
   "source": [
    "# The Algorithm for Solving Systems of Linear Equations (HHL Algorithm)\n",
    "\n",
    "The HHl algorithm was proposed by Harrow, Hassidim and Lloyd in 2008 (https://arxiv.org/pdf/0811.3171.pdf). It is an algorithm for solving systems of linear equations, which promises an exponential speedup in comparison to classically known algorithms.\n",
    "\n",
    "The aim is to solve the following equations:\n",
    "$$ \\hat{A} \\vec{x} = \\vec{b} $$\n",
    "\n",
    "$\\hat{A}$ and $\\vec{b}$ are known.\n",
    "\n",
    "The structure of the algorithm is as can be seen in the next figure.\n",
    "\n",
    "<img src=\"hhlcircuitblack.png\" />\n"
   ]
  },
  {
   "cell_type": "code",
   "execution_count": 1,
   "metadata": {},
   "outputs": [],
   "source": [
    "%load_ext autoreload"
   ]
  },
  {
   "cell_type": "code",
   "execution_count": 2,
   "metadata": {},
   "outputs": [],
   "source": [
    "%autoreload 2"
   ]
  },
  {
   "cell_type": "code",
   "execution_count": 3,
   "metadata": {},
   "outputs": [],
   "source": [
    "from qiskit import QuantumRegister, ClassicalRegister, QuantumCircuit\n",
    "from qiskit_aqua.input import get_input_instance\n",
    "from qiskit_aqua import Operator, run_algorithm, get_eigs_instance, get_reciprocal_instance, get_initial_state_instance\n",
    "from hhl_func import HHLDEMO\n",
    "hhl_func = HHLDEMO()\n",
    "\n",
    "import numpy as np"
   ]
  },
  {
   "cell_type": "markdown",
   "metadata": {},
   "source": [
    "## Function breakdown\n",
    "\n",
    "At first we break down the algorithm in its different functions. At the beginning, we have to define the system that we want to solve. That means, the matrix and the vector have to be defined as arrays. \n",
    "The needed number of qubits to store the input vector has to be calculated as well. It is the logarithm to the basis 2 of the length of an input vector. For a vector with length 2, we need 1 qubit, length 4, 2 qubits and so on. "
   ]
  },
  {
   "cell_type": "code",
   "execution_count": 4,
   "metadata": {},
   "outputs": [],
   "source": [
    "matrix = np.array([[-2, -1], [-1,-2]])\n",
    "statevec = [1,0]"
   ]
  },
  {
   "cell_type": "markdown",
   "metadata": {},
   "source": [
    "### State preparation\n",
    "Then the state $\\vec{b}$ has to be prepared. Currently there is no known efficient way to prepare a general given state. We use here the way that is already implemented in Qiskit, after the paper \"Synthesis of Quantum Logic Circuits\" by Shende, Bullock, Markov (https://arxiv.org/abs/quant-ph/0406176v5).\n",
    "\n",
    "The state preparation is one of the major drawbacks of the HHL algorithm, as it is assumed that the state is already prepared efficiently. Since this is not yet possible the algorithm is not necessarily faster than a classical one."
   ]
  },
  {
   "cell_type": "code",
   "execution_count": 5,
   "metadata": {},
   "outputs": [
    {
     "data": {
      "text/plain": [
       "(<qiskit._quantumcircuit.QuantumCircuit at 0x7efca364f160>,\n",
       " QuantumRegister(1, 'q0'))"
      ]
     },
     "execution_count": 5,
     "metadata": {},
     "output_type": "execute_result"
    }
   ],
   "source": [
    "hhl_func.getstate(\"CUSTOM\", statevec)"
   ]
  },
  {
   "cell_type": "code",
   "execution_count": 6,
   "metadata": {},
   "outputs": [],
   "source": [
    "operator = hhl_func.getoperator(matrix)"
   ]
  },
  {
   "cell_type": "markdown",
   "metadata": {},
   "source": [
    "### Define QPE parameters\n",
    "\n",
    "The QPE (quantum phase estimation) calculates the eigenvalues of a given matrix. For this the matrix that is to be solved has to be exponentiated. To exponentiate a matrix, that is not diagonal, two different modes can be used in Qiskit to expand the matrix and therefore calculate the approximate exponentiation. The modes are called 'suzuki' and 'trotter' and we have to decide which one to use. \n",
    "\n",
    "For both modes the number of time slices has to be defined as well. The more time slices we use the exacter the exponentiation gets. The drawback is the increase in circuit length, which is proportional to the execution time and also increases error rates if executed on a real quantum device.\n",
    "\n",
    "For the mode 'suzuki' the expansion order has to be set. This is a again a method to better the approximation of the exponentiated matrix. This significantly increases runtime.\n",
    "\n",
    "At last the accuracy of the eigenvalues has to be defined. The more qubits we use the better the numbers can be represented. Of course a higher number in qubits results in more RAM on the simulator which can at one point exceed the available resources.\n",
    "\n",
    "As handling matrices with only positive eigenvalues is easier than not positive definite matrices, we need to define if we allow negative eigenvalues."
   ]
  },
  {
   "cell_type": "code",
   "execution_count": 7,
   "metadata": {},
   "outputs": [],
   "source": [
    "expansion_mode = 'trotter'\n",
    "expansion_order = 1\n",
    "num_time_slices = 30\n",
    "num_anc = 5\n",
    "negative_evals = False"
   ]
  },
  {
   "cell_type": "code",
   "execution_count": 8,
   "metadata": {},
   "outputs": [],
   "source": [
    "hhl_func.construct_qpe_circuit(num_time_slices, num_anc, expansion_mode, expansion_order, negative_evals)"
   ]
  },
  {
   "cell_type": "markdown",
   "metadata": {},
   "source": [
    "### Define rotation method\n",
    "\n",
    "At last the rotation method has to be defined. The goal is to map the reciprocal of the eigenvalues stored in the eigenvalue register to the amplitude of the $\\vec{b}$ register. This is then proportional to $\\frac{1}{\\lambda} \\vec{b} = \\vec{x}$.\n",
    "\n",
    "For this we need to make a rotation of an ancilla qubit controlled by the eigenvalue register. We have found three different methods to implement this:\n",
    "\n",
    "__1. Lookup Method:__\n",
    "\n",
    "The basic idea was to precalculate the rotation values and to map them to the corresponding bit patterns. Furthermore we decided to only include a certain bit length after the most significant bit, which is set to 1, which reduces the number of gates needed. For a complete eigenvalue register length of 8 and a chosen bit length of 5, the maximum difference between the calculated and the real rotation value is about 1 %.\n",
    "\n",
    "__2. Generated Circuits Method:__\n",
    "\n",
    "In the paper \"Design Automation and Design Space Exploration for Quantum Computers\" by M. Soeken et. al (https://arxiv.org/pdf/1612.00631.pdf) they synthesized arithmetic circuits to calculate the reciprocal of a number stored in qubit register by using classical design automation flows and tools. The circuits are optimized for number of qubits. The basic idea was to automate the generation of the long division of a binary number. We are reusing these circuits generated with Verilog and Revs to store the reciprocal in an extra register and afterwards making the controlled rotation.\n",
    "\n",
    "__3. Long Division:__\n",
    "\n",
    "The long division method used for the generated circuits can also be implemented directly. This has the advantage that the circuits can be scaled as needed, as for the generated circuit method for every bit size a new file is needed. The resulting precision can also be chosen, since, if the division leaves a remainder, the next division step can be calculated as well, so the resulting register gets longer and more accurate.\n"
   ]
  },
  {
   "cell_type": "code",
   "execution_count": 9,
   "metadata": {},
   "outputs": [],
   "source": [
    "reciprocal_mode = \"LOOKUP\"\n",
    "hhl_func.construct_reciprocal_circuit(reciprocal_mode)"
   ]
  },
  {
   "cell_type": "markdown",
   "metadata": {},
   "source": [
    "### Inverse Quantum Phase Estimation\n",
    "\n",
    "At the end the eigenvalue register has to be unentangled from the ancilla qubit, so the measurement on the ancilla qubit and the resulting amplitude is not dependent on the eigenvalue register. For that the QPE is inverted, which means all gates are inverted and then applied in the inverse order."
   ]
  },
  {
   "cell_type": "code",
   "execution_count": 10,
   "metadata": {},
   "outputs": [],
   "source": [
    "inv_qc = hhl_func.construct_inverse_circuit()"
   ]
  },
  {
   "cell_type": "markdown",
   "metadata": {},
   "source": [
    "### Measurement\n",
    "\n",
    "For a real application of the HHL the ancilla qubit is measured and if that measurement returns a 1, the register which originally contained $\\vec{b}$ now holds $\\vec{x}$. This register can then be reused or read out with the help of some operator. The operator is needed to reduce the needed information to only a few features, as otherwise the speedup of the algorithm would be redundant.\n",
    "\n",
    "For us to test the algorithm the option is to measure the amplitudes of the different states in superposition. This can be either done by executing the circuit very often, or if executed on a simulator, using the state vector option. With this option the exact amplitudes of every state can be read out and the output vector calculated. This is done here. \n",
    "\n",
    "The output vector is then compared to the vector which was classically computed. The fidelity gives the agreement between both vectors. If both vectors are the same (excluding a global phase, which has no effect on any measurement), the fidelity is 1."
   ]
  },
  {
   "cell_type": "code",
   "execution_count": 11,
   "metadata": {},
   "outputs": [
    {
     "name": "stderr",
     "output_type": "stream",
     "text": [
      "no measurements in circuit 'circuit2', classical register will remain all zeros.\n"
     ]
    },
    {
     "name": "stdout",
     "output_type": "stream",
     "text": [
      "probability  :  (0.999+0j)\n",
      "result  :  [1.e+00-0.j 5.e-04+0.j]\n",
      "fidelity  :  0.7996\n",
      "solution  :  [-4.47e-01+0.j -2.00e-04-0.j]\n",
      "gate_count  :  2478\n",
      "matrix  :  [[-2 -1]\n",
      " [-1 -2]]\n",
      "invec  :  [1 0]\n",
      "eigenvalues  :  [-1. -3.]\n"
     ]
    }
   ],
   "source": [
    "backend = 'local_qasm_simulator'\n",
    "ret, circuit = hhl_func.result(backend)\n",
    "for i in ret.keys():\n",
    "    print(i, \" : \", np.round(ret[i], 4))"
   ]
  },
  {
   "cell_type": "markdown",
   "metadata": {},
   "source": [
    "## Qiskit approach\n",
    "To make it easier for the users of Qiskit Aqua, every technique for a problem is contained in an algorithm instance. That means that the user does not need to do more than to define the parameters and run the algorithm. It needs a lot less code and understanding of the algorithm.\n",
    "\n",
    "To make the comparison easier, we use the same parameters here as before."
   ]
  },
  {
   "cell_type": "code",
   "execution_count": 12,
   "metadata": {},
   "outputs": [],
   "source": [
    "from qiskit import QuantumRegister, ClassicalRegister, QuantumCircuit\n",
    "from qiskit_aqua.input import get_input_instance\n",
    "from qiskit_aqua import Operator, run_algorithm, get_eigs_instance, get_reciprocal_instance, get_initial_state_instance\n",
    "from hhl_func import HHLDEMO\n",
    "hhl_func = HHLDEMO()\n",
    "\n",
    "import numpy as np"
   ]
  },
  {
   "cell_type": "code",
   "execution_count": 13,
   "metadata": {},
   "outputs": [],
   "source": [
    "params = {\n",
    "    \"algorithm\": {\n",
    "        \"name\": \"HHL\",\n",
    "        \"mode\": \"state_tomography\"\n",
    "    },\n",
    "    \"eigs\": {\n",
    "        \"name\": \"QPE\",\n",
    "        \"num_time_slices\": num_time_slices,\n",
    "        \"expansion_mode\": expansion_mode,\n",
    "        \"expansion_order\": expansion_order,\n",
    "        \"negative_evals\": True,\n",
    "        \"num_ancillae\": num_anc,\n",
    "    },\n",
    "    \"reciprocal\": {\n",
    "        \"name\": reciprocal_mode,\n",
    "        \"scale\": 1\n",
    "    },\n",
    "    \"backend\": {\n",
    "        \"name\": \"local_qasm_simulator\",\n",
    "        \"shots\": 1\n",
    "    }\n",
    "}"
   ]
  },
  {
   "cell_type": "code",
   "execution_count": 14,
   "metadata": {
    "scrolled": true
   },
   "outputs": [
    {
     "name": "stdout",
     "output_type": "stream",
     "text": [
      "probability  :  (0.982+0j)\n",
      "result  :  [-1.    +0.j -0.0091+0.j]\n",
      "fidelity  :  0.7926\n",
      "solution  :  [-0.444 +0.j -0.0041+0.j]\n",
      "gate_count  :  3389\n",
      "matrix  :  [[-2 -1]\n",
      " [-1 -2]]\n",
      "invec  :  [1 0]\n",
      "eigenvalues  :  [-1. -3.]\n"
     ]
    }
   ],
   "source": [
    "ret, sv = run_algorithm(params, (matrix, statevec))\n",
    "for i in ret.keys():\n",
    "    print(i, \" : \", np.round(ret[i], 4))"
   ]
  },
  {
   "cell_type": "code",
   "execution_count": null,
   "metadata": {},
   "outputs": [],
   "source": []
  }
 ],
 "metadata": {
  "kernelspec": {
   "display_name": "Python 3",
   "language": "python",
   "name": "python3"
  },
  "language_info": {
   "codemirror_mode": {
    "name": "ipython",
    "version": 3
   },
   "file_extension": ".py",
   "mimetype": "text/x-python",
   "name": "python",
   "nbconvert_exporter": "python",
   "pygments_lexer": "ipython3",
   "version": "3.6.6"
  }
 },
 "nbformat": 4,
 "nbformat_minor": 2
}
