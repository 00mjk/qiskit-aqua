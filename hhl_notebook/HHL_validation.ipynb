{
 "cells": [
  {
   "cell_type": "code",
   "execution_count": 1,
   "metadata": {},
   "outputs": [],
   "source": [
    "%load_ext autoreload"
   ]
  },
  {
   "cell_type": "code",
   "execution_count": 2,
   "metadata": {},
   "outputs": [],
   "source": [
    "%autoreload 2"
   ]
  },
  {
   "cell_type": "code",
   "execution_count": 3,
   "metadata": {},
   "outputs": [],
   "source": [
    "from qiskit import QuantumRegister, QuantumCircuit, execute\n",
    "import qiskit.extensions.simulator\n",
    "\n",
    "from qiskit_aqua import Operator, run_algorithm\n",
    "from qiskit_aqua.input import get_input_instance\n",
    "from qiskit_aqua import get_eigs_instance, get_reciprocal_instance\n",
    "\n",
    "from qiskit_aqua.utils import random_hermitian, random_non_hermitian\n",
    "\n",
    "from qiskit.tools.visualization import plot_circuit\n",
    "\n",
    "import numpy as np\n",
    "import matplotlib.pyplot as plt\n",
    "from IPython.display import display, Markdown, Latex\n",
    "# from qiskit_aqua.algorithms.components.reciprocals.lookup_rotation import LookupRotation\n",
    "from qiskit_aqua.algorithms.single_sample.hhl.hhl import HHL"
   ]
  },
  {
   "cell_type": "code",
   "execution_count": 4,
   "metadata": {},
   "outputs": [],
   "source": [
    "#specify problem\n",
    "#matrix = random_hermitian(4, eigrange=(1, 4), trunc=2)\n",
    "matrix = np.array([[1, 0], [0, 3]])\n",
    "\n",
    "invec = np.array([1,1])\n",
    "\n",
    "reciprocal_methods = [\"LOOKUP\"]"
   ]
  },
  {
   "cell_type": "code",
   "execution_count": 10,
   "metadata": {
    "scrolled": false
   },
   "outputs": [],
   "source": [
    "params = {\n",
    "    \"algorithm\": {\n",
    "        \"name\": \"HHL\",\n",
    "        \"mode\": \"state_tomography\"\n",
    "    },\n",
    "    \"eigs\": {\n",
    "        \"name\": \"QPE\",\n",
    "        \"num_time_slices\": 20,\n",
    "        \"expansion_mode\": \"suzuki\",\n",
    "        \"negative_evals\": False,\n",
    "        \"num_ancillae\": 6,\n",
    "        \"expansion_order\":2,\n",
    "        #\"evo_time\": np.pi/2,\n",
    "    },\n",
    "    \"initial_state\": {\n",
    "        \"name\": \"CUSTOM\",\n",
    "        \n",
    "    },\n",
    "    \"reciprocal\": {\n",
    "        #\"lambda_min\": 1,\n",
    "    },\n",
    "    \"backend\": {\n",
    "        \"name\": \"local_qasm_simulator\",\n",
    "        \"shots\": 1\n",
    "    }\n",
    "}"
   ]
  },
  {
   "cell_type": "code",
   "execution_count": 11,
   "metadata": {
    "scrolled": false
   },
   "outputs": [],
   "source": [
    "res_dict={}\n",
    "for method in reciprocal_methods:\n",
    "    params[\"reciprocal\"][\"name\"]= method\n",
    "    ret = run_algorithm(params, (matrix,invec))\n",
    "    res_dict.update({method:ret})"
   ]
  },
  {
   "cell_type": "code",
   "execution_count": null,
   "metadata": {
    "scrolled": false
   },
   "outputs": [],
   "source": []
  },
  {
   "cell_type": "code",
   "execution_count": 7,
   "metadata": {},
   "outputs": [],
   "source": [
    "def print_vector(vec_name,method,b):\n",
    "    vec = \"${}_{{{}}}$\".format(vec_name,method)+'$\\\\begin{pmatrix}' + str(b[0]) + r'\\\\' + str(b[1]) + '\\\\end{pmatrix}$'\n",
    "\n",
    "    display(Markdown(vec))\n",
    "    \n",
    "def compare_results(res_dict,show_vector=True):\n",
    "    methods = list(res_dict.keys())\n",
    "    res_list = [res_dict[i] for i in methods]\n",
    "    features = np.array(list(res_list[0].keys()))\n",
    "    #1. numeric output\n",
    "    mask = [np.isscalar(res_list[0][feat]) for feat in features]\n",
    "    num_numeric = sum(mask)\n",
    "    feat_numeric = features[mask]\n",
    "    #2. array like output\n",
    "    mask = [isinstance(res_list[0][feat],(list,np.ndarray)) for feat in features]\n",
    "    num_array = sum(mask)\n",
    "    feat_array = features[mask]\n",
    "    \n",
    "    fig,axs = plt.subplots(num_numeric,1)\n",
    "    for n,res in enumerate(res_list):\n",
    "        for i,feat in enumerate(feat_numeric):\n",
    "            axs[i].bar(n,res[feat])\n",
    "        if show_vector:\n",
    "            for i,feat in enumerate(feat_array):\n",
    "                print_vector(feat,methods[n],res[feat])\n",
    "    for i in range(num_numeric):\n",
    "        axs[i].set_ylabel(feat_numeric[i])\n",
    "        axs[i].set_xticks(np.arange(len(res_list)))\n",
    "        axs[i].set_xticklabels(methods)\n",
    "    \n",
    "    plt.tight_layout()\n",
    "    plt.show()\n",
    "        "
   ]
  },
  {
   "cell_type": "code",
   "execution_count": 12,
   "metadata": {},
   "outputs": [
    {
     "data": {
      "text/markdown": [
       "$result_{LOOKUP}$$\\begin{pmatrix}(0.9486832980504961+1.2697812132516125e-13j)\\\\(0.3162277660168909+1.288525035165834e-13j)\\end{pmatrix}$"
      ],
      "text/plain": [
       "<IPython.core.display.Markdown object>"
      ]
     },
     "metadata": {},
     "output_type": "display_data"
    },
    {
     "data": {
      "text/markdown": [
       "$solution_{LOOKUP}$$\\begin{pmatrix}(0.9999999999999069+6.751607775916047e-13j)\\\\(0.33333333333336435+3.1626049292890277e-13j)\\end{pmatrix}$"
      ],
      "text/plain": [
       "<IPython.core.display.Markdown object>"
      ]
     },
     "metadata": {},
     "output_type": "display_data"
    },
    {
     "data": {
      "image/png": "[encoded data removed]",
      "text/plain": [
       "<Figure size 432x288 with 3 Axes>"
      ]
     },
     "metadata": {},
     "output_type": "display_data"
    }
   ],
   "source": [
    "compare_results(res_dict,show_vector=True)"
   ]
  },
  {
   "cell_type": "code",
   "execution_count": 9,
   "metadata": {},
   "outputs": [
    {
     "data": {
      "text/plain": [
       "{'LOOKUP': {'probability': (0.001259763164525253+0j),\n",
       "  'result': array([0.9486833 +1.21173209e-13j, 0.31622777+1.33459102e-13j]),\n",
       "  'gate_count': 11375}}"
      ]
     },
     "execution_count": 9,
     "metadata": {},
     "output_type": "execute_result"
    }
   ],
   "source": [
    "res_dict"
   ]
  },
  {
   "cell_type": "code",
   "execution_count": null,
   "metadata": {},
   "outputs": [],
   "source": []
  }
 ],
 "metadata": {
  "kernelspec": {
   "display_name": "Python 3",
   "language": "python",
   "name": "python3"
  },
  "language_info": {
   "codemirror_mode": {
    "name": "ipython",
    "version": 3
   },
   "file_extension": ".py",
   "mimetype": "text/x-python",
   "name": "python",
   "nbconvert_exporter": "python",
   "pygments_lexer": "ipython3",
   "version": "3.7.0"
  }
 },
 "nbformat": 4,
 "nbformat_minor": 2
}
