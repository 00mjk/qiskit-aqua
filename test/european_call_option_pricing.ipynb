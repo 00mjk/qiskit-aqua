{
 "cells": [
  {
   "cell_type": "code",
   "execution_count": 1,
   "metadata": {},
   "outputs": [],
   "source": [
    "from qiskit_aqua.algorithms.single_sample import AmplitudeEstimation\n",
    "from qiskit_aqua.algorithms.components.uncertainty_problems import EuropeanCallExpectedValue\n",
    "from qiskit_aqua.algorithms.components.uncertainty_problems import EuropeanCallDelta\n",
    "from qiskit_aqua.algorithms.components.uncertainty_models import NormalDistribution\n",
    "import matplotlib.pyplot as plt\n",
    "%matplotlib inline\n",
    "import numpy as np\n",
    "from qiskit import execute, ClassicalRegister"
   ]
  },
  {
   "cell_type": "markdown",
   "metadata": {},
   "source": [
    "# Analysis of European Call Option\n",
    "### <font color=\"red\">IBM Confidential - Do Not Distribute</font>\n",
    "<br>\n",
    "<br>\n",
    "Suppose a European option with strike price $K$ and an underlying asset whose spot price at maturity $S_T$ follows a given random distribution.\n",
    "The corresponding payoff function is defined as:\n",
    "<br>\n",
    "<br>\n",
    "$$\\max\\{S - K, 0\\}$$\n",
    "<br>\n",
    "In the following, a quantum algorithm based on amplitude estimation is used to estimate the expected payoff, i.e., the fair price for the option:\n",
    "<br>\n",
    "<br>\n",
    "$$p = \\mathbb{E}\\left[ \\max\\{S - K, 0\\} \\right]$$\n",
    "<br>\n",
    "as well as the corresponding $\\Delta$, i.e., the derivative of the option price with respect to the spot price, defined as:\n",
    "<br>\n",
    "<br>\n",
    "$$\n",
    "\\Delta = \\mathbb{P}\\left[S \\geq K\\right]\n",
    "$$"
   ]
  },
  {
   "cell_type": "markdown",
   "metadata": {},
   "source": [
    "## Uncertainty Model"
   ]
  },
  {
   "cell_type": "code",
   "execution_count": 2,
   "metadata": {},
   "outputs": [],
   "source": [
    "# number of qubits to represent the uncertainty\n",
    "num_uncertainty_qubits = 2\n",
    "\n",
    "# lowest and highest value considered for the spot price; in between, an equidistant discretization is considered.\n",
    "low  = 0\n",
    "high = 2**num_uncertainty_qubits-1\n",
    "\n",
    "mu = (low + high)/2\n",
    "sigma = 1\n",
    "\n",
    "# construct circuit factory for uncertainty model\n",
    "uncertainty_model = NormalDistribution(num_uncertainty_qubits, mu=mu, sigma=sigma, low=low, high=high)"
   ]
  },
  {
   "cell_type": "code",
   "execution_count": 3,
   "metadata": {},
   "outputs": [
    {
     "data": {
      "image/png": "[encoded data removed]",
      "text/plain": [
       "<Figure size 432x288 with 1 Axes>"
      ]
     },
     "metadata": {},
     "output_type": "display_data"
    }
   ],
   "source": [
    "# plot probability distribution\n",
    "x = uncertainty_model.values\n",
    "y = uncertainty_model.probabilities\n",
    "plt.bar(x, y)\n",
    "plt.xticks(x, size=15)\n",
    "plt.yticks(size=15)\n",
    "plt.grid()\n",
    "plt.xlabel('Spot Price at Maturity $S_T$ (\\$)', size=15)\n",
    "plt.ylabel('Probability ($\\%$)', size=15)\n",
    "plt.show()"
   ]
  },
  {
   "cell_type": "markdown",
   "metadata": {},
   "source": [
    "## Payoff Function"
   ]
  },
  {
   "cell_type": "code",
   "execution_count": 4,
   "metadata": {},
   "outputs": [],
   "source": [
    "# set the strike price (should be within the low and the high value of the uncertainty)\n",
    "strike_price = 1\n",
    "\n",
    "# set the approximation scaling for the payoff function\n",
    "c_approx = 0.5\n",
    "\n",
    "# construct circuit factory for payoff function\n",
    "european_call = EuropeanCallExpectedValue(\n",
    "    uncertainty_model,\n",
    "    strike_price=strike_price,\n",
    "    c_approx=c_approx,\n",
    "    i_state=list(range(num_uncertainty_qubits)),\n",
    "    i_compare=num_uncertainty_qubits,\n",
    "    i_objective=num_uncertainty_qubits + 1\n",
    ")"
   ]
  },
  {
   "cell_type": "code",
   "execution_count": 5,
   "metadata": {},
   "outputs": [
    {
     "data": {
      "image/png": "[encoded data removed]",
      "text/plain": [
       "<Figure size 432x288 with 1 Axes>"
      ]
     },
     "metadata": {},
     "output_type": "display_data"
    }
   ],
   "source": [
    "# plot payoff function\n",
    "x = uncertainty_model.values\n",
    "y = np.maximum(0, x - strike_price)\n",
    "plt.plot(x, y, 'ro-')\n",
    "plt.grid()\n",
    "plt.title('Payoff Function', size=15)\n",
    "plt.xlabel('Spot Price', size=15)\n",
    "plt.ylabel('Payoff', size=15)\n",
    "plt.xticks(x)\n",
    "plt.show()"
   ]
  },
  {
   "cell_type": "code",
   "execution_count": 6,
   "metadata": {},
   "outputs": [
    {
     "name": "stdout",
     "output_type": "stream",
     "text": [
      "exact expected value:\t0.6345\n",
      "exact delta value:   \t0.8655\n"
     ]
    }
   ],
   "source": [
    "# evaluate exact expected value \n",
    "exact_value = np.dot(uncertainty_model.probabilities, y)\n",
    "exact_delta = sum(uncertainty_model.probabilities[x >= strike_price])\n",
    "print('exact expected value:\\t%.4f' % exact_value)\n",
    "print('exact delta value:   \\t%.4f' % exact_delta)"
   ]
  },
  {
   "cell_type": "markdown",
   "metadata": {},
   "source": [
    "## Evaluate Expected Payoff"
   ]
  },
  {
   "cell_type": "code",
   "execution_count": 7,
   "metadata": {},
   "outputs": [],
   "source": [
    "# set number of evaluation qubits (samples)\n",
    "m = 5\n",
    "\n",
    "# assign qubit indices (state/uncertainty quits, compare with strike price qubit, objective qubit)\n",
    "i_state = range(num_uncertainty_qubits)\n",
    "i_compare = len(i_state)\n",
    "i_objective = i_compare + 1\n",
    "params = {'i_state': i_state, 'i_compare': i_compare, 'i_objective': i_objective}\n",
    "\n",
    "# construct amplitude estimation \n",
    "ae = AmplitudeEstimation(m, european_call)"
   ]
  },
  {
   "cell_type": "code",
   "execution_count": 8,
   "metadata": {},
   "outputs": [],
   "source": [
    "# get quantum circuit for amplitude estimation\n",
    "qc = ae.construct_circuit()"
   ]
  },
  {
   "cell_type": "code",
   "execution_count": 9,
   "metadata": {},
   "outputs": [],
   "source": [
    "# run circuit on statevector simulator\n",
    "import qiskit\n",
    "state_vector = np.asarray(execute(qc, qiskit.Aer.get_backend('statevector_simulator')).result().get_statevector(qc))\n",
    "\n",
    "state_probabilities = np.real(state_vector.conj() * state_vector)"
   ]
  },
  {
   "cell_type": "code",
   "execution_count": 10,
   "metadata": {
    "scrolled": true
   },
   "outputs": [
    {
     "name": "stdout",
     "output_type": "stream",
     "text": [
      "{'11011': 1, '10011': 40, '00011': 1, '01100': 12, '10100': 3, '00010': 2, '01010': 1, '11100': 27, '01011': 12, '01111': 1}\n"
     ]
    }
   ],
   "source": [
    "# run circuit on QASM simulator\n",
    "cr = ClassicalRegister(m)\n",
    "qc.add_register(cr)\n",
    "qc.measure([q for q in qc.qregs if q.name == 'a'][0], cr)\n",
    "shots = 100\n",
    "results = execute(qc, shots=shots, backend=qiskit.Aer.get_backend('qasm_simulator'))\n",
    "print(results.result().get_counts())\n",
    "y_items = []\n",
    "for state, counts in results.result().get_counts().items():\n",
    "    y_items += [(int(state[:m][::-1], 2), counts/shots)]"
   ]
  },
  {
   "cell_type": "code",
   "execution_count": 11,
   "metadata": {},
   "outputs": [
    {
     "name": "stdout",
     "output_type": "stream",
     "text": [
      "Exact value:    \t0.6345\n",
      "Estimated value:\t0.7516\n",
      "Probability:    \t0.6879\n"
     ]
    }
   ],
   "source": [
    "# evaluate results\n",
    "a_probabilities, y_probabilities = ae.evaluate_results(state_probabilities)\n",
    "\n",
    "a_items = [(a, p) for (a, p) in a_probabilities.items() if p > 1e-6]\n",
    "y_items = [(y, p) for (y, p) in y_probabilities.items() if p > 1e-6]\n",
    "a_items = sorted(a_items)\n",
    "y_items = sorted(y_items)\n",
    "\n",
    "# map estimated values to original range and extract probabilities\n",
    "mapped_values = [european_call.value_to_estimator(a_item[0]) for a_item in a_items]\n",
    "values = [a_item[0] for a_item in a_items]\n",
    "y_values = [y_item[0] for y_item in y_items]\n",
    "probabilities = [a_item[1] for a_item in a_items]\n",
    "mapped_items = [(mapped_values[i], probabilities[i]) for i in range(len(mapped_values))]\n",
    "\n",
    "# determine most likely estimator\n",
    "estimator = None\n",
    "max_prob = 0\n",
    "for val, prob in mapped_items:\n",
    "    if prob > max_prob:\n",
    "        max_prob = prob\n",
    "        estimator = val\n",
    "print('Exact value:    \\t%.4f' % exact_value)\n",
    "print('Estimated value:\\t%.4f' % estimator)\n",
    "print('Probability:    \\t%.4f' % max_prob)"
   ]
  },
  {
   "cell_type": "code",
   "execution_count": 12,
   "metadata": {},
   "outputs": [
    {
     "data": {
      "image/png": "[encoded data removed]",
      "text/plain": [
       "<Figure size 432x288 with 1 Axes>"
      ]
     },
     "metadata": {},
     "output_type": "display_data"
    },
    {
     "data": {
      "image/png": "[encoded data removed]",
      "text/plain": [
       "<Figure size 432x288 with 1 Axes>"
      ]
     },
     "metadata": {},
     "output_type": "display_data"
    }
   ],
   "source": [
    "# plot estimated values for \"a\"\n",
    "plt.bar(values, probabilities, width=0.5/len(probabilities))\n",
    "plt.xticks([0, 0.25, 0.5, 0.75, 1], size=15)\n",
    "plt.yticks([0, 0.25, 0.5, 0.75, 1], size=15)\n",
    "plt.title('\"a\" Value', size=15)\n",
    "plt.ylabel('Probability', size=15)\n",
    "plt.xlim((0,1))\n",
    "plt.ylim((0,1))\n",
    "plt.grid()\n",
    "plt.show()\n",
    "\n",
    "# plot estimated values for option price\n",
    "plt.bar(mapped_values, probabilities, width=1/len(probabilities))\n",
    "plt.plot([exact_value, exact_value], [0,1], 'r--', linewidth=2)\n",
    "plt.xticks(size=15)\n",
    "plt.yticks([0, 0.25, 0.5, 0.75, 1], size=15)\n",
    "plt.title('Estimated Option Price', size=15)\n",
    "plt.ylabel('Probability', size=15)\n",
    "plt.ylim((0,1))\n",
    "plt.grid()\n",
    "plt.show()"
   ]
  },
  {
   "cell_type": "markdown",
   "metadata": {},
   "source": [
    "## Evaluate Delta"
   ]
  },
  {
   "cell_type": "code",
   "execution_count": 13,
   "metadata": {},
   "outputs": [],
   "source": [
    "european_call_delta = EuropeanCallDelta(\n",
    "    uncertainty_model,\n",
    "    strike_price,\n",
    "    i_state=list(range(num_uncertainty_qubits)),\n",
    "    i_compare=num_uncertainty_qubits,\n",
    "    i_objective=num_uncertainty_qubits\n",
    ")"
   ]
  },
  {
   "cell_type": "code",
   "execution_count": 14,
   "metadata": {},
   "outputs": [],
   "source": [
    "# set number of evaluation qubits (samples)\n",
    "m = 2\n",
    "\n",
    "# construct amplitude estimation \n",
    "ae_delta = AmplitudeEstimation(m, european_call_delta)"
   ]
  },
  {
   "cell_type": "code",
   "execution_count": 15,
   "metadata": {},
   "outputs": [],
   "source": [
    "# get quantum circuit for amplitude estimation\n",
    "qc = ae_delta.construct_circuit()"
   ]
  },
  {
   "cell_type": "code",
   "execution_count": 16,
   "metadata": {},
   "outputs": [],
   "source": [
    "# run circuit\n",
    "state_vector = np.asarray(execute(qc, qiskit.Aer.get_backend('statevector_simulator')).result().get_statevector(qc))\n",
    "state_probabilities = np.real(state_vector.conj() * state_vector)"
   ]
  },
  {
   "cell_type": "code",
   "execution_count": 17,
   "metadata": {},
   "outputs": [
    {
     "name": "stdout",
     "output_type": "stream",
     "text": [
      "Exact delta:   \t0.8655\n",
      "Esimated value:\t1.0000\n",
      "Probability:   \t0.4604\n"
     ]
    }
   ],
   "source": [
    "# evaluate results\n",
    "a_probabilities, y_probabilities = ae.evaluate_results(state_probabilities)\n",
    "\n",
    "a_items = [(a, p) for (a, p) in a_probabilities.items() if p > 1e-6]\n",
    "y_items = [(y, p) for (y, p) in y_probabilities.items() if p > 1e-6]\n",
    "a_items = sorted(a_items)\n",
    "y_items = sorted(y_items)\n",
    "\n",
    "# map estimated values to original range and extract probabilities\n",
    "mapped_values = [a_item[0] for a_item in a_items]\n",
    "values = [a_item[0] for a_item in a_items]\n",
    "probabilities = [a_item[1] for a_item in a_items]\n",
    "mapped_items = [(mapped_values[i], probabilities[i]) for i in range(len(mapped_values))]\n",
    "\n",
    "# determine most likely estimator\n",
    "estimator = None\n",
    "max_prob = 0\n",
    "for val, prob in mapped_items:\n",
    "    if prob > max_prob:\n",
    "        max_prob = prob\n",
    "        estimator = val\n",
    "print('Exact delta:   \\t%.4f' % exact_delta)\n",
    "print('Esimated value:\\t%.4f' % estimator)\n",
    "print('Probability:   \\t%.4f' % max_prob)"
   ]
  },
  {
   "cell_type": "code",
   "execution_count": 18,
   "metadata": {},
   "outputs": [
    {
     "data": {
      "image/png": "[encoded data removed]",
      "text/plain": [
       "<Figure size 432x288 with 1 Axes>"
      ]
     },
     "metadata": {},
     "output_type": "display_data"
    }
   ],
   "source": [
    "# plot estimated values for delta\n",
    "plt.bar(values, probabilities, width=0.5/len(probabilities))\n",
    "plt.plot([exact_delta, exact_delta], [0,1], 'r--', linewidth=2)\n",
    "plt.xticks(size=15)\n",
    "plt.yticks([0, 0.25, 0.5, 0.75, 1], size=15)\n",
    "plt.title('Estimated Option Delta', size=15)\n",
    "plt.ylabel('Probability', size=15)\n",
    "plt.xlim((0,1))\n",
    "plt.ylim((0,1))\n",
    "plt.grid()\n",
    "plt.show()"
   ]
  }
 ],
 "metadata": {
  "kernelspec": {
   "display_name": "Python 3",
   "language": "python",
   "name": "python3"
  },
  "language_info": {
   "codemirror_mode": {
    "name": "ipython",
    "version": 3
   },
   "file_extension": ".py",
   "mimetype": "text/x-python",
   "name": "python",
   "nbconvert_exporter": "python",
   "pygments_lexer": "ipython3",
   "version": "3.6.5"
  }
 },
 "nbformat": 4,
 "nbformat_minor": 1
}
