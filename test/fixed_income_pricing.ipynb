{
 "cells": [
  {
   "cell_type": "markdown",
   "metadata": {},
   "source": [
    "# Pricing of fixed income assets\n",
    "\n",
    "Assuming an uncertain distribution of interest rates for different run times...\n",
    "\n",
    "Given a cashflow $c_t$, for time periods $t=1,...,T$ (face values, coupon payments, ...)\n",
    "[need to derive consistent interest rates for e.g. 1.5 years for coupons] ?\n",
    "\n",
    "TBD\n",
    "\n",
    "\n",
    "Net present value of cashflow is given by..."
   ]
  },
  {
   "cell_type": "code",
   "execution_count": 1,
   "metadata": {},
   "outputs": [],
   "source": [
    "from qiskit_aqua.components.uncertainty_models.multivariate_normal_distribution import MultivariateNormalDistribution\n",
    "from qiskit_aqua.components.uncertainty_problems.fixed_income_expected_value import FixedIncomeExpVal\n",
    "import matplotlib.pyplot as plt\n",
    "from qiskit import QuantumRegister, ClassicalRegister, QuantumCircuit, execute, Aer\n",
    "import numpy as np\n",
    "from qiskit_aqua.algorithms import AmplitudeEstimation"
   ]
  },
  {
   "cell_type": "code",
   "execution_count": 2,
   "metadata": {},
   "outputs": [],
   "source": [
    "# derive uncertainty model for the interest rates using real data\n",
    "A = np.eye(2)\n",
    "b = np.zeros(2)\n",
    "\n",
    "# specify the lower and upper bounds for the different dimension\n",
    "low = [-0.25, -0.1]\n",
    "high = [0.5, 0.1]\n",
    "mu = np.zeros(2)\n",
    "sigma = np.eye(2)\n",
    "\n",
    "# specify the number of qubits that are used to represent the different dimenions of the uncertainty model\n",
    "num_qubits = [2, 2]\n",
    "\n",
    "# construct corresponding distribution\n",
    "u = MultivariateNormalDistribution(num_qubits, low, high, mu, sigma)"
   ]
  },
  {
   "cell_type": "code",
   "execution_count": 3,
   "metadata": {},
   "outputs": [
    {
     "data": {
      "image/png": "[encoded data removed]",
      "text/plain": [
       "<Figure size 432x288 with 1 Axes>"
      ]
     },
     "metadata": {},
     "output_type": "display_data"
    }
   ],
   "source": [
    "plt.contourf(u.probabilities.reshape(2**num_qubits[0], 2**num_qubits[1]))\n",
    "plt.show()"
   ]
  },
  {
   "cell_type": "code",
   "execution_count": 4,
   "metadata": {},
   "outputs": [
    {
     "data": {
      "image/png": "[encoded data removed]",
      "text/plain": [
       "<Figure size 432x288 with 1 Axes>"
      ]
     },
     "metadata": {},
     "output_type": "display_data"
    }
   ],
   "source": [
    "# specify cash flow\n",
    "cf = [1.0, 2.0]\n",
    "periods = range(1, len(cf)+1)\n",
    "\n",
    "# plot cash flow\n",
    "plt.bar(periods, cf)\n",
    "plt.xticks(periods)\n",
    "plt.show()"
   ]
  },
  {
   "cell_type": "code",
   "execution_count": 5,
   "metadata": {},
   "outputs": [],
   "source": [
    "# estimate real value\n",
    "cnt = 0\n",
    "exact_value = 0.0\n",
    "for x1 in np.linspace(low[0], high[0], pow(2, num_qubits[0])):\n",
    "    for x2 in np.linspace(low[1], high[1], pow(2, num_qubits[1])):\n",
    "        prob = u.probabilities[cnt]\n",
    "        for t in range(len(cf)):\n",
    "            exact_value += prob * (cf[t]/pow(1 + b[t], t+1) - (t+1)*cf[t]*np.dot(A[:, t], np.asarray([x1, x2]))/pow(1 + b[t], t+2))\n",
    "        cnt += 1"
   ]
  },
  {
   "cell_type": "code",
   "execution_count": 6,
   "metadata": {},
   "outputs": [],
   "source": [
    "# specify approximation factor\n",
    "c_approx = 0.05\n",
    "\n",
    "# get fixed income circuit factory\n",
    "fixed_income = FixedIncomeExpVal(u, A, b, cf, c_approx)"
   ]
  },
  {
   "cell_type": "code",
   "execution_count": 7,
   "metadata": {},
   "outputs": [
    {
     "name": "stdout",
     "output_type": "stream",
     "text": [
      "value:       0.002\n",
      "estimation:  2.8781\n",
      "exact value: 2.8845\n"
     ]
    }
   ],
   "source": [
    "# evaluate via sampling\n",
    "q = QuantumRegister(fixed_income.num_target_qubits)\n",
    "c = ClassicalRegister(1)\n",
    "qc = QuantumCircuit(q, c)\n",
    "fixed_income.build(qc, q, params={'i_state': range(u.num_target_qubits), 'i_objective': u.num_target_qubits})\n",
    "\n",
    "qc.measure(q[u.num_target_qubits], c[0])\n",
    "\n",
    "shots = 1000\n",
    "job = execute(qc, backend=Aer.get_backend('qasm_simulator_py'), config={'shots': shots})\n",
    "result = job.result()\n",
    "value = result.get_counts()['1']/shots\n",
    "print('value:      ', value)\n",
    "print('estimation: ', np.round(fixed_income.value_to_estimator(value), decimals=4))\n",
    "print('exact value:', np.round(exact_value, decimals=4))"
   ]
  },
  {
   "cell_type": "code",
   "execution_count": 8,
   "metadata": {},
   "outputs": [],
   "source": [
    "# set number of evaluation qubits (samples)\n",
    "m = 2\n",
    "\n",
    "# construct amplitude estimation \n",
    "ae = AmplitudeEstimation(m, fixed_income)"
   ]
  },
  {
   "cell_type": "code",
   "execution_count": 9,
   "metadata": {},
   "outputs": [],
   "source": [
    "# result = ae.run(quantum_instance=Aer.get_backend('qasm_simulator_py'), shots=100)\n",
    "result = ae.run(quantum_instance=Aer.get_backend('statevector_simulator_py'))"
   ]
  },
  {
   "cell_type": "code",
   "execution_count": 10,
   "metadata": {},
   "outputs": [
    {
     "name": "stdout",
     "output_type": "stream",
     "text": [
      "Exact value:    \t2.8845\n",
      "Estimated value:\t2.8750\n",
      "Probability:    \t0.9916\n"
     ]
    }
   ],
   "source": [
    "print('Exact value:    \\t%.4f' % exact_value)\n",
    "print('Estimated value:\\t%.4f' % result['estimation'])\n",
    "print('Probability:    \\t%.4f' % result['max_probability'])"
   ]
  },
  {
   "cell_type": "code",
   "execution_count": 11,
   "metadata": {},
   "outputs": [
    {
     "data": {
      "text/plain": [
       "{'statevector': array([[ 0.24655024-4.20000000e-15j,  0.00168292+8.00000000e-16j,\n",
       "          0.0012679 -2.10364453e-03j, ...,  0.        +0.00000000e+00j,\n",
       "          0.        -0.00000000e+00j, -0.        +0.00000000e+00j]]),\n",
       " 'a_items': [(0.0, 0.9915770433680783),\n",
       "  (0.4999999999999999, 0.0067451976509850554),\n",
       "  (1.0, 0.0016777589809362818)],\n",
       " 'y_items': [(0, 0.9915770433680783),\n",
       "  (1, 0.003372598825492462),\n",
       "  (2, 0.0016777589809362818),\n",
       "  (3, 0.0033725988254925936)],\n",
       " 'mapped_values': [2.875, 3.6499999999999995, 4.425],\n",
       " 'values': [0.0, 0.4999999999999999, 1.0],\n",
       " 'y_values': [0, 1, 2, 3],\n",
       " 'probabilities': [0.9915770433680783,\n",
       "  0.0067451976509850554,\n",
       "  0.0016777589809362818],\n",
       " 'mapped_items': [(2.875, 0.9915770433680783),\n",
       "  (3.6499999999999995, 0.0067451976509850554),\n",
       "  (4.425, 0.0016777589809362818)],\n",
       " 'estimation': 2.875,\n",
       " 'max_probability': 0.9915770433680783}"
      ]
     },
     "execution_count": 11,
     "metadata": {},
     "output_type": "execute_result"
    }
   ],
   "source": [
    "result"
   ]
  },
  {
   "cell_type": "code",
   "execution_count": 12,
   "metadata": {},
   "outputs": [
    {
     "data": {
      "image/png": "[encoded data removed]",
      "text/plain": [
       "<Figure size 432x288 with 1 Axes>"
      ]
     },
     "metadata": {},
     "output_type": "display_data"
    },
    {
     "data": {
      "image/png": "[encoded data removed]",
      "text/plain": [
       "<Figure size 432x288 with 1 Axes>"
      ]
     },
     "metadata": {},
     "output_type": "display_data"
    }
   ],
   "source": [
    "# plot estimated values for \"a\"\n",
    "plt.bar(result['values'], result['probabilities'], width=0.5/len(result['probabilities']))\n",
    "plt.xticks([0, 0.25, 0.5, 0.75, 1], size=15)\n",
    "plt.yticks([0, 0.25, 0.5, 0.75, 1], size=15)\n",
    "plt.title('\"a\" Value', size=15)\n",
    "plt.ylabel('Probability', size=15)\n",
    "plt.xlim((0,1))\n",
    "plt.ylim((0,1))\n",
    "plt.grid()\n",
    "plt.show()\n",
    "\n",
    "# plot estimated values for option price\n",
    "plt.bar(result['mapped_values'], result['probabilities'], width=1/len(result['probabilities']))\n",
    "plt.plot([exact_value, exact_value], [0,1], 'r--', linewidth=2)\n",
    "plt.xticks(size=15)\n",
    "plt.yticks([0, 0.25, 0.5, 0.75, 1], size=15)\n",
    "plt.title('Estimated Option Price', size=15)\n",
    "plt.ylabel('Probability', size=15)\n",
    "plt.ylim((0,1))\n",
    "plt.grid()\n",
    "plt.show()"
   ]
  },
  {
   "cell_type": "code",
   "execution_count": null,
   "metadata": {},
   "outputs": [],
   "source": []
  }
 ],
 "metadata": {
  "kernelspec": {
   "display_name": "Python 3",
   "language": "python",
   "name": "python3"
  },
  "language_info": {
   "codemirror_mode": {
    "name": "ipython",
    "version": 3
   },
   "file_extension": ".py",
   "mimetype": "text/x-python",
   "name": "python",
   "nbconvert_exporter": "python",
   "pygments_lexer": "ipython3",
   "version": "3.6.5"
  }
 },
 "nbformat": 4,
 "nbformat_minor": 1
}
